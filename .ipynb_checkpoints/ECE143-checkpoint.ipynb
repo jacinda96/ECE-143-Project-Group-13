{
 "cells": [
  {
   "cell_type": "markdown",
   "metadata": {},
   "source": [
    "# Data Processing"
   ]
  },
  {
   "cell_type": "code",
   "execution_count": 1,
   "metadata": {},
   "outputs": [],
   "source": [
    "import pandas as pd"
   ]
  },
  {
   "cell_type": "code",
   "execution_count": 2,
   "metadata": {},
   "outputs": [],
   "source": [
    "data_cab = pd.read_csv(\"./uber-lyft-cab-prices/cab_rides.csv\",delimiter=',')\n",
    "data_weather = pd.read_csv(\"./uber-lyft-cab-prices/weather.csv\",delimiter=',')"
   ]
  },
  {
   "cell_type": "code",
   "execution_count": 3,
   "metadata": {},
   "outputs": [
    {
     "data": {
      "text/html": [
       "<div>\n",
       "<style scoped>\n",
       "    .dataframe tbody tr th:only-of-type {\n",
       "        vertical-align: middle;\n",
       "    }\n",
       "\n",
       "    .dataframe tbody tr th {\n",
       "        vertical-align: top;\n",
       "    }\n",
       "\n",
       "    .dataframe thead th {\n",
       "        text-align: right;\n",
       "    }\n",
       "</style>\n",
       "<table border=\"1\" class=\"dataframe\">\n",
       "  <thead>\n",
       "    <tr style=\"text-align: right;\">\n",
       "      <th></th>\n",
       "      <th>distance</th>\n",
       "      <th>cab_type</th>\n",
       "      <th>time_stamp</th>\n",
       "      <th>destination</th>\n",
       "      <th>source</th>\n",
       "      <th>price</th>\n",
       "      <th>surge_multiplier</th>\n",
       "      <th>id</th>\n",
       "      <th>product_id</th>\n",
       "      <th>name</th>\n",
       "    </tr>\n",
       "  </thead>\n",
       "  <tbody>\n",
       "    <tr>\n",
       "      <th>0</th>\n",
       "      <td>0.44</td>\n",
       "      <td>Lyft</td>\n",
       "      <td>1544952607890</td>\n",
       "      <td>North Station</td>\n",
       "      <td>Haymarket Square</td>\n",
       "      <td>5.0</td>\n",
       "      <td>1.0</td>\n",
       "      <td>424553bb-7174-41ea-aeb4-fe06d4f4b9d7</td>\n",
       "      <td>lyft_line</td>\n",
       "      <td>Shared</td>\n",
       "    </tr>\n",
       "    <tr>\n",
       "      <th>1</th>\n",
       "      <td>0.44</td>\n",
       "      <td>Lyft</td>\n",
       "      <td>1543284023677</td>\n",
       "      <td>North Station</td>\n",
       "      <td>Haymarket Square</td>\n",
       "      <td>11.0</td>\n",
       "      <td>1.0</td>\n",
       "      <td>4bd23055-6827-41c6-b23b-3c491f24e74d</td>\n",
       "      <td>lyft_premier</td>\n",
       "      <td>Lux</td>\n",
       "    </tr>\n",
       "    <tr>\n",
       "      <th>2</th>\n",
       "      <td>0.44</td>\n",
       "      <td>Lyft</td>\n",
       "      <td>1543366822198</td>\n",
       "      <td>North Station</td>\n",
       "      <td>Haymarket Square</td>\n",
       "      <td>7.0</td>\n",
       "      <td>1.0</td>\n",
       "      <td>981a3613-77af-4620-a42a-0c0866077d1e</td>\n",
       "      <td>lyft</td>\n",
       "      <td>Lyft</td>\n",
       "    </tr>\n",
       "    <tr>\n",
       "      <th>3</th>\n",
       "      <td>0.44</td>\n",
       "      <td>Lyft</td>\n",
       "      <td>1543553582749</td>\n",
       "      <td>North Station</td>\n",
       "      <td>Haymarket Square</td>\n",
       "      <td>26.0</td>\n",
       "      <td>1.0</td>\n",
       "      <td>c2d88af2-d278-4bfd-a8d0-29ca77cc5512</td>\n",
       "      <td>lyft_luxsuv</td>\n",
       "      <td>Lux Black XL</td>\n",
       "    </tr>\n",
       "    <tr>\n",
       "      <th>4</th>\n",
       "      <td>0.44</td>\n",
       "      <td>Lyft</td>\n",
       "      <td>1543463360223</td>\n",
       "      <td>North Station</td>\n",
       "      <td>Haymarket Square</td>\n",
       "      <td>9.0</td>\n",
       "      <td>1.0</td>\n",
       "      <td>e0126e1f-8ca9-4f2e-82b3-50505a09db9a</td>\n",
       "      <td>lyft_plus</td>\n",
       "      <td>Lyft XL</td>\n",
       "    </tr>\n",
       "  </tbody>\n",
       "</table>\n",
       "</div>"
      ],
      "text/plain": [
       "   distance cab_type     time_stamp    destination            source  price  \\\n",
       "0      0.44     Lyft  1544952607890  North Station  Haymarket Square    5.0   \n",
       "1      0.44     Lyft  1543284023677  North Station  Haymarket Square   11.0   \n",
       "2      0.44     Lyft  1543366822198  North Station  Haymarket Square    7.0   \n",
       "3      0.44     Lyft  1543553582749  North Station  Haymarket Square   26.0   \n",
       "4      0.44     Lyft  1543463360223  North Station  Haymarket Square    9.0   \n",
       "\n",
       "   surge_multiplier                                    id    product_id  \\\n",
       "0               1.0  424553bb-7174-41ea-aeb4-fe06d4f4b9d7     lyft_line   \n",
       "1               1.0  4bd23055-6827-41c6-b23b-3c491f24e74d  lyft_premier   \n",
       "2               1.0  981a3613-77af-4620-a42a-0c0866077d1e          lyft   \n",
       "3               1.0  c2d88af2-d278-4bfd-a8d0-29ca77cc5512   lyft_luxsuv   \n",
       "4               1.0  e0126e1f-8ca9-4f2e-82b3-50505a09db9a     lyft_plus   \n",
       "\n",
       "           name  \n",
       "0        Shared  \n",
       "1           Lux  \n",
       "2          Lyft  \n",
       "3  Lux Black XL  \n",
       "4       Lyft XL  "
      ]
     },
     "execution_count": 3,
     "metadata": {},
     "output_type": "execute_result"
    }
   ],
   "source": [
    "data_cab.head()"
   ]
  },
  {
   "cell_type": "code",
   "execution_count": 4,
   "metadata": {},
   "outputs": [],
   "source": [
    "data_cab = data_cab.drop(columns=['id','product_id'])"
   ]
  },
  {
   "cell_type": "code",
   "execution_count": 5,
   "metadata": {},
   "outputs": [
    {
     "data": {
      "text/html": [
       "<div>\n",
       "<style scoped>\n",
       "    .dataframe tbody tr th:only-of-type {\n",
       "        vertical-align: middle;\n",
       "    }\n",
       "\n",
       "    .dataframe tbody tr th {\n",
       "        vertical-align: top;\n",
       "    }\n",
       "\n",
       "    .dataframe thead th {\n",
       "        text-align: right;\n",
       "    }\n",
       "</style>\n",
       "<table border=\"1\" class=\"dataframe\">\n",
       "  <thead>\n",
       "    <tr style=\"text-align: right;\">\n",
       "      <th></th>\n",
       "      <th>temp</th>\n",
       "      <th>location</th>\n",
       "      <th>clouds</th>\n",
       "      <th>pressure</th>\n",
       "      <th>rain</th>\n",
       "      <th>time_stamp</th>\n",
       "      <th>humidity</th>\n",
       "      <th>wind</th>\n",
       "    </tr>\n",
       "  </thead>\n",
       "  <tbody>\n",
       "    <tr>\n",
       "      <th>0</th>\n",
       "      <td>42.42</td>\n",
       "      <td>Back Bay</td>\n",
       "      <td>1.0</td>\n",
       "      <td>1012.14</td>\n",
       "      <td>0.1228</td>\n",
       "      <td>1545003901</td>\n",
       "      <td>0.77</td>\n",
       "      <td>11.25</td>\n",
       "    </tr>\n",
       "    <tr>\n",
       "      <th>1</th>\n",
       "      <td>42.43</td>\n",
       "      <td>Beacon Hill</td>\n",
       "      <td>1.0</td>\n",
       "      <td>1012.15</td>\n",
       "      <td>0.1846</td>\n",
       "      <td>1545003901</td>\n",
       "      <td>0.76</td>\n",
       "      <td>11.32</td>\n",
       "    </tr>\n",
       "    <tr>\n",
       "      <th>2</th>\n",
       "      <td>42.50</td>\n",
       "      <td>Boston University</td>\n",
       "      <td>1.0</td>\n",
       "      <td>1012.15</td>\n",
       "      <td>0.1089</td>\n",
       "      <td>1545003901</td>\n",
       "      <td>0.76</td>\n",
       "      <td>11.07</td>\n",
       "    </tr>\n",
       "    <tr>\n",
       "      <th>3</th>\n",
       "      <td>42.11</td>\n",
       "      <td>Fenway</td>\n",
       "      <td>1.0</td>\n",
       "      <td>1012.13</td>\n",
       "      <td>0.0969</td>\n",
       "      <td>1545003901</td>\n",
       "      <td>0.77</td>\n",
       "      <td>11.09</td>\n",
       "    </tr>\n",
       "    <tr>\n",
       "      <th>4</th>\n",
       "      <td>43.13</td>\n",
       "      <td>Financial District</td>\n",
       "      <td>1.0</td>\n",
       "      <td>1012.14</td>\n",
       "      <td>0.1786</td>\n",
       "      <td>1545003901</td>\n",
       "      <td>0.75</td>\n",
       "      <td>11.49</td>\n",
       "    </tr>\n",
       "  </tbody>\n",
       "</table>\n",
       "</div>"
      ],
      "text/plain": [
       "    temp            location  clouds  pressure    rain  time_stamp  humidity  \\\n",
       "0  42.42            Back Bay     1.0   1012.14  0.1228  1545003901      0.77   \n",
       "1  42.43         Beacon Hill     1.0   1012.15  0.1846  1545003901      0.76   \n",
       "2  42.50   Boston University     1.0   1012.15  0.1089  1545003901      0.76   \n",
       "3  42.11              Fenway     1.0   1012.13  0.0969  1545003901      0.77   \n",
       "4  43.13  Financial District     1.0   1012.14  0.1786  1545003901      0.75   \n",
       "\n",
       "    wind  \n",
       "0  11.25  \n",
       "1  11.32  \n",
       "2  11.07  \n",
       "3  11.09  \n",
       "4  11.49  "
      ]
     },
     "execution_count": 5,
     "metadata": {},
     "output_type": "execute_result"
    }
   ],
   "source": [
    "data_weather.head()"
   ]
  },
  {
   "cell_type": "code",
   "execution_count": 6,
   "metadata": {},
   "outputs": [],
   "source": [
    "from datetime import datetime\n",
    "data_cab['date_time'] = [datetime.utcfromtimestamp(i/1000).strftime('%Y-%m-%d:%H') for i in data_cab['time_stamp']]\n",
    "data_cab['date'] = [datetime.utcfromtimestamp(i/1000).strftime('%Y-%m-%d') for i in data_cab['time_stamp']]\n",
    "data_cab['time'] = [datetime.utcfromtimestamp(i/1000).strftime('%H:%M') for i in data_cab['time_stamp']]\n",
    "data_cab['weekday'] = [(pd.Timestamp(i)).dayofweek for i in data_cab['date']]\n",
    "data_cab = data_cab.drop(columns=['time_stamp'])\n",
    "data_weather['date_time'] = [datetime.utcfromtimestamp(i).strftime('%Y-%m-%d:%H') for i in data_weather['time_stamp']]\n",
    "data_weather = data_weather.drop(columns=['time_stamp'])"
   ]
  },
  {
   "cell_type": "code",
   "execution_count": 9,
   "metadata": {},
   "outputs": [],
   "source": [
    "data_cab['date-location'] = data_cab.source.astype(str)+\",\"+data_cab.date_time.astype(str)\n",
    "data_weather['date-location'] = data_weather.location.astype(str)+\",\"+data_weather.date_time.astype(str)"
   ]
  },
  {
   "cell_type": "code",
   "execution_count": 10,
   "metadata": {},
   "outputs": [
    {
     "data": {
      "text/html": [
       "<div>\n",
       "<style scoped>\n",
       "    .dataframe tbody tr th:only-of-type {\n",
       "        vertical-align: middle;\n",
       "    }\n",
       "\n",
       "    .dataframe tbody tr th {\n",
       "        vertical-align: top;\n",
       "    }\n",
       "\n",
       "    .dataframe thead th {\n",
       "        text-align: right;\n",
       "    }\n",
       "</style>\n",
       "<table border=\"1\" class=\"dataframe\">\n",
       "  <thead>\n",
       "    <tr style=\"text-align: right;\">\n",
       "      <th></th>\n",
       "      <th>distance</th>\n",
       "      <th>cab_type</th>\n",
       "      <th>destination</th>\n",
       "      <th>source</th>\n",
       "      <th>price</th>\n",
       "      <th>surge_multiplier</th>\n",
       "      <th>name</th>\n",
       "      <th>date_time</th>\n",
       "      <th>date</th>\n",
       "      <th>time</th>\n",
       "      <th>weekday</th>\n",
       "      <th>date-location</th>\n",
       "    </tr>\n",
       "  </thead>\n",
       "  <tbody>\n",
       "    <tr>\n",
       "      <th>0</th>\n",
       "      <td>0.44</td>\n",
       "      <td>Lyft</td>\n",
       "      <td>North Station</td>\n",
       "      <td>Haymarket Square</td>\n",
       "      <td>5.0</td>\n",
       "      <td>1.0</td>\n",
       "      <td>Shared</td>\n",
       "      <td>2018-12-16:09</td>\n",
       "      <td>2018-12-16</td>\n",
       "      <td>09:30</td>\n",
       "      <td>6</td>\n",
       "      <td>Haymarket Square,2018-12-16:09</td>\n",
       "    </tr>\n",
       "    <tr>\n",
       "      <th>1</th>\n",
       "      <td>0.44</td>\n",
       "      <td>Lyft</td>\n",
       "      <td>North Station</td>\n",
       "      <td>Haymarket Square</td>\n",
       "      <td>11.0</td>\n",
       "      <td>1.0</td>\n",
       "      <td>Lux</td>\n",
       "      <td>2018-11-27:02</td>\n",
       "      <td>2018-11-27</td>\n",
       "      <td>02:00</td>\n",
       "      <td>1</td>\n",
       "      <td>Haymarket Square,2018-11-27:02</td>\n",
       "    </tr>\n",
       "    <tr>\n",
       "      <th>2</th>\n",
       "      <td>0.44</td>\n",
       "      <td>Lyft</td>\n",
       "      <td>North Station</td>\n",
       "      <td>Haymarket Square</td>\n",
       "      <td>7.0</td>\n",
       "      <td>1.0</td>\n",
       "      <td>Lyft</td>\n",
       "      <td>2018-11-28:01</td>\n",
       "      <td>2018-11-28</td>\n",
       "      <td>01:00</td>\n",
       "      <td>2</td>\n",
       "      <td>Haymarket Square,2018-11-28:01</td>\n",
       "    </tr>\n",
       "    <tr>\n",
       "      <th>3</th>\n",
       "      <td>0.44</td>\n",
       "      <td>Lyft</td>\n",
       "      <td>North Station</td>\n",
       "      <td>Haymarket Square</td>\n",
       "      <td>26.0</td>\n",
       "      <td>1.0</td>\n",
       "      <td>Lux Black XL</td>\n",
       "      <td>2018-11-30:04</td>\n",
       "      <td>2018-11-30</td>\n",
       "      <td>04:53</td>\n",
       "      <td>4</td>\n",
       "      <td>Haymarket Square,2018-11-30:04</td>\n",
       "    </tr>\n",
       "    <tr>\n",
       "      <th>4</th>\n",
       "      <td>0.44</td>\n",
       "      <td>Lyft</td>\n",
       "      <td>North Station</td>\n",
       "      <td>Haymarket Square</td>\n",
       "      <td>9.0</td>\n",
       "      <td>1.0</td>\n",
       "      <td>Lyft XL</td>\n",
       "      <td>2018-11-29:03</td>\n",
       "      <td>2018-11-29</td>\n",
       "      <td>03:49</td>\n",
       "      <td>3</td>\n",
       "      <td>Haymarket Square,2018-11-29:03</td>\n",
       "    </tr>\n",
       "  </tbody>\n",
       "</table>\n",
       "</div>"
      ],
      "text/plain": [
       "   distance cab_type    destination            source  price  \\\n",
       "0      0.44     Lyft  North Station  Haymarket Square    5.0   \n",
       "1      0.44     Lyft  North Station  Haymarket Square   11.0   \n",
       "2      0.44     Lyft  North Station  Haymarket Square    7.0   \n",
       "3      0.44     Lyft  North Station  Haymarket Square   26.0   \n",
       "4      0.44     Lyft  North Station  Haymarket Square    9.0   \n",
       "\n",
       "   surge_multiplier          name      date_time        date   time  weekday  \\\n",
       "0               1.0        Shared  2018-12-16:09  2018-12-16  09:30        6   \n",
       "1               1.0           Lux  2018-11-27:02  2018-11-27  02:00        1   \n",
       "2               1.0          Lyft  2018-11-28:01  2018-11-28  01:00        2   \n",
       "3               1.0  Lux Black XL  2018-11-30:04  2018-11-30  04:53        4   \n",
       "4               1.0       Lyft XL  2018-11-29:03  2018-11-29  03:49        3   \n",
       "\n",
       "                    date-location  \n",
       "0  Haymarket Square,2018-12-16:09  \n",
       "1  Haymarket Square,2018-11-27:02  \n",
       "2  Haymarket Square,2018-11-28:01  \n",
       "3  Haymarket Square,2018-11-30:04  \n",
       "4  Haymarket Square,2018-11-29:03  "
      ]
     },
     "execution_count": 10,
     "metadata": {},
     "output_type": "execute_result"
    }
   ],
   "source": [
    "data_cab.head()"
   ]
  },
  {
   "cell_type": "code",
   "execution_count": 11,
   "metadata": {},
   "outputs": [
    {
     "data": {
      "text/html": [
       "<div>\n",
       "<style scoped>\n",
       "    .dataframe tbody tr th:only-of-type {\n",
       "        vertical-align: middle;\n",
       "    }\n",
       "\n",
       "    .dataframe tbody tr th {\n",
       "        vertical-align: top;\n",
       "    }\n",
       "\n",
       "    .dataframe thead th {\n",
       "        text-align: right;\n",
       "    }\n",
       "</style>\n",
       "<table border=\"1\" class=\"dataframe\">\n",
       "  <thead>\n",
       "    <tr style=\"text-align: right;\">\n",
       "      <th></th>\n",
       "      <th>temp</th>\n",
       "      <th>location</th>\n",
       "      <th>clouds</th>\n",
       "      <th>pressure</th>\n",
       "      <th>rain</th>\n",
       "      <th>humidity</th>\n",
       "      <th>wind</th>\n",
       "      <th>date_time</th>\n",
       "      <th>date-location</th>\n",
       "    </tr>\n",
       "  </thead>\n",
       "  <tbody>\n",
       "    <tr>\n",
       "      <th>0</th>\n",
       "      <td>42.42</td>\n",
       "      <td>Back Bay</td>\n",
       "      <td>1.0</td>\n",
       "      <td>1012.14</td>\n",
       "      <td>0.1228</td>\n",
       "      <td>0.77</td>\n",
       "      <td>11.25</td>\n",
       "      <td>2018-12-16:23</td>\n",
       "      <td>Back Bay,2018-12-16:23</td>\n",
       "    </tr>\n",
       "    <tr>\n",
       "      <th>1</th>\n",
       "      <td>42.43</td>\n",
       "      <td>Beacon Hill</td>\n",
       "      <td>1.0</td>\n",
       "      <td>1012.15</td>\n",
       "      <td>0.1846</td>\n",
       "      <td>0.76</td>\n",
       "      <td>11.32</td>\n",
       "      <td>2018-12-16:23</td>\n",
       "      <td>Beacon Hill,2018-12-16:23</td>\n",
       "    </tr>\n",
       "    <tr>\n",
       "      <th>2</th>\n",
       "      <td>42.50</td>\n",
       "      <td>Boston University</td>\n",
       "      <td>1.0</td>\n",
       "      <td>1012.15</td>\n",
       "      <td>0.1089</td>\n",
       "      <td>0.76</td>\n",
       "      <td>11.07</td>\n",
       "      <td>2018-12-16:23</td>\n",
       "      <td>Boston University,2018-12-16:23</td>\n",
       "    </tr>\n",
       "    <tr>\n",
       "      <th>3</th>\n",
       "      <td>42.11</td>\n",
       "      <td>Fenway</td>\n",
       "      <td>1.0</td>\n",
       "      <td>1012.13</td>\n",
       "      <td>0.0969</td>\n",
       "      <td>0.77</td>\n",
       "      <td>11.09</td>\n",
       "      <td>2018-12-16:23</td>\n",
       "      <td>Fenway,2018-12-16:23</td>\n",
       "    </tr>\n",
       "    <tr>\n",
       "      <th>4</th>\n",
       "      <td>43.13</td>\n",
       "      <td>Financial District</td>\n",
       "      <td>1.0</td>\n",
       "      <td>1012.14</td>\n",
       "      <td>0.1786</td>\n",
       "      <td>0.75</td>\n",
       "      <td>11.49</td>\n",
       "      <td>2018-12-16:23</td>\n",
       "      <td>Financial District,2018-12-16:23</td>\n",
       "    </tr>\n",
       "  </tbody>\n",
       "</table>\n",
       "</div>"
      ],
      "text/plain": [
       "    temp            location  clouds  pressure    rain  humidity   wind  \\\n",
       "0  42.42            Back Bay     1.0   1012.14  0.1228      0.77  11.25   \n",
       "1  42.43         Beacon Hill     1.0   1012.15  0.1846      0.76  11.32   \n",
       "2  42.50   Boston University     1.0   1012.15  0.1089      0.76  11.07   \n",
       "3  42.11              Fenway     1.0   1012.13  0.0969      0.77  11.09   \n",
       "4  43.13  Financial District     1.0   1012.14  0.1786      0.75  11.49   \n",
       "\n",
       "       date_time                     date-location  \n",
       "0  2018-12-16:23            Back Bay,2018-12-16:23  \n",
       "1  2018-12-16:23         Beacon Hill,2018-12-16:23  \n",
       "2  2018-12-16:23   Boston University,2018-12-16:23  \n",
       "3  2018-12-16:23              Fenway,2018-12-16:23  \n",
       "4  2018-12-16:23  Financial District,2018-12-16:23  "
      ]
     },
     "execution_count": 11,
     "metadata": {},
     "output_type": "execute_result"
    }
   ],
   "source": [
    "data_weather.head()"
   ]
  },
  {
   "cell_type": "code",
   "execution_count": 12,
   "metadata": {},
   "outputs": [],
   "source": [
    "data_weather.index = data_weather['date-location']\n",
    "data_merged = data_cab.join(data_weather,on=['date-location'],rsuffix ='_copy')"
   ]
  },
  {
   "cell_type": "code",
   "execution_count": 13,
   "metadata": {},
   "outputs": [],
   "source": [
    "import numpy as np\n",
    "data_merged = data_merged[pd.notnull(data_merged['temp'])]\n",
    "data_merged['rain'] = data_merged['rain'].replace(np.nan,0)"
   ]
  },
  {
   "cell_type": "code",
   "execution_count": 14,
   "metadata": {},
   "outputs": [],
   "source": [
    "data_merged = data_merged.drop(columns=['date_time_copy','date-location_copy'])"
   ]
  },
  {
   "cell_type": "code",
   "execution_count": 15,
   "metadata": {},
   "outputs": [],
   "source": [
    "data_merged = data_merged.drop(columns=['date-location','location'])"
   ]
  },
  {
   "cell_type": "code",
   "execution_count": 16,
   "metadata": {},
   "outputs": [
    {
     "data": {
      "text/html": [
       "<div>\n",
       "<style scoped>\n",
       "    .dataframe tbody tr th:only-of-type {\n",
       "        vertical-align: middle;\n",
       "    }\n",
       "\n",
       "    .dataframe tbody tr th {\n",
       "        vertical-align: top;\n",
       "    }\n",
       "\n",
       "    .dataframe thead th {\n",
       "        text-align: right;\n",
       "    }\n",
       "</style>\n",
       "<table border=\"1\" class=\"dataframe\">\n",
       "  <thead>\n",
       "    <tr style=\"text-align: right;\">\n",
       "      <th></th>\n",
       "      <th>distance</th>\n",
       "      <th>cab_type</th>\n",
       "      <th>destination</th>\n",
       "      <th>source</th>\n",
       "      <th>price</th>\n",
       "      <th>surge_multiplier</th>\n",
       "      <th>name</th>\n",
       "      <th>date_time</th>\n",
       "      <th>date</th>\n",
       "      <th>time</th>\n",
       "      <th>weekday</th>\n",
       "      <th>temp</th>\n",
       "      <th>clouds</th>\n",
       "      <th>pressure</th>\n",
       "      <th>rain</th>\n",
       "      <th>humidity</th>\n",
       "      <th>wind</th>\n",
       "    </tr>\n",
       "  </thead>\n",
       "  <tbody>\n",
       "    <tr>\n",
       "      <th>0</th>\n",
       "      <td>0.44</td>\n",
       "      <td>Lyft</td>\n",
       "      <td>North Station</td>\n",
       "      <td>Haymarket Square</td>\n",
       "      <td>5.0</td>\n",
       "      <td>1.0</td>\n",
       "      <td>Shared</td>\n",
       "      <td>2018-12-16:09</td>\n",
       "      <td>2018-12-16</td>\n",
       "      <td>09:30</td>\n",
       "      <td>6</td>\n",
       "      <td>38.46</td>\n",
       "      <td>0.29</td>\n",
       "      <td>1022.25</td>\n",
       "      <td>0.0000</td>\n",
       "      <td>0.76</td>\n",
       "      <td>7.68</td>\n",
       "    </tr>\n",
       "    <tr>\n",
       "      <th>1</th>\n",
       "      <td>0.44</td>\n",
       "      <td>Lyft</td>\n",
       "      <td>North Station</td>\n",
       "      <td>Haymarket Square</td>\n",
       "      <td>11.0</td>\n",
       "      <td>1.0</td>\n",
       "      <td>Lux</td>\n",
       "      <td>2018-11-27:02</td>\n",
       "      <td>2018-11-27</td>\n",
       "      <td>02:00</td>\n",
       "      <td>1</td>\n",
       "      <td>44.31</td>\n",
       "      <td>1.00</td>\n",
       "      <td>1003.17</td>\n",
       "      <td>0.1123</td>\n",
       "      <td>0.90</td>\n",
       "      <td>13.69</td>\n",
       "    </tr>\n",
       "    <tr>\n",
       "      <th>1</th>\n",
       "      <td>0.44</td>\n",
       "      <td>Lyft</td>\n",
       "      <td>North Station</td>\n",
       "      <td>Haymarket Square</td>\n",
       "      <td>11.0</td>\n",
       "      <td>1.0</td>\n",
       "      <td>Lux</td>\n",
       "      <td>2018-11-27:02</td>\n",
       "      <td>2018-11-27</td>\n",
       "      <td>02:00</td>\n",
       "      <td>1</td>\n",
       "      <td>43.82</td>\n",
       "      <td>0.99</td>\n",
       "      <td>1002.59</td>\n",
       "      <td>0.0997</td>\n",
       "      <td>0.89</td>\n",
       "      <td>11.57</td>\n",
       "    </tr>\n",
       "    <tr>\n",
       "      <th>3</th>\n",
       "      <td>0.44</td>\n",
       "      <td>Lyft</td>\n",
       "      <td>North Station</td>\n",
       "      <td>Haymarket Square</td>\n",
       "      <td>26.0</td>\n",
       "      <td>1.0</td>\n",
       "      <td>Lux Black XL</td>\n",
       "      <td>2018-11-30:04</td>\n",
       "      <td>2018-11-30</td>\n",
       "      <td>04:53</td>\n",
       "      <td>4</td>\n",
       "      <td>35.08</td>\n",
       "      <td>0.00</td>\n",
       "      <td>1013.71</td>\n",
       "      <td>0.0000</td>\n",
       "      <td>0.70</td>\n",
       "      <td>5.25</td>\n",
       "    </tr>\n",
       "    <tr>\n",
       "      <th>4</th>\n",
       "      <td>0.44</td>\n",
       "      <td>Lyft</td>\n",
       "      <td>North Station</td>\n",
       "      <td>Haymarket Square</td>\n",
       "      <td>9.0</td>\n",
       "      <td>1.0</td>\n",
       "      <td>Lyft XL</td>\n",
       "      <td>2018-11-29:03</td>\n",
       "      <td>2018-11-29</td>\n",
       "      <td>03:49</td>\n",
       "      <td>3</td>\n",
       "      <td>37.58</td>\n",
       "      <td>0.42</td>\n",
       "      <td>998.64</td>\n",
       "      <td>0.0000</td>\n",
       "      <td>0.71</td>\n",
       "      <td>11.30</td>\n",
       "    </tr>\n",
       "    <tr>\n",
       "      <th>4</th>\n",
       "      <td>0.44</td>\n",
       "      <td>Lyft</td>\n",
       "      <td>North Station</td>\n",
       "      <td>Haymarket Square</td>\n",
       "      <td>9.0</td>\n",
       "      <td>1.0</td>\n",
       "      <td>Lyft XL</td>\n",
       "      <td>2018-11-29:03</td>\n",
       "      <td>2018-11-29</td>\n",
       "      <td>03:49</td>\n",
       "      <td>3</td>\n",
       "      <td>37.80</td>\n",
       "      <td>0.47</td>\n",
       "      <td>998.20</td>\n",
       "      <td>0.0000</td>\n",
       "      <td>0.70</td>\n",
       "      <td>11.02</td>\n",
       "    </tr>\n",
       "    <tr>\n",
       "      <th>4</th>\n",
       "      <td>0.44</td>\n",
       "      <td>Lyft</td>\n",
       "      <td>North Station</td>\n",
       "      <td>Haymarket Square</td>\n",
       "      <td>9.0</td>\n",
       "      <td>1.0</td>\n",
       "      <td>Lyft XL</td>\n",
       "      <td>2018-11-29:03</td>\n",
       "      <td>2018-11-29</td>\n",
       "      <td>03:49</td>\n",
       "      <td>3</td>\n",
       "      <td>37.66</td>\n",
       "      <td>0.41</td>\n",
       "      <td>998.42</td>\n",
       "      <td>0.0000</td>\n",
       "      <td>0.71</td>\n",
       "      <td>11.16</td>\n",
       "    </tr>\n",
       "    <tr>\n",
       "      <th>5</th>\n",
       "      <td>0.44</td>\n",
       "      <td>Lyft</td>\n",
       "      <td>North Station</td>\n",
       "      <td>Haymarket Square</td>\n",
       "      <td>16.5</td>\n",
       "      <td>1.0</td>\n",
       "      <td>Lux Black</td>\n",
       "      <td>2018-12-17:18</td>\n",
       "      <td>2018-12-17</td>\n",
       "      <td>18:25</td>\n",
       "      <td>0</td>\n",
       "      <td>40.78</td>\n",
       "      <td>0.93</td>\n",
       "      <td>1000.15</td>\n",
       "      <td>0.0000</td>\n",
       "      <td>0.79</td>\n",
       "      <td>7.55</td>\n",
       "    </tr>\n",
       "    <tr>\n",
       "      <th>6</th>\n",
       "      <td>1.08</td>\n",
       "      <td>Lyft</td>\n",
       "      <td>Northeastern University</td>\n",
       "      <td>Back Bay</td>\n",
       "      <td>10.5</td>\n",
       "      <td>1.0</td>\n",
       "      <td>Lyft XL</td>\n",
       "      <td>2018-11-26:05</td>\n",
       "      <td>2018-11-26</td>\n",
       "      <td>05:03</td>\n",
       "      <td>0</td>\n",
       "      <td>40.65</td>\n",
       "      <td>0.93</td>\n",
       "      <td>1013.76</td>\n",
       "      <td>0.0000</td>\n",
       "      <td>0.92</td>\n",
       "      <td>3.01</td>\n",
       "    </tr>\n",
       "    <tr>\n",
       "      <th>6</th>\n",
       "      <td>1.08</td>\n",
       "      <td>Lyft</td>\n",
       "      <td>Northeastern University</td>\n",
       "      <td>Back Bay</td>\n",
       "      <td>10.5</td>\n",
       "      <td>1.0</td>\n",
       "      <td>Lyft XL</td>\n",
       "      <td>2018-11-26:05</td>\n",
       "      <td>2018-11-26</td>\n",
       "      <td>05:03</td>\n",
       "      <td>0</td>\n",
       "      <td>40.39</td>\n",
       "      <td>0.92</td>\n",
       "      <td>1013.79</td>\n",
       "      <td>0.0000</td>\n",
       "      <td>0.93</td>\n",
       "      <td>2.71</td>\n",
       "    </tr>\n",
       "  </tbody>\n",
       "</table>\n",
       "</div>"
      ],
      "text/plain": [
       "   distance cab_type              destination            source  price  \\\n",
       "0      0.44     Lyft            North Station  Haymarket Square    5.0   \n",
       "1      0.44     Lyft            North Station  Haymarket Square   11.0   \n",
       "1      0.44     Lyft            North Station  Haymarket Square   11.0   \n",
       "3      0.44     Lyft            North Station  Haymarket Square   26.0   \n",
       "4      0.44     Lyft            North Station  Haymarket Square    9.0   \n",
       "4      0.44     Lyft            North Station  Haymarket Square    9.0   \n",
       "4      0.44     Lyft            North Station  Haymarket Square    9.0   \n",
       "5      0.44     Lyft            North Station  Haymarket Square   16.5   \n",
       "6      1.08     Lyft  Northeastern University          Back Bay   10.5   \n",
       "6      1.08     Lyft  Northeastern University          Back Bay   10.5   \n",
       "\n",
       "   surge_multiplier          name      date_time        date   time  weekday  \\\n",
       "0               1.0        Shared  2018-12-16:09  2018-12-16  09:30        6   \n",
       "1               1.0           Lux  2018-11-27:02  2018-11-27  02:00        1   \n",
       "1               1.0           Lux  2018-11-27:02  2018-11-27  02:00        1   \n",
       "3               1.0  Lux Black XL  2018-11-30:04  2018-11-30  04:53        4   \n",
       "4               1.0       Lyft XL  2018-11-29:03  2018-11-29  03:49        3   \n",
       "4               1.0       Lyft XL  2018-11-29:03  2018-11-29  03:49        3   \n",
       "4               1.0       Lyft XL  2018-11-29:03  2018-11-29  03:49        3   \n",
       "5               1.0     Lux Black  2018-12-17:18  2018-12-17  18:25        0   \n",
       "6               1.0       Lyft XL  2018-11-26:05  2018-11-26  05:03        0   \n",
       "6               1.0       Lyft XL  2018-11-26:05  2018-11-26  05:03        0   \n",
       "\n",
       "    temp  clouds  pressure    rain  humidity   wind  \n",
       "0  38.46    0.29   1022.25  0.0000      0.76   7.68  \n",
       "1  44.31    1.00   1003.17  0.1123      0.90  13.69  \n",
       "1  43.82    0.99   1002.59  0.0997      0.89  11.57  \n",
       "3  35.08    0.00   1013.71  0.0000      0.70   5.25  \n",
       "4  37.58    0.42    998.64  0.0000      0.71  11.30  \n",
       "4  37.80    0.47    998.20  0.0000      0.70  11.02  \n",
       "4  37.66    0.41    998.42  0.0000      0.71  11.16  \n",
       "5  40.78    0.93   1000.15  0.0000      0.79   7.55  \n",
       "6  40.65    0.93   1013.76  0.0000      0.92   3.01  \n",
       "6  40.39    0.92   1013.79  0.0000      0.93   2.71  "
      ]
     },
     "execution_count": 16,
     "metadata": {},
     "output_type": "execute_result"
    }
   ],
   "source": [
    "data_merged[:10]"
   ]
  },
  {
   "cell_type": "code",
   "execution_count": 17,
   "metadata": {},
   "outputs": [],
   "source": [
    "data_merged.to_csv(\"./data_merged.csv\",index=False,sep=',')"
   ]
  },
  {
   "cell_type": "markdown",
   "metadata": {},
   "source": [
    "# Map Visulization"
   ]
  },
  {
   "cell_type": "code",
   "execution_count": 2,
   "metadata": {},
   "outputs": [
    {
     "data": {
      "text/html": [
       "        <script type=\"text/javascript\">\n",
       "        window.PlotlyConfig = {MathJaxConfig: 'local'};\n",
       "        if (window.MathJax) {MathJax.Hub.Config({SVG: {font: \"STIX-Web\"}});}\n",
       "        if (typeof require !== 'undefined') {\n",
       "        require.undef(\"plotly\");\n",
       "        requirejs.config({\n",
       "            paths: {\n",
       "                'plotly': ['https://cdn.plot.ly/plotly-latest.min']\n",
       "            }\n",
       "        });\n",
       "        require(['plotly'], function(Plotly) {\n",
       "            window._Plotly = Plotly;\n",
       "        });\n",
       "        }\n",
       "        </script>\n",
       "        "
      ]
     },
     "metadata": {},
     "output_type": "display_data"
    }
   ],
   "source": [
    "import plotly.offline as py\n",
    "import plotly.graph_objects as go\n",
    "py.init_notebook_mode(connected=True)\n",
    "from plotly.graph_objs import Scatter, Layout,Figure\n",
    "import matplotlib.pyplot as plt"
   ]
  },
  {
   "cell_type": "code",
   "execution_count": 3,
   "metadata": {},
   "outputs": [],
   "source": [
    "data_train = pd.read_csv(\"./data_merged.csv\",delimiter=',')"
   ]
  },
  {
   "cell_type": "code",
   "execution_count": 5,
   "metadata": {},
   "outputs": [],
   "source": [
    "dest_lat = [\"42.342907\",\"42.352141\",\"42.350666\",\"42.365008\",\"42.364007\", \"42.340422\",\"42.355976\",\n",
    "            \"42.363428\",\"42.358865\",\"42.351884\",\"42.350282\",\"42.366265\"]\n",
    "dest_lon = [\"-71.100292\",\"-71.055135\",\"-71.105410\",\"-71.054222\",\"-71.058433\", \"-71.089269\",\"-71.0549726\",\n",
    "            \"-71.066568\",\"-71.0707475\",\"-71.064262\",\"-71.080968\",\"-71.063098\"]"
   ]
  },
  {
   "cell_type": "code",
   "execution_count": 6,
   "metadata": {
    "scrolled": false
   },
   "outputs": [
    {
     "data": {
      "application/vnd.plotly.v1+json": {
       "config": {
        "plotlyServerURL": "https://plot.ly"
       },
       "data": [
        {
         "lat": [
          "42.342907",
          "42.352141",
          "42.350666",
          "42.365008",
          "42.364007",
          "42.340422",
          "42.355976",
          "42.363428",
          "42.358865",
          "42.351884",
          "42.350282",
          "42.366265"
         ],
         "lon": [
          "-71.100292",
          "-71.055135",
          "-71.105410",
          "-71.054222",
          "-71.058433",
          "-71.089269",
          "-71.0549726",
          "-71.066568",
          "-71.0707475",
          "-71.064262",
          "-71.080968",
          "-71.063098"
         ],
         "marker": {
          "size": 9
         },
         "mode": "markers",
         "text": [
          "Fenway",
          "South Station",
          "Boston University",
          "North End",
          "Haymarket Square",
          "Northeastern University",
          "Financial District",
          "West End",
          "Beacon Hill",
          "Theatre District",
          "Back Bay",
          "North Station"
         ],
         "type": "scattermapbox"
        }
       ],
       "layout": {
        "autosize": true,
        "hovermode": "closest",
        "mapbox": {
         "accesstoken": "pk.eyJ1IjoiamFjaW5kYTk2IiwiYSI6ImNrNnhnaHhtaDBpMHIza284cjY2djFtZzIifQ.6JXJfAP7R3Lz7vBZpNhc9w",
         "bearing": 0,
         "center": {
          "lat": 42.35,
          "lon": -71.07
         },
         "pitch": 0,
         "zoom": 12
        },
        "template": {
         "data": {
          "bar": [
           {
            "error_x": {
             "color": "#2a3f5f"
            },
            "error_y": {
             "color": "#2a3f5f"
            },
            "marker": {
             "line": {
              "color": "#E5ECF6",
              "width": 0.5
             }
            },
            "type": "bar"
           }
          ],
          "barpolar": [
           {
            "marker": {
             "line": {
              "color": "#E5ECF6",
              "width": 0.5
             }
            },
            "type": "barpolar"
           }
          ],
          "carpet": [
           {
            "aaxis": {
             "endlinecolor": "#2a3f5f",
             "gridcolor": "white",
             "linecolor": "white",
             "minorgridcolor": "white",
             "startlinecolor": "#2a3f5f"
            },
            "baxis": {
             "endlinecolor": "#2a3f5f",
             "gridcolor": "white",
             "linecolor": "white",
             "minorgridcolor": "white",
             "startlinecolor": "#2a3f5f"
            },
            "type": "carpet"
           }
          ],
          "choropleth": [
           {
            "colorbar": {
             "outlinewidth": 0,
             "ticks": ""
            },
            "type": "choropleth"
           }
          ],
          "contour": [
           {
            "colorbar": {
             "outlinewidth": 0,
             "ticks": ""
            },
            "colorscale": [
             [
              0,
              "#0d0887"
             ],
             [
              0.1111111111111111,
              "#46039f"
             ],
             [
              0.2222222222222222,
              "#7201a8"
             ],
             [
              0.3333333333333333,
              "#9c179e"
             ],
             [
              0.4444444444444444,
              "#bd3786"
             ],
             [
              0.5555555555555556,
              "#d8576b"
             ],
             [
              0.6666666666666666,
              "#ed7953"
             ],
             [
              0.7777777777777778,
              "#fb9f3a"
             ],
             [
              0.8888888888888888,
              "#fdca26"
             ],
             [
              1,
              "#f0f921"
             ]
            ],
            "type": "contour"
           }
          ],
          "contourcarpet": [
           {
            "colorbar": {
             "outlinewidth": 0,
             "ticks": ""
            },
            "type": "contourcarpet"
           }
          ],
          "heatmap": [
           {
            "colorbar": {
             "outlinewidth": 0,
             "ticks": ""
            },
            "colorscale": [
             [
              0,
              "#0d0887"
             ],
             [
              0.1111111111111111,
              "#46039f"
             ],
             [
              0.2222222222222222,
              "#7201a8"
             ],
             [
              0.3333333333333333,
              "#9c179e"
             ],
             [
              0.4444444444444444,
              "#bd3786"
             ],
             [
              0.5555555555555556,
              "#d8576b"
             ],
             [
              0.6666666666666666,
              "#ed7953"
             ],
             [
              0.7777777777777778,
              "#fb9f3a"
             ],
             [
              0.8888888888888888,
              "#fdca26"
             ],
             [
              1,
              "#f0f921"
             ]
            ],
            "type": "heatmap"
           }
          ],
          "heatmapgl": [
           {
            "colorbar": {
             "outlinewidth": 0,
             "ticks": ""
            },
            "colorscale": [
             [
              0,
              "#0d0887"
             ],
             [
              0.1111111111111111,
              "#46039f"
             ],
             [
              0.2222222222222222,
              "#7201a8"
             ],
             [
              0.3333333333333333,
              "#9c179e"
             ],
             [
              0.4444444444444444,
              "#bd3786"
             ],
             [
              0.5555555555555556,
              "#d8576b"
             ],
             [
              0.6666666666666666,
              "#ed7953"
             ],
             [
              0.7777777777777778,
              "#fb9f3a"
             ],
             [
              0.8888888888888888,
              "#fdca26"
             ],
             [
              1,
              "#f0f921"
             ]
            ],
            "type": "heatmapgl"
           }
          ],
          "histogram": [
           {
            "marker": {
             "colorbar": {
              "outlinewidth": 0,
              "ticks": ""
             }
            },
            "type": "histogram"
           }
          ],
          "histogram2d": [
           {
            "colorbar": {
             "outlinewidth": 0,
             "ticks": ""
            },
            "colorscale": [
             [
              0,
              "#0d0887"
             ],
             [
              0.1111111111111111,
              "#46039f"
             ],
             [
              0.2222222222222222,
              "#7201a8"
             ],
             [
              0.3333333333333333,
              "#9c179e"
             ],
             [
              0.4444444444444444,
              "#bd3786"
             ],
             [
              0.5555555555555556,
              "#d8576b"
             ],
             [
              0.6666666666666666,
              "#ed7953"
             ],
             [
              0.7777777777777778,
              "#fb9f3a"
             ],
             [
              0.8888888888888888,
              "#fdca26"
             ],
             [
              1,
              "#f0f921"
             ]
            ],
            "type": "histogram2d"
           }
          ],
          "histogram2dcontour": [
           {
            "colorbar": {
             "outlinewidth": 0,
             "ticks": ""
            },
            "colorscale": [
             [
              0,
              "#0d0887"
             ],
             [
              0.1111111111111111,
              "#46039f"
             ],
             [
              0.2222222222222222,
              "#7201a8"
             ],
             [
              0.3333333333333333,
              "#9c179e"
             ],
             [
              0.4444444444444444,
              "#bd3786"
             ],
             [
              0.5555555555555556,
              "#d8576b"
             ],
             [
              0.6666666666666666,
              "#ed7953"
             ],
             [
              0.7777777777777778,
              "#fb9f3a"
             ],
             [
              0.8888888888888888,
              "#fdca26"
             ],
             [
              1,
              "#f0f921"
             ]
            ],
            "type": "histogram2dcontour"
           }
          ],
          "mesh3d": [
           {
            "colorbar": {
             "outlinewidth": 0,
             "ticks": ""
            },
            "type": "mesh3d"
           }
          ],
          "parcoords": [
           {
            "line": {
             "colorbar": {
              "outlinewidth": 0,
              "ticks": ""
             }
            },
            "type": "parcoords"
           }
          ],
          "pie": [
           {
            "automargin": true,
            "type": "pie"
           }
          ],
          "scatter": [
           {
            "marker": {
             "colorbar": {
              "outlinewidth": 0,
              "ticks": ""
             }
            },
            "type": "scatter"
           }
          ],
          "scatter3d": [
           {
            "line": {
             "colorbar": {
              "outlinewidth": 0,
              "ticks": ""
             }
            },
            "marker": {
             "colorbar": {
              "outlinewidth": 0,
              "ticks": ""
             }
            },
            "type": "scatter3d"
           }
          ],
          "scattercarpet": [
           {
            "marker": {
             "colorbar": {
              "outlinewidth": 0,
              "ticks": ""
             }
            },
            "type": "scattercarpet"
           }
          ],
          "scattergeo": [
           {
            "marker": {
             "colorbar": {
              "outlinewidth": 0,
              "ticks": ""
             }
            },
            "type": "scattergeo"
           }
          ],
          "scattergl": [
           {
            "marker": {
             "colorbar": {
              "outlinewidth": 0,
              "ticks": ""
             }
            },
            "type": "scattergl"
           }
          ],
          "scattermapbox": [
           {
            "marker": {
             "colorbar": {
              "outlinewidth": 0,
              "ticks": ""
             }
            },
            "type": "scattermapbox"
           }
          ],
          "scatterpolar": [
           {
            "marker": {
             "colorbar": {
              "outlinewidth": 0,
              "ticks": ""
             }
            },
            "type": "scatterpolar"
           }
          ],
          "scatterpolargl": [
           {
            "marker": {
             "colorbar": {
              "outlinewidth": 0,
              "ticks": ""
             }
            },
            "type": "scatterpolargl"
           }
          ],
          "scatterternary": [
           {
            "marker": {
             "colorbar": {
              "outlinewidth": 0,
              "ticks": ""
             }
            },
            "type": "scatterternary"
           }
          ],
          "surface": [
           {
            "colorbar": {
             "outlinewidth": 0,
             "ticks": ""
            },
            "colorscale": [
             [
              0,
              "#0d0887"
             ],
             [
              0.1111111111111111,
              "#46039f"
             ],
             [
              0.2222222222222222,
              "#7201a8"
             ],
             [
              0.3333333333333333,
              "#9c179e"
             ],
             [
              0.4444444444444444,
              "#bd3786"
             ],
             [
              0.5555555555555556,
              "#d8576b"
             ],
             [
              0.6666666666666666,
              "#ed7953"
             ],
             [
              0.7777777777777778,
              "#fb9f3a"
             ],
             [
              0.8888888888888888,
              "#fdca26"
             ],
             [
              1,
              "#f0f921"
             ]
            ],
            "type": "surface"
           }
          ],
          "table": [
           {
            "cells": {
             "fill": {
              "color": "#EBF0F8"
             },
             "line": {
              "color": "white"
             }
            },
            "header": {
             "fill": {
              "color": "#C8D4E3"
             },
             "line": {
              "color": "white"
             }
            },
            "type": "table"
           }
          ]
         },
         "layout": {
          "annotationdefaults": {
           "arrowcolor": "#2a3f5f",
           "arrowhead": 0,
           "arrowwidth": 1
          },
          "coloraxis": {
           "colorbar": {
            "outlinewidth": 0,
            "ticks": ""
           }
          },
          "colorscale": {
           "diverging": [
            [
             0,
             "#8e0152"
            ],
            [
             0.1,
             "#c51b7d"
            ],
            [
             0.2,
             "#de77ae"
            ],
            [
             0.3,
             "#f1b6da"
            ],
            [
             0.4,
             "#fde0ef"
            ],
            [
             0.5,
             "#f7f7f7"
            ],
            [
             0.6,
             "#e6f5d0"
            ],
            [
             0.7,
             "#b8e186"
            ],
            [
             0.8,
             "#7fbc41"
            ],
            [
             0.9,
             "#4d9221"
            ],
            [
             1,
             "#276419"
            ]
           ],
           "sequential": [
            [
             0,
             "#0d0887"
            ],
            [
             0.1111111111111111,
             "#46039f"
            ],
            [
             0.2222222222222222,
             "#7201a8"
            ],
            [
             0.3333333333333333,
             "#9c179e"
            ],
            [
             0.4444444444444444,
             "#bd3786"
            ],
            [
             0.5555555555555556,
             "#d8576b"
            ],
            [
             0.6666666666666666,
             "#ed7953"
            ],
            [
             0.7777777777777778,
             "#fb9f3a"
            ],
            [
             0.8888888888888888,
             "#fdca26"
            ],
            [
             1,
             "#f0f921"
            ]
           ],
           "sequentialminus": [
            [
             0,
             "#0d0887"
            ],
            [
             0.1111111111111111,
             "#46039f"
            ],
            [
             0.2222222222222222,
             "#7201a8"
            ],
            [
             0.3333333333333333,
             "#9c179e"
            ],
            [
             0.4444444444444444,
             "#bd3786"
            ],
            [
             0.5555555555555556,
             "#d8576b"
            ],
            [
             0.6666666666666666,
             "#ed7953"
            ],
            [
             0.7777777777777778,
             "#fb9f3a"
            ],
            [
             0.8888888888888888,
             "#fdca26"
            ],
            [
             1,
             "#f0f921"
            ]
           ]
          },
          "colorway": [
           "#636efa",
           "#EF553B",
           "#00cc96",
           "#ab63fa",
           "#FFA15A",
           "#19d3f3",
           "#FF6692",
           "#B6E880",
           "#FF97FF",
           "#FECB52"
          ],
          "font": {
           "color": "#2a3f5f"
          },
          "geo": {
           "bgcolor": "white",
           "lakecolor": "white",
           "landcolor": "#E5ECF6",
           "showlakes": true,
           "showland": true,
           "subunitcolor": "white"
          },
          "hoverlabel": {
           "align": "left"
          },
          "hovermode": "closest",
          "mapbox": {
           "style": "light"
          },
          "paper_bgcolor": "white",
          "plot_bgcolor": "#E5ECF6",
          "polar": {
           "angularaxis": {
            "gridcolor": "white",
            "linecolor": "white",
            "ticks": ""
           },
           "bgcolor": "#E5ECF6",
           "radialaxis": {
            "gridcolor": "white",
            "linecolor": "white",
            "ticks": ""
           }
          },
          "scene": {
           "xaxis": {
            "backgroundcolor": "#E5ECF6",
            "gridcolor": "white",
            "gridwidth": 2,
            "linecolor": "white",
            "showbackground": true,
            "ticks": "",
            "zerolinecolor": "white"
           },
           "yaxis": {
            "backgroundcolor": "#E5ECF6",
            "gridcolor": "white",
            "gridwidth": 2,
            "linecolor": "white",
            "showbackground": true,
            "ticks": "",
            "zerolinecolor": "white"
           },
           "zaxis": {
            "backgroundcolor": "#E5ECF6",
            "gridcolor": "white",
            "gridwidth": 2,
            "linecolor": "white",
            "showbackground": true,
            "ticks": "",
            "zerolinecolor": "white"
           }
          },
          "shapedefaults": {
           "line": {
            "color": "#2a3f5f"
           }
          },
          "ternary": {
           "aaxis": {
            "gridcolor": "white",
            "linecolor": "white",
            "ticks": ""
           },
           "baxis": {
            "gridcolor": "white",
            "linecolor": "white",
            "ticks": ""
           },
           "bgcolor": "#E5ECF6",
           "caxis": {
            "gridcolor": "white",
            "linecolor": "white",
            "ticks": ""
           }
          },
          "title": {
           "x": 0.05
          },
          "xaxis": {
           "automargin": true,
           "gridcolor": "white",
           "linecolor": "white",
           "ticks": "",
           "title": {
            "standoff": 15
           },
           "zerolinecolor": "white",
           "zerolinewidth": 2
          },
          "yaxis": {
           "automargin": true,
           "gridcolor": "white",
           "linecolor": "white",
           "ticks": "",
           "title": {
            "standoff": 15
           },
           "zerolinecolor": "white",
           "zerolinewidth": 2
          }
         }
        }
       }
      },
      "text/html": [
       "<div>\n",
       "        \n",
       "        \n",
       "            <div id=\"db6b19f3-c774-4ab0-ba12-0ec708cbc541\" class=\"plotly-graph-div\" style=\"height:525px; width:100%;\"></div>\n",
       "            <script type=\"text/javascript\">\n",
       "                require([\"plotly\"], function(Plotly) {\n",
       "                    window.PLOTLYENV=window.PLOTLYENV || {};\n",
       "                    \n",
       "                if (document.getElementById(\"db6b19f3-c774-4ab0-ba12-0ec708cbc541\")) {\n",
       "                    Plotly.newPlot(\n",
       "                        'db6b19f3-c774-4ab0-ba12-0ec708cbc541',\n",
       "                        [{\"lat\": [\"42.342907\", \"42.352141\", \"42.350666\", \"42.365008\", \"42.364007\", \"42.340422\", \"42.355976\", \"42.363428\", \"42.358865\", \"42.351884\", \"42.350282\", \"42.366265\"], \"lon\": [\"-71.100292\", \"-71.055135\", \"-71.105410\", \"-71.054222\", \"-71.058433\", \"-71.089269\", \"-71.0549726\", \"-71.066568\", \"-71.0707475\", \"-71.064262\", \"-71.080968\", \"-71.063098\"], \"marker\": {\"size\": 9}, \"mode\": \"markers\", \"text\": [\"Fenway\", \"South Station\", \"Boston University\", \"North End\", \"Haymarket Square\", \"Northeastern University\", \"Financial District\", \"West End\", \"Beacon Hill\", \"Theatre District\", \"Back Bay\", \"North Station\"], \"type\": \"scattermapbox\"}],\n",
       "                        {\"autosize\": true, \"hovermode\": \"closest\", \"mapbox\": {\"accesstoken\": \"pk.eyJ1IjoiamFjaW5kYTk2IiwiYSI6ImNrNnhnaHhtaDBpMHIza284cjY2djFtZzIifQ.6JXJfAP7R3Lz7vBZpNhc9w\", \"bearing\": 0, \"center\": {\"lat\": 42.35, \"lon\": -71.07}, \"pitch\": 0, \"zoom\": 12}, \"template\": {\"data\": {\"bar\": [{\"error_x\": {\"color\": \"#2a3f5f\"}, \"error_y\": {\"color\": \"#2a3f5f\"}, \"marker\": {\"line\": {\"color\": \"#E5ECF6\", \"width\": 0.5}}, \"type\": \"bar\"}], \"barpolar\": [{\"marker\": {\"line\": {\"color\": \"#E5ECF6\", \"width\": 0.5}}, \"type\": \"barpolar\"}], \"carpet\": [{\"aaxis\": {\"endlinecolor\": \"#2a3f5f\", \"gridcolor\": \"white\", \"linecolor\": \"white\", \"minorgridcolor\": \"white\", \"startlinecolor\": \"#2a3f5f\"}, \"baxis\": {\"endlinecolor\": \"#2a3f5f\", \"gridcolor\": \"white\", \"linecolor\": \"white\", \"minorgridcolor\": \"white\", \"startlinecolor\": \"#2a3f5f\"}, \"type\": \"carpet\"}], \"choropleth\": [{\"colorbar\": {\"outlinewidth\": 0, \"ticks\": \"\"}, \"type\": \"choropleth\"}], \"contour\": [{\"colorbar\": {\"outlinewidth\": 0, \"ticks\": \"\"}, \"colorscale\": [[0.0, \"#0d0887\"], [0.1111111111111111, \"#46039f\"], [0.2222222222222222, \"#7201a8\"], [0.3333333333333333, \"#9c179e\"], [0.4444444444444444, \"#bd3786\"], [0.5555555555555556, \"#d8576b\"], [0.6666666666666666, \"#ed7953\"], [0.7777777777777778, \"#fb9f3a\"], [0.8888888888888888, \"#fdca26\"], [1.0, \"#f0f921\"]], \"type\": \"contour\"}], \"contourcarpet\": [{\"colorbar\": {\"outlinewidth\": 0, \"ticks\": \"\"}, \"type\": \"contourcarpet\"}], \"heatmap\": [{\"colorbar\": {\"outlinewidth\": 0, \"ticks\": \"\"}, \"colorscale\": [[0.0, \"#0d0887\"], [0.1111111111111111, \"#46039f\"], [0.2222222222222222, \"#7201a8\"], [0.3333333333333333, \"#9c179e\"], [0.4444444444444444, \"#bd3786\"], [0.5555555555555556, \"#d8576b\"], [0.6666666666666666, \"#ed7953\"], [0.7777777777777778, \"#fb9f3a\"], [0.8888888888888888, \"#fdca26\"], [1.0, \"#f0f921\"]], \"type\": \"heatmap\"}], \"heatmapgl\": [{\"colorbar\": {\"outlinewidth\": 0, \"ticks\": \"\"}, \"colorscale\": [[0.0, \"#0d0887\"], [0.1111111111111111, \"#46039f\"], [0.2222222222222222, \"#7201a8\"], [0.3333333333333333, \"#9c179e\"], [0.4444444444444444, \"#bd3786\"], [0.5555555555555556, \"#d8576b\"], [0.6666666666666666, \"#ed7953\"], [0.7777777777777778, \"#fb9f3a\"], [0.8888888888888888, \"#fdca26\"], [1.0, \"#f0f921\"]], \"type\": \"heatmapgl\"}], \"histogram\": [{\"marker\": {\"colorbar\": {\"outlinewidth\": 0, \"ticks\": \"\"}}, \"type\": \"histogram\"}], \"histogram2d\": [{\"colorbar\": {\"outlinewidth\": 0, \"ticks\": \"\"}, \"colorscale\": [[0.0, \"#0d0887\"], [0.1111111111111111, \"#46039f\"], [0.2222222222222222, \"#7201a8\"], [0.3333333333333333, \"#9c179e\"], [0.4444444444444444, \"#bd3786\"], [0.5555555555555556, \"#d8576b\"], [0.6666666666666666, \"#ed7953\"], [0.7777777777777778, \"#fb9f3a\"], [0.8888888888888888, \"#fdca26\"], [1.0, \"#f0f921\"]], \"type\": \"histogram2d\"}], \"histogram2dcontour\": [{\"colorbar\": {\"outlinewidth\": 0, \"ticks\": \"\"}, \"colorscale\": [[0.0, \"#0d0887\"], [0.1111111111111111, \"#46039f\"], [0.2222222222222222, \"#7201a8\"], [0.3333333333333333, \"#9c179e\"], [0.4444444444444444, \"#bd3786\"], [0.5555555555555556, \"#d8576b\"], [0.6666666666666666, \"#ed7953\"], [0.7777777777777778, \"#fb9f3a\"], [0.8888888888888888, \"#fdca26\"], [1.0, \"#f0f921\"]], \"type\": \"histogram2dcontour\"}], \"mesh3d\": [{\"colorbar\": {\"outlinewidth\": 0, \"ticks\": \"\"}, \"type\": \"mesh3d\"}], \"parcoords\": [{\"line\": {\"colorbar\": {\"outlinewidth\": 0, \"ticks\": \"\"}}, \"type\": \"parcoords\"}], \"pie\": [{\"automargin\": true, \"type\": \"pie\"}], \"scatter\": [{\"marker\": {\"colorbar\": {\"outlinewidth\": 0, \"ticks\": \"\"}}, \"type\": \"scatter\"}], \"scatter3d\": [{\"line\": {\"colorbar\": {\"outlinewidth\": 0, \"ticks\": \"\"}}, \"marker\": {\"colorbar\": {\"outlinewidth\": 0, \"ticks\": \"\"}}, \"type\": \"scatter3d\"}], \"scattercarpet\": [{\"marker\": {\"colorbar\": {\"outlinewidth\": 0, \"ticks\": \"\"}}, \"type\": \"scattercarpet\"}], \"scattergeo\": [{\"marker\": {\"colorbar\": {\"outlinewidth\": 0, \"ticks\": \"\"}}, \"type\": \"scattergeo\"}], \"scattergl\": [{\"marker\": {\"colorbar\": {\"outlinewidth\": 0, \"ticks\": \"\"}}, \"type\": \"scattergl\"}], \"scattermapbox\": [{\"marker\": {\"colorbar\": {\"outlinewidth\": 0, \"ticks\": \"\"}}, \"type\": \"scattermapbox\"}], \"scatterpolar\": [{\"marker\": {\"colorbar\": {\"outlinewidth\": 0, \"ticks\": \"\"}}, \"type\": \"scatterpolar\"}], \"scatterpolargl\": [{\"marker\": {\"colorbar\": {\"outlinewidth\": 0, \"ticks\": \"\"}}, \"type\": \"scatterpolargl\"}], \"scatterternary\": [{\"marker\": {\"colorbar\": {\"outlinewidth\": 0, \"ticks\": \"\"}}, \"type\": \"scatterternary\"}], \"surface\": [{\"colorbar\": {\"outlinewidth\": 0, \"ticks\": \"\"}, \"colorscale\": [[0.0, \"#0d0887\"], [0.1111111111111111, \"#46039f\"], [0.2222222222222222, \"#7201a8\"], [0.3333333333333333, \"#9c179e\"], [0.4444444444444444, \"#bd3786\"], [0.5555555555555556, \"#d8576b\"], [0.6666666666666666, \"#ed7953\"], [0.7777777777777778, \"#fb9f3a\"], [0.8888888888888888, \"#fdca26\"], [1.0, \"#f0f921\"]], \"type\": \"surface\"}], \"table\": [{\"cells\": {\"fill\": {\"color\": \"#EBF0F8\"}, \"line\": {\"color\": \"white\"}}, \"header\": {\"fill\": {\"color\": \"#C8D4E3\"}, \"line\": {\"color\": \"white\"}}, \"type\": \"table\"}]}, \"layout\": {\"annotationdefaults\": {\"arrowcolor\": \"#2a3f5f\", \"arrowhead\": 0, \"arrowwidth\": 1}, \"coloraxis\": {\"colorbar\": {\"outlinewidth\": 0, \"ticks\": \"\"}}, \"colorscale\": {\"diverging\": [[0, \"#8e0152\"], [0.1, \"#c51b7d\"], [0.2, \"#de77ae\"], [0.3, \"#f1b6da\"], [0.4, \"#fde0ef\"], [0.5, \"#f7f7f7\"], [0.6, \"#e6f5d0\"], [0.7, \"#b8e186\"], [0.8, \"#7fbc41\"], [0.9, \"#4d9221\"], [1, \"#276419\"]], \"sequential\": [[0.0, \"#0d0887\"], [0.1111111111111111, \"#46039f\"], [0.2222222222222222, \"#7201a8\"], [0.3333333333333333, \"#9c179e\"], [0.4444444444444444, \"#bd3786\"], [0.5555555555555556, \"#d8576b\"], [0.6666666666666666, \"#ed7953\"], [0.7777777777777778, \"#fb9f3a\"], [0.8888888888888888, \"#fdca26\"], [1.0, \"#f0f921\"]], \"sequentialminus\": [[0.0, \"#0d0887\"], [0.1111111111111111, \"#46039f\"], [0.2222222222222222, \"#7201a8\"], [0.3333333333333333, \"#9c179e\"], [0.4444444444444444, \"#bd3786\"], [0.5555555555555556, \"#d8576b\"], [0.6666666666666666, \"#ed7953\"], [0.7777777777777778, \"#fb9f3a\"], [0.8888888888888888, \"#fdca26\"], [1.0, \"#f0f921\"]]}, \"colorway\": [\"#636efa\", \"#EF553B\", \"#00cc96\", \"#ab63fa\", \"#FFA15A\", \"#19d3f3\", \"#FF6692\", \"#B6E880\", \"#FF97FF\", \"#FECB52\"], \"font\": {\"color\": \"#2a3f5f\"}, \"geo\": {\"bgcolor\": \"white\", \"lakecolor\": \"white\", \"landcolor\": \"#E5ECF6\", \"showlakes\": true, \"showland\": true, \"subunitcolor\": \"white\"}, \"hoverlabel\": {\"align\": \"left\"}, \"hovermode\": \"closest\", \"mapbox\": {\"style\": \"light\"}, \"paper_bgcolor\": \"white\", \"plot_bgcolor\": \"#E5ECF6\", \"polar\": {\"angularaxis\": {\"gridcolor\": \"white\", \"linecolor\": \"white\", \"ticks\": \"\"}, \"bgcolor\": \"#E5ECF6\", \"radialaxis\": {\"gridcolor\": \"white\", \"linecolor\": \"white\", \"ticks\": \"\"}}, \"scene\": {\"xaxis\": {\"backgroundcolor\": \"#E5ECF6\", \"gridcolor\": \"white\", \"gridwidth\": 2, \"linecolor\": \"white\", \"showbackground\": true, \"ticks\": \"\", \"zerolinecolor\": \"white\"}, \"yaxis\": {\"backgroundcolor\": \"#E5ECF6\", \"gridcolor\": \"white\", \"gridwidth\": 2, \"linecolor\": \"white\", \"showbackground\": true, \"ticks\": \"\", \"zerolinecolor\": \"white\"}, \"zaxis\": {\"backgroundcolor\": \"#E5ECF6\", \"gridcolor\": \"white\", \"gridwidth\": 2, \"linecolor\": \"white\", \"showbackground\": true, \"ticks\": \"\", \"zerolinecolor\": \"white\"}}, \"shapedefaults\": {\"line\": {\"color\": \"#2a3f5f\"}}, \"ternary\": {\"aaxis\": {\"gridcolor\": \"white\", \"linecolor\": \"white\", \"ticks\": \"\"}, \"baxis\": {\"gridcolor\": \"white\", \"linecolor\": \"white\", \"ticks\": \"\"}, \"bgcolor\": \"#E5ECF6\", \"caxis\": {\"gridcolor\": \"white\", \"linecolor\": \"white\", \"ticks\": \"\"}}, \"title\": {\"x\": 0.05}, \"xaxis\": {\"automargin\": true, \"gridcolor\": \"white\", \"linecolor\": \"white\", \"ticks\": \"\", \"title\": {\"standoff\": 15}, \"zerolinecolor\": \"white\", \"zerolinewidth\": 2}, \"yaxis\": {\"automargin\": true, \"gridcolor\": \"white\", \"linecolor\": \"white\", \"ticks\": \"\", \"title\": {\"standoff\": 15}, \"zerolinecolor\": \"white\", \"zerolinewidth\": 2}}}},\n",
       "                        {\"responsive\": true}\n",
       "                    ).then(function(){\n",
       "                            \n",
       "var gd = document.getElementById('db6b19f3-c774-4ab0-ba12-0ec708cbc541');\n",
       "var x = new MutationObserver(function (mutations, observer) {{\n",
       "        var display = window.getComputedStyle(gd).display;\n",
       "        if (!display || display === 'none') {{\n",
       "            console.log([gd, 'removed!']);\n",
       "            Plotly.purge(gd);\n",
       "            observer.disconnect();\n",
       "        }}\n",
       "}});\n",
       "\n",
       "// Listen for the removal of the full notebook cells\n",
       "var notebookContainer = gd.closest('#notebook-container');\n",
       "if (notebookContainer) {{\n",
       "    x.observe(notebookContainer, {childList: true});\n",
       "}}\n",
       "\n",
       "// Listen for the clearing of the current output cell\n",
       "var outputEl = gd.closest('.output');\n",
       "if (outputEl) {{\n",
       "    x.observe(outputEl, {childList: true});\n",
       "}}\n",
       "\n",
       "                        })\n",
       "                };\n",
       "                });\n",
       "            </script>\n",
       "        </div>"
      ]
     },
     "metadata": {},
     "output_type": "display_data"
    }
   ],
   "source": [
    "mapbox_access_token = \"pk.eyJ1IjoiamFjaW5kYTk2IiwiYSI6ImNrNnhnaHhtaDBpMHIza284cjY2djFtZzIifQ.6JXJfAP7R3Lz7vBZpNhc9w\"\n",
    "\n",
    "fig = go.Figure(go.Scattermapbox(\n",
    "        lat=dest_lat,\n",
    "        lon=dest_lon,\n",
    "        mode='markers',\n",
    "        marker=go.scattermapbox.Marker(\n",
    "            size=9\n",
    "        ),\n",
    "        text=[\"Fenway\",\"South Station\",\"Boston University\",\n",
    "            \"North End\",\"Haymarket Square\",\"Northeastern University\",\n",
    "             \"Financial District\",\"West End\",\"Beacon Hill\",\n",
    "             \"Theatre District\",\"Back Bay\",\"North Station\"],\n",
    "    ))\n",
    "\n",
    "fig.update_layout(\n",
    "    autosize=True,\n",
    "    hovermode='closest',\n",
    "    mapbox=dict(\n",
    "        accesstoken=mapbox_access_token,\n",
    "        bearing=0,\n",
    "        center=dict(\n",
    "            lat=42.35,\n",
    "            lon=-71.07\n",
    "        ),\n",
    "        pitch=0,\n",
    "        zoom=12\n",
    "    ),\n",
    ")\n",
    "\n",
    "fig.show()"
   ]
  },
  {
   "cell_type": "code",
   "execution_count": 7,
   "metadata": {},
   "outputs": [],
   "source": [
    "import psutil\n",
    "fig.write_image(\"./chart/boston_map.png\")"
   ]
  },
  {
   "cell_type": "markdown",
   "metadata": {},
   "source": [
    "# Data Distribution"
   ]
  },
  {
   "cell_type": "code",
   "execution_count": 9,
   "metadata": {},
   "outputs": [
    {
     "data": {
      "text/plain": [
       "Text(0.5,1,'Cab type distribution')"
      ]
     },
     "execution_count": 9,
     "metadata": {},
     "output_type": "execute_result"
    },
    {
     "data": {
      "image/png": "[encoded data removed]",
      "text/plain": [
       "<Figure size 576x576 with 1 Axes>"
      ]
     },
     "metadata": {},
     "output_type": "display_data"
    }
   ],
   "source": [
    "import pylab\n",
    "import seaborn as sns\n",
    "pylab.rcParams['figure.figsize'] = (8.0, 8.0)\n",
    "type_distribution = data_train[\"cab_type\"].value_counts()\n",
    "plt.pie(type_distribution,radius=None,labels=[\"Uber\", \"Lyft\"],colors=[\"#ffc0cb\",\"#26d3f6\"],explode = (0.05,0.1),\n",
    "        labeldistance = 1.1,autopct = '%0.1f%%',shadow = True,startangle = 90,pctdistance = 0.6)\n",
    "plt.rcParams.update({'font.size': 22})\n",
    "plt.title('Cab type distribution')"
   ]
  },
  {
   "cell_type": "code",
   "execution_count": 8,
   "metadata": {},
   "outputs": [
    {
     "data": {
      "text/plain": [
       "Text(0.5,1,'Cab name distribution')"
      ]
     },
     "execution_count": 8,
     "metadata": {},
     "output_type": "execute_result"
    },
    {
     "data": {
      "image/png": "[encoded data removed]",
      "text/plain": [
       "<Figure size 576x576 with 1 Axes>"
      ]
     },
     "metadata": {},
     "output_type": "display_data"
    }
   ],
   "source": [
    "# pylab.rcParams['figure.figsize'] = (15.0, 8.0)\n",
    "# name_distribution = data_train[\"name\"].value_counts()\n",
    "# sns.barplot(name_distribution.index, name_distribution.values/1000,color=\"g\")\n",
    "# plt.ylabel('Nums of routes in thousands')\n",
    "# plt.xlabel(\"Cab_name\")\n",
    "# plt.title('Cab name distribution')\n",
    "pylab.rcParams['figure.figsize'] = (8.0, 8.0)\n",
    "type_distribution = data_train[\"name\"].value_counts()\n",
    "plt.pie(type_distribution,radius=None,labels=type_distribution.index,\n",
    "        labeldistance = 1.1,autopct = '%1.1f%%',shadow = True,startangle = 90,pctdistance = 0.6)\n",
    "plt.rcParams.update({'font.size': 22})\n",
    "plt.title('Cab name distribution')"
   ]
  },
  {
   "cell_type": "code",
   "execution_count": 22,
   "metadata": {},
   "outputs": [
    {
     "data": {
      "text/plain": [
       "Text(0.5,1,'Distance distribution')"
      ]
     },
     "execution_count": 22,
     "metadata": {},
     "output_type": "execute_result"
    },
    {
     "data": {
      "image/png": "[encoded data removed]",
      "text/plain": [
       "<Figure size 576x576 with 1 Axes>"
      ]
     },
     "metadata": {},
     "output_type": "display_data"
    }
   ],
   "source": [
    "distance_distribution = data_train[\"distance\"]\n",
    "dist_range=list(range(0,9,1))\n",
    "distance_distribution=pd.cut(distance_distribution,dist_range,right=True)\n",
    "distance_distribution = distance_distribution.value_counts()\n",
    "sns.barplot(distance_distribution.index, distance_distribution.values/1000,color=\"g\")\n",
    "plt.rcParams.update({'font.size': 15})\n",
    "plt.ylabel('Nums of routes in thousands')\n",
    "plt.xlabel(\"Distance\")\n",
    "plt.title('Distance distribution')"
   ]
  },
  {
   "cell_type": "code",
   "execution_count": 18,
   "metadata": {},
   "outputs": [
    {
     "data": {
      "text/plain": [
       "Text(0.5,1,'Weekday distribution')"
      ]
     },
     "execution_count": 18,
     "metadata": {},
     "output_type": "execute_result"
    },
    {
     "data": {
      "image/png": "[encoded data removed]",
      "text/plain": [
       "<Figure size 1080x576 with 1 Axes>"
      ]
     },
     "metadata": {},
     "output_type": "display_data"
    }
   ],
   "source": [
    "weekday_distribution = data_train[\"weekday\"].value_counts()\n",
    "order = [\"Monday\", \"Tuesday\", \"Wednesday\", \"Thursday\", \"Friday\", \"Saturday\", \"Sunday\"]\n",
    "sns.barplot(order, weekday_distribution.values/1000,color=\"g\")\n",
    "plt.rcParams.update({'font.size': 15})\n",
    "plt.ylabel('Nums of routes in thousands')\n",
    "plt.xlabel(\"Weekday\")\n",
    "plt.title('Weekday distribution')"
   ]
  },
  {
   "cell_type": "code",
   "execution_count": 15,
   "metadata": {
    "scrolled": true
   },
   "outputs": [
    {
     "data": {
      "text/plain": [
       "Text(0.5,1,'Price distribution')"
      ]
     },
     "execution_count": 15,
     "metadata": {},
     "output_type": "execute_result"
    },
    {
     "data": {
      "image/png": "[encoded data removed]",
      "text/plain": [
       "<Figure size 1080x576 with 1 Axes>"
      ]
     },
     "metadata": {},
     "output_type": "display_data"
    }
   ],
   "source": [
    "price_distribution = data_train[\"price\"]\n",
    "price_range=list(range(0,70,5))\n",
    "price_distribution=pd.cut(price_distribution,price_range,right=True)\n",
    "price_distribution = price_distribution.value_counts()\n",
    "sns.barplot(price_distribution.index, price_distribution.values/1000,color=\"g\")\n",
    "plt.ylabel('Nums of routes in thousands')\n",
    "plt.xlabel(\"Price\")\n",
    "plt.title('Price distribution')"
   ]
  },
  {
   "cell_type": "code",
   "execution_count": 11,
   "metadata": {},
   "outputs": [
    {
     "data": {
      "text/plain": [
       "<matplotlib.axes._subplots.AxesSubplot at 0x11ba096a0>"
      ]
     },
     "execution_count": 11,
     "metadata": {},
     "output_type": "execute_result"
    },
    {
     "data": {
      "image/png": "[encoded data removed]",
      "text/plain": [
       "<Figure size 576x576 with 1 Axes>"
      ]
     },
     "metadata": {},
     "output_type": "display_data"
    }
   ],
   "source": [
    "sns.scatterplot(x=data_train[\"distance\"],y=data_train[\"surge_multiplier\"],data=data_train,hue=data_train[\"cab_type\"])"
   ]
  },
  {
   "cell_type": "markdown",
   "metadata": {},
   "source": [
    "# Price Prediction"
   ]
  },
  {
   "cell_type": "code",
   "execution_count": 37,
   "metadata": {},
   "outputs": [],
   "source": [
    "import numpy as np\n",
    "data_train = pd.read_csv(\"./data_merged.csv\",delimiter=',')\n",
    "data_train['rain'] = data_train.apply(lambda x: int(x['rain']>0.1), axis = 1)\n",
    "data_train = data_train[data_train['name'] != \"Taxi\"]\n",
    "# Random Shuffle\n",
    "data_train = data_train.sample(frac=1).reset_index(drop=True)"
   ]
  },
  {
   "cell_type": "code",
   "execution_count": 38,
   "metadata": {},
   "outputs": [],
   "source": [
    "X_des = data_train['destination'].tolist()\n",
    "X_source = data_train['source'].tolist()\n",
    "X_name = data_train['name'].tolist()\n",
    "X_time = data_train['time'].tolist()\n",
    "X_weekday = data_train['weekday'].tolist()\n",
    "X_rain = data_train['rain'].tolist()"
   ]
  },
  {
   "cell_type": "code",
   "execution_count": 39,
   "metadata": {},
   "outputs": [],
   "source": [
    "cab_type_map = {\"Lyft\":0, \"Uber\":1}\n",
    "loc_type = {\"North Station\":0, \"South Station\":1, \"North End\":2, \"Northeastern University\":3, \"Boston University\":4,\n",
    "           \"Back Bay\":5, \"Beacon Hill\":6, \"Fenway\":7,\"Financial District\":8, \"Haymarket Square\":9,\"West End\":10,\n",
    "            \"Theatre District\":11}\n",
    "name_type = {\"Shared\":0, \"Lux\":1, \"Lux Black XL\":2, \"Lyft XL\":3, \"Lux Black\":4, \"Lyft\":5, \"UberPool\":6,\"UberX\":7,\n",
    "             \"UberXL\":8,\"Black\":9,\"Black SUV\":10, \"WAV\":11}"
   ]
  },
  {
   "cell_type": "code",
   "execution_count": 40,
   "metadata": {},
   "outputs": [],
   "source": [
    "X_des = [loc_type[i] for i in X_des]\n",
    "X_source = [loc_type[i] for i in X_source]\n",
    "X_name = [name_type[i] for i in X_name]\n",
    "X_time = [int(i.split(':')[0])*24+int(i.split(':')[1]) for i in X_time]"
   ]
  },
  {
   "cell_type": "code",
   "execution_count": 41,
   "metadata": {},
   "outputs": [],
   "source": [
    "X = np.column_stack((X_des,X_source,X_name,X_time,X_weekday,X_rain))\n",
    "X = X.tolist()\n",
    "Y = data_train['price'].tolist()\n",
    "\n",
    "# Data spliting\n",
    "from sklearn.model_selection import train_test_split\n",
    "X_train, X_valid, Y_train, Y_valid = train_test_split(X,Y,test_size=0.2,random_state = 43)"
   ]
  },
  {
   "cell_type": "code",
   "execution_count": null,
   "metadata": {},
   "outputs": [],
   "source": [
    "#test data \n",
    "data_test = pd.read_csv(\"./data_test.csv\",delimiter=',')\n",
    "\n",
    "X_des_test = data_test['destination'].tolist()\n",
    "X_source_test = data_test['source'].tolist()\n",
    "X_name_test = data_test['name'].tolist()\n",
    "X_time_test = data_test['time'].tolist()\n",
    "X_weekday_test = data_test['weekday'].tolist()\n",
    "X_rain_test = data_test['rain'].tolist()\n",
    "X_des_test = [loc_type[i] for i in X_des_test]\n",
    "X_source_test = [loc_type[i] for i in X_source_test]\n",
    "X_name_test = [name_type[i] for i in X_name_test]\n",
    "X_time_test = [int(i.split(':')[0])*24+int(i.split(':')[1]) for i in X_time_test]\n",
    "X_test = np.column_stack((X_des_test,X_source_test,X_name_test,X_time_test,X_weekday_test,X_rain_test))\n",
    "Y_test = data_test['price'].tolist()"
   ]
  },
  {
   "cell_type": "markdown",
   "metadata": {},
   "source": [
    "# RandomForest "
   ]
  },
  {
   "cell_type": "code",
   "execution_count": 42,
   "metadata": {},
   "outputs": [
    {
     "name": "stderr",
     "output_type": "stream",
     "text": [
      "/Users/apple/Library/Python/3.6/lib/python/site-packages/sklearn/ensemble/weight_boosting.py:29: DeprecationWarning:\n",
      "\n",
      "numpy.core.umath_tests is an internal NumPy module and should not be imported. It will be removed in a future NumPy release.\n",
      "\n"
     ]
    }
   ],
   "source": [
    "from sklearn.ensemble import RandomForestRegressor,RandomForestClassifier"
   ]
  },
  {
   "cell_type": "code",
   "execution_count": 44,
   "metadata": {},
   "outputs": [],
   "source": [
    "# count accuracy\n",
    "def accuracy(errors_data, data):\n",
    "    '''\n",
    "    :param errors_data:\n",
    "    :param data:\n",
    "    :return:\n",
    "    '''\n",
    "    mape = 100 * (errors_data / data)\n",
    "    return 100 - np.mean(mape)"
   ]
  },
  {
   "cell_type": "code",
   "execution_count": 45,
   "metadata": {},
   "outputs": [],
   "source": [
    "# print out the result\n",
    "def Result_show(errors_train, errors_valid, errors_test, accuracy_train,accuracy_valid, accuracy_test):\n",
    "    '''\n",
    "    :param errors_train:\n",
    "    :param errors_valid:\n",
    "    :param errors_test:\n",
    "    :param accuracy_train:\n",
    "    :param accuracy_valid:\n",
    "    :param accuracy_test:\n",
    "    :return:\n",
    "    '''\n",
    "\n",
    "    print('Training Mean Absolute Error:', round(np.mean(errors_train), 2), 'degrees.')\n",
    "    print('Validation Mean Absolute Error:', round(np.mean(errors_valid), 2), 'degrees.')\n",
    "    print('Test Mean Absolute Error:', round(np.mean(errors_test), 2), 'degrees.')\n",
    "    print('Train Accuracy:', round(accuracy_train, 2), '%.')\n",
    "    print('Valid Accuracy:', round(accuracy_valid, 2), '%.')\n",
    "    print('Test Accuracy:', round(accuracy_test, 2), '%.')"
   ]
  },
  {
   "cell_type": "code",
   "execution_count": 46,
   "metadata": {},
   "outputs": [],
   "source": [
    "# Plot estimated and actural price in testset\n",
    "def chart_show(Y_test_predict,Y_test):\n",
    "\n",
    "    sns.lineplot(range(200),Y_test_predict,label=\"Predicted Price\")\n",
    "    sns.lineplot(range(200),Y_test,label=\"Actual Price\")\n",
    "    plt.legend(loc=\"upper left\")\n",
    "    plt.ylabel('Price')\n",
    "    plt.xlabel(\"index\")\n",
    "    plt.title('Test Set price prediction')\n",
    "    plt.show()"
   ]
  },
  {
   "cell_type": "code",
   "execution_count": 48,
   "metadata": {},
   "outputs": [
    {
     "name": "stdout",
     "output_type": "stream",
     "text": [
      "Training Mean Absolute Error: 0.62 degrees.\n",
      "Validation Mean Absolute Error: 1.61 degrees.\n",
      "Test Mean Absolute Error: 2.29 degrees.\n",
      "Train Accuracy: 95.95 %.\n",
      "Valid Accuracy: 89.4 %.\n",
      "Test Accuracy: 81.99 %.\n"
     ]
    }
   ],
   "source": [
    "from sklearn.ensemble import RandomForestRegressor,RandomForestClassifier\n",
    "\n",
    "rf = RandomForestRegressor(n_estimators = 1000, random_state = 42)\n",
    "X_train_sample = X_train[:50000]\n",
    "Y_train_sample = Y_train[:50000]\n",
    "X_valid_sample = X_valid[:10000]\n",
    "Y_valid_sample = Y_valid[:10000]\n",
    "\n",
    "rf.fit(X_train_sample, Y_train_sample);\n",
    "Y_predict_train = rf.predict(X_train_sample)\n",
    "errors_train = abs(Y_predict_train - Y_train_sample)\n",
    "Y_predict_valid = rf.predict(X_valid_sample)\n",
    "errors_valid = abs(Y_valid_sample - Y_predict_valid)\n",
    "Y_test_predict = rf.predict(X_test)\n",
    "errors_test = abs(Y_test - Y_test_predict)\n",
    "\n",
    "accuracy_train = accuracy(errors_train, Y_train_sample)\n",
    "accuracy_valid = accuracy(errors_valid, Y_valid_sample)\n",
    "accuracy_test = accuracy(errors_test, Y_test)\n",
    "\n",
    "Result_show(errors_train, errors_valid, errors_test, accuracy_train,accuracy_valid, accuracy_test)"
   ]
  },
  {
   "cell_type": "code",
   "execution_count": 49,
   "metadata": {},
   "outputs": [
    {
     "data": {
      "text/plain": [
       "Text(0.5,1,'Test Set price prediction')"
      ]
     },
     "execution_count": 49,
     "metadata": {},
     "output_type": "execute_result"
    },
    {
     "data": {
      "image/png": "[encoded data removed]",
      "text/plain": [
       "<Figure size 1080x576 with 1 Axes>"
      ]
     },
     "metadata": {},
     "output_type": "display_data"
    }
   ],
   "source": [
    "chart_show(Y_test_predict[:200], Y_test[:200])"
   ]
  },
  {
   "cell_type": "markdown",
   "metadata": {},
   "source": [
    "# SVM"
   ]
  },
  {
   "cell_type": "code",
   "execution_count": 30,
   "metadata": {},
   "outputs": [
    {
     "data": {
      "text/plain": [
       "SVC(C=1.0, cache_size=200, class_weight=None, coef0=0.0,\n",
       "  decision_function_shape='ovr', degree=3, gamma='auto', kernel='rbf',\n",
       "  max_iter=-1, probability=False, random_state=None, shrinking=True,\n",
       "  tol=0.001, verbose=False)"
      ]
     },
     "execution_count": 30,
     "metadata": {},
     "output_type": "execute_result"
    }
   ],
   "source": [
    "\n",
    "from sklearn.svm import SVC\n",
    "from sklearn.model_selection import train_test_split\n",
    "Y = [int(i) for i in Y]\n",
    "X_train, X_valid, Y_train, Y_valid = train_test_split(X,Y,test_size=0.2,random_state = 43)\n",
    "clf = SVC(gamma='auto')\n",
    "X_train_sample = X_train[:50000]\n",
    "Y_train_sample = Y_train[:50000]\n",
    "X_valid_sample = X_valid[:10000]\n",
    "Y_valid_sample = Y_valid[:10000]\n",
    "\n",
    "clf.fit(X_train_sample, Y_train_sample)\n",
    "SVC(gamma='auto')"
   ]
  },
  {
   "cell_type": "code",
   "execution_count": 31,
   "metadata": {},
   "outputs": [
    {
     "name": "stdout",
     "output_type": "stream",
     "text": [
      "Training Mean Absolute Error: 3.06 degrees.\n",
      "Valid Mean Absolute Error: 6.64 degrees.\n",
      "Test Mean Absolute Error: 6.01 degrees.\n",
      "Train Accuracy: 84.56 %.\n",
      "Valid Accuracy: 59.77 %.\n",
      "Test Accuracy: 61.56 %.\n"
     ]
    }
   ],
   "source": [
    "Y_predict_train = clf.predict(X_train_sample)\n",
    "errors_train = abs(Y_predict_train - Y_train_sample)\n",
    "Y_predict_valid = clf.predict(X_valid_sample)\n",
    "errors_valid = abs(Y_valid_sample - Y_predict_valid)\n",
    "Y_test_predict = clf.predict(X_test)\n",
    "errors_test = abs(Y_test - Y_test_predict)\n",
    "\n",
    "accuracy_train = accuracy(errors_train, Y_train_sample)\n",
    "accuracy_valid = accuracy(errors_valid, Y_valid_sample)\n",
    "accuracy_test = accuracy(errors_test, Y_test)\n",
    "\n",
    "Result_show(errors_train, errors_valid, errors_test, accuracy_train,accuracy_valid, accuracy_test)"
   ]
  },
  {
   "cell_type": "code",
   "execution_count": 32,
   "metadata": {},
   "outputs": [
    {
     "data": {
      "text/plain": [
       "Text(0.5,1,'Test Set price prediction')"
      ]
     },
     "execution_count": 32,
     "metadata": {},
     "output_type": "execute_result"
    },
    {
     "data": {
      "image/png": "[encoded data removed]",
      "text/plain": [
       "<Figure size 432x288 with 1 Axes>"
      ]
     },
     "metadata": {},
     "output_type": "display_data"
    }
   ],
   "source": [
    "chart_show(Y_test_predict[:200], Y_test[:200])"
   ]
  },
  {
   "cell_type": "markdown",
   "metadata": {},
   "source": [
    "# Decision tree"
   ]
  },
  {
   "cell_type": "code",
   "execution_count": 33,
   "metadata": {},
   "outputs": [],
   "source": [
    "from sklearn import tree\n",
    "clf =tree.DecisionTreeClassifier()\n",
    "clf = clf.fit(X_train, Y_train)"
   ]
  },
  {
   "cell_type": "code",
   "execution_count": 34,
   "metadata": {},
   "outputs": [
    {
     "name": "stdout",
     "output_type": "stream",
     "text": [
      "Training Mean Absolute Error: 0.22 degrees.\n",
      "Valid Mean Absolute Error: 1.04 degrees.\n",
      "Test Mean Absolute Error: 2.67 degrees.\n",
      "Train Accuracy: 98.67 %.\n",
      "Valid Accuracy: 93.01 %.\n",
      "Test Accuracy: 79.58 %.\n"
     ]
    }
   ],
   "source": [
    "Y_predict_train = clf.predict(X_train)\n",
    "errors_train = abs(Y_predict_train - Y_train)\n",
    "Y_predict_valid = clf.predict(X_valid)\n",
    "errors_valid = abs(Y_valid - Y_predict_valid)\n",
    "Y_test_predict = clf.predict(X_test)\n",
    "errors_test = abs(Y_test - Y_test_predict)\n",
    "\n",
    "accuracy_train = accuracy(errors_train, Y_train)\n",
    "accuracy_valid = accuracy(errors_valid, Y_valid)\n",
    "accuracy_test = accuracy(errors_test, Y_test)\n",
    "\n",
    "Result_show(errors_train, errors_valid, errors_test, accuracy_train,accuracy_valid, accuracy_test)"
   ]
  },
  {
   "cell_type": "code",
   "execution_count": 35,
   "metadata": {},
   "outputs": [
    {
     "data": {
      "text/plain": [
       "Text(0.5,1,'Test Set price prediction')"
      ]
     },
     "execution_count": 35,
     "metadata": {},
     "output_type": "execute_result"
    },
    {
     "data": {
      "image/png": "[encoded data removed]",
      "text/plain": [
       "<Figure size 432x288 with 1 Axes>"
      ]
     },
     "metadata": {},
     "output_type": "display_data"
    }
   ],
   "source": [
    "chart_show(Y_test_predict[:200], Y_test[:200])"
   ]
  }
 ],
 "metadata": {
  "kernelspec": {
   "display_name": "Python 3",
   "language": "python",
   "name": "python3"
  },
  "language_info": {
   "codemirror_mode": {
    "name": "ipython",
    "version": 3
   },
   "file_extension": ".py",
   "mimetype": "text/x-python",
   "name": "python",
   "nbconvert_exporter": "python",
   "pygments_lexer": "ipython3",
   "version": "3.6.2"
  }
 },
 "nbformat": 4,
 "nbformat_minor": 1
}
