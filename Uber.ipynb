{
 "cells": [
  {
   "cell_type": "markdown",
   "metadata": {},
   "source": [
    "# Data Processing"
   ]
  },
  {
   "cell_type": "code",
   "execution_count": 1,
   "metadata": {},
   "outputs": [],
   "source": [
    "import pandas as pd"
   ]
  },
  {
   "cell_type": "code",
   "execution_count": 2,
   "metadata": {},
   "outputs": [],
   "source": [
    "data_cab = pd.read_csv(\"./uber-lyft-cab-prices/cab_rides.csv\",delimiter=',')\n",
    "data_weather = pd.read_csv(\"./uber-lyft-cab-prices/weather.csv\",delimiter=',')"
   ]
  },
  {
   "cell_type": "code",
   "execution_count": 3,
   "metadata": {},
   "outputs": [
    {
     "data": {
      "text/html": [
       "<div>\n",
       "<style scoped>\n",
       "    .dataframe tbody tr th:only-of-type {\n",
       "        vertical-align: middle;\n",
       "    }\n",
       "\n",
       "    .dataframe tbody tr th {\n",
       "        vertical-align: top;\n",
       "    }\n",
       "\n",
       "    .dataframe thead th {\n",
       "        text-align: right;\n",
       "    }\n",
       "</style>\n",
       "<table border=\"1\" class=\"dataframe\">\n",
       "  <thead>\n",
       "    <tr style=\"text-align: right;\">\n",
       "      <th></th>\n",
       "      <th>distance</th>\n",
       "      <th>cab_type</th>\n",
       "      <th>time_stamp</th>\n",
       "      <th>destination</th>\n",
       "      <th>source</th>\n",
       "      <th>price</th>\n",
       "      <th>surge_multiplier</th>\n",
       "      <th>id</th>\n",
       "      <th>product_id</th>\n",
       "      <th>name</th>\n",
       "    </tr>\n",
       "  </thead>\n",
       "  <tbody>\n",
       "    <tr>\n",
       "      <th>0</th>\n",
       "      <td>0.44</td>\n",
       "      <td>Lyft</td>\n",
       "      <td>1544952607890</td>\n",
       "      <td>North Station</td>\n",
       "      <td>Haymarket Square</td>\n",
       "      <td>5.0</td>\n",
       "      <td>1.0</td>\n",
       "      <td>424553bb-7174-41ea-aeb4-fe06d4f4b9d7</td>\n",
       "      <td>lyft_line</td>\n",
       "      <td>Shared</td>\n",
       "    </tr>\n",
       "    <tr>\n",
       "      <th>1</th>\n",
       "      <td>0.44</td>\n",
       "      <td>Lyft</td>\n",
       "      <td>1543284023677</td>\n",
       "      <td>North Station</td>\n",
       "      <td>Haymarket Square</td>\n",
       "      <td>11.0</td>\n",
       "      <td>1.0</td>\n",
       "      <td>4bd23055-6827-41c6-b23b-3c491f24e74d</td>\n",
       "      <td>lyft_premier</td>\n",
       "      <td>Lux</td>\n",
       "    </tr>\n",
       "    <tr>\n",
       "      <th>2</th>\n",
       "      <td>0.44</td>\n",
       "      <td>Lyft</td>\n",
       "      <td>1543366822198</td>\n",
       "      <td>North Station</td>\n",
       "      <td>Haymarket Square</td>\n",
       "      <td>7.0</td>\n",
       "      <td>1.0</td>\n",
       "      <td>981a3613-77af-4620-a42a-0c0866077d1e</td>\n",
       "      <td>lyft</td>\n",
       "      <td>Lyft</td>\n",
       "    </tr>\n",
       "    <tr>\n",
       "      <th>3</th>\n",
       "      <td>0.44</td>\n",
       "      <td>Lyft</td>\n",
       "      <td>1543553582749</td>\n",
       "      <td>North Station</td>\n",
       "      <td>Haymarket Square</td>\n",
       "      <td>26.0</td>\n",
       "      <td>1.0</td>\n",
       "      <td>c2d88af2-d278-4bfd-a8d0-29ca77cc5512</td>\n",
       "      <td>lyft_luxsuv</td>\n",
       "      <td>Lux Black XL</td>\n",
       "    </tr>\n",
       "    <tr>\n",
       "      <th>4</th>\n",
       "      <td>0.44</td>\n",
       "      <td>Lyft</td>\n",
       "      <td>1543463360223</td>\n",
       "      <td>North Station</td>\n",
       "      <td>Haymarket Square</td>\n",
       "      <td>9.0</td>\n",
       "      <td>1.0</td>\n",
       "      <td>e0126e1f-8ca9-4f2e-82b3-50505a09db9a</td>\n",
       "      <td>lyft_plus</td>\n",
       "      <td>Lyft XL</td>\n",
       "    </tr>\n",
       "  </tbody>\n",
       "</table>\n",
       "</div>"
      ],
      "text/plain": [
       "   distance cab_type     time_stamp    destination            source  price  \\\n",
       "0      0.44     Lyft  1544952607890  North Station  Haymarket Square    5.0   \n",
       "1      0.44     Lyft  1543284023677  North Station  Haymarket Square   11.0   \n",
       "2      0.44     Lyft  1543366822198  North Station  Haymarket Square    7.0   \n",
       "3      0.44     Lyft  1543553582749  North Station  Haymarket Square   26.0   \n",
       "4      0.44     Lyft  1543463360223  North Station  Haymarket Square    9.0   \n",
       "\n",
       "   surge_multiplier                                    id    product_id  \\\n",
       "0               1.0  424553bb-7174-41ea-aeb4-fe06d4f4b9d7     lyft_line   \n",
       "1               1.0  4bd23055-6827-41c6-b23b-3c491f24e74d  lyft_premier   \n",
       "2               1.0  981a3613-77af-4620-a42a-0c0866077d1e          lyft   \n",
       "3               1.0  c2d88af2-d278-4bfd-a8d0-29ca77cc5512   lyft_luxsuv   \n",
       "4               1.0  e0126e1f-8ca9-4f2e-82b3-50505a09db9a     lyft_plus   \n",
       "\n",
       "           name  \n",
       "0        Shared  \n",
       "1           Lux  \n",
       "2          Lyft  \n",
       "3  Lux Black XL  \n",
       "4       Lyft XL  "
      ]
     },
     "execution_count": 3,
     "metadata": {},
     "output_type": "execute_result"
    }
   ],
   "source": [
    "data_cab.head()"
   ]
  },
  {
   "cell_type": "code",
   "execution_count": 4,
   "metadata": {},
   "outputs": [],
   "source": [
    "data_cab = data_cab.drop(columns=['id','product_id'])"
   ]
  },
  {
   "cell_type": "code",
   "execution_count": 5,
   "metadata": {},
   "outputs": [
    {
     "data": {
      "text/html": [
       "<div>\n",
       "<style scoped>\n",
       "    .dataframe tbody tr th:only-of-type {\n",
       "        vertical-align: middle;\n",
       "    }\n",
       "\n",
       "    .dataframe tbody tr th {\n",
       "        vertical-align: top;\n",
       "    }\n",
       "\n",
       "    .dataframe thead th {\n",
       "        text-align: right;\n",
       "    }\n",
       "</style>\n",
       "<table border=\"1\" class=\"dataframe\">\n",
       "  <thead>\n",
       "    <tr style=\"text-align: right;\">\n",
       "      <th></th>\n",
       "      <th>temp</th>\n",
       "      <th>location</th>\n",
       "      <th>clouds</th>\n",
       "      <th>pressure</th>\n",
       "      <th>rain</th>\n",
       "      <th>time_stamp</th>\n",
       "      <th>humidity</th>\n",
       "      <th>wind</th>\n",
       "    </tr>\n",
       "  </thead>\n",
       "  <tbody>\n",
       "    <tr>\n",
       "      <th>0</th>\n",
       "      <td>42.42</td>\n",
       "      <td>Back Bay</td>\n",
       "      <td>1.0</td>\n",
       "      <td>1012.14</td>\n",
       "      <td>0.1228</td>\n",
       "      <td>1545003901</td>\n",
       "      <td>0.77</td>\n",
       "      <td>11.25</td>\n",
       "    </tr>\n",
       "    <tr>\n",
       "      <th>1</th>\n",
       "      <td>42.43</td>\n",
       "      <td>Beacon Hill</td>\n",
       "      <td>1.0</td>\n",
       "      <td>1012.15</td>\n",
       "      <td>0.1846</td>\n",
       "      <td>1545003901</td>\n",
       "      <td>0.76</td>\n",
       "      <td>11.32</td>\n",
       "    </tr>\n",
       "    <tr>\n",
       "      <th>2</th>\n",
       "      <td>42.50</td>\n",
       "      <td>Boston University</td>\n",
       "      <td>1.0</td>\n",
       "      <td>1012.15</td>\n",
       "      <td>0.1089</td>\n",
       "      <td>1545003901</td>\n",
       "      <td>0.76</td>\n",
       "      <td>11.07</td>\n",
       "    </tr>\n",
       "    <tr>\n",
       "      <th>3</th>\n",
       "      <td>42.11</td>\n",
       "      <td>Fenway</td>\n",
       "      <td>1.0</td>\n",
       "      <td>1012.13</td>\n",
       "      <td>0.0969</td>\n",
       "      <td>1545003901</td>\n",
       "      <td>0.77</td>\n",
       "      <td>11.09</td>\n",
       "    </tr>\n",
       "    <tr>\n",
       "      <th>4</th>\n",
       "      <td>43.13</td>\n",
       "      <td>Financial District</td>\n",
       "      <td>1.0</td>\n",
       "      <td>1012.14</td>\n",
       "      <td>0.1786</td>\n",
       "      <td>1545003901</td>\n",
       "      <td>0.75</td>\n",
       "      <td>11.49</td>\n",
       "    </tr>\n",
       "  </tbody>\n",
       "</table>\n",
       "</div>"
      ],
      "text/plain": [
       "    temp            location  clouds  pressure    rain  time_stamp  humidity  \\\n",
       "0  42.42            Back Bay     1.0   1012.14  0.1228  1545003901      0.77   \n",
       "1  42.43         Beacon Hill     1.0   1012.15  0.1846  1545003901      0.76   \n",
       "2  42.50   Boston University     1.0   1012.15  0.1089  1545003901      0.76   \n",
       "3  42.11              Fenway     1.0   1012.13  0.0969  1545003901      0.77   \n",
       "4  43.13  Financial District     1.0   1012.14  0.1786  1545003901      0.75   \n",
       "\n",
       "    wind  \n",
       "0  11.25  \n",
       "1  11.32  \n",
       "2  11.07  \n",
       "3  11.09  \n",
       "4  11.49  "
      ]
     },
     "execution_count": 5,
     "metadata": {},
     "output_type": "execute_result"
    }
   ],
   "source": [
    "data_weather.head()"
   ]
  },
  {
   "cell_type": "code",
   "execution_count": 6,
   "metadata": {},
   "outputs": [],
   "source": [
    "from datetime import datetime\n",
    "data_cab['date_time'] = [datetime.utcfromtimestamp(i/1000).strftime('%Y-%m-%d:%H') for i in data_cab['time_stamp']]\n",
    "data_cab['date'] = [datetime.utcfromtimestamp(i/1000).strftime('%Y-%m-%d') for i in data_cab['time_stamp']]\n",
    "data_cab['time'] = [datetime.utcfromtimestamp(i/1000).strftime('%H:%M') for i in data_cab['time_stamp']]\n",
    "data_cab['weekday'] = [(pd.Timestamp(i)).dayofweek for i in data_cab['date']]\n",
    "data_cab = data_cab.drop(columns=['time_stamp'])\n",
    "data_weather['date_time'] = [datetime.utcfromtimestamp(i).strftime('%Y-%m-%d:%H') for i in data_weather['time_stamp']]\n",
    "data_weather = data_weather.drop(columns=['time_stamp'])"
   ]
  },
  {
   "cell_type": "code",
   "execution_count": 7,
   "metadata": {},
   "outputs": [
    {
     "data": {
      "text/html": [
       "<div>\n",
       "<style scoped>\n",
       "    .dataframe tbody tr th:only-of-type {\n",
       "        vertical-align: middle;\n",
       "    }\n",
       "\n",
       "    .dataframe tbody tr th {\n",
       "        vertical-align: top;\n",
       "    }\n",
       "\n",
       "    .dataframe thead th {\n",
       "        text-align: right;\n",
       "    }\n",
       "</style>\n",
       "<table border=\"1\" class=\"dataframe\">\n",
       "  <thead>\n",
       "    <tr style=\"text-align: right;\">\n",
       "      <th></th>\n",
       "      <th>distance</th>\n",
       "      <th>cab_type</th>\n",
       "      <th>destination</th>\n",
       "      <th>source</th>\n",
       "      <th>price</th>\n",
       "      <th>surge_multiplier</th>\n",
       "      <th>name</th>\n",
       "      <th>date_time</th>\n",
       "      <th>date</th>\n",
       "      <th>time</th>\n",
       "      <th>weekday</th>\n",
       "    </tr>\n",
       "  </thead>\n",
       "  <tbody>\n",
       "    <tr>\n",
       "      <th>0</th>\n",
       "      <td>0.44</td>\n",
       "      <td>Lyft</td>\n",
       "      <td>North Station</td>\n",
       "      <td>Haymarket Square</td>\n",
       "      <td>5.0</td>\n",
       "      <td>1.0</td>\n",
       "      <td>Shared</td>\n",
       "      <td>2018-12-16:09</td>\n",
       "      <td>2018-12-16</td>\n",
       "      <td>09:30</td>\n",
       "      <td>6</td>\n",
       "    </tr>\n",
       "    <tr>\n",
       "      <th>1</th>\n",
       "      <td>0.44</td>\n",
       "      <td>Lyft</td>\n",
       "      <td>North Station</td>\n",
       "      <td>Haymarket Square</td>\n",
       "      <td>11.0</td>\n",
       "      <td>1.0</td>\n",
       "      <td>Lux</td>\n",
       "      <td>2018-11-27:02</td>\n",
       "      <td>2018-11-27</td>\n",
       "      <td>02:00</td>\n",
       "      <td>1</td>\n",
       "    </tr>\n",
       "    <tr>\n",
       "      <th>2</th>\n",
       "      <td>0.44</td>\n",
       "      <td>Lyft</td>\n",
       "      <td>North Station</td>\n",
       "      <td>Haymarket Square</td>\n",
       "      <td>7.0</td>\n",
       "      <td>1.0</td>\n",
       "      <td>Lyft</td>\n",
       "      <td>2018-11-28:01</td>\n",
       "      <td>2018-11-28</td>\n",
       "      <td>01:00</td>\n",
       "      <td>2</td>\n",
       "    </tr>\n",
       "    <tr>\n",
       "      <th>3</th>\n",
       "      <td>0.44</td>\n",
       "      <td>Lyft</td>\n",
       "      <td>North Station</td>\n",
       "      <td>Haymarket Square</td>\n",
       "      <td>26.0</td>\n",
       "      <td>1.0</td>\n",
       "      <td>Lux Black XL</td>\n",
       "      <td>2018-11-30:04</td>\n",
       "      <td>2018-11-30</td>\n",
       "      <td>04:53</td>\n",
       "      <td>4</td>\n",
       "    </tr>\n",
       "    <tr>\n",
       "      <th>4</th>\n",
       "      <td>0.44</td>\n",
       "      <td>Lyft</td>\n",
       "      <td>North Station</td>\n",
       "      <td>Haymarket Square</td>\n",
       "      <td>9.0</td>\n",
       "      <td>1.0</td>\n",
       "      <td>Lyft XL</td>\n",
       "      <td>2018-11-29:03</td>\n",
       "      <td>2018-11-29</td>\n",
       "      <td>03:49</td>\n",
       "      <td>3</td>\n",
       "    </tr>\n",
       "  </tbody>\n",
       "</table>\n",
       "</div>"
      ],
      "text/plain": [
       "   distance cab_type    destination            source  price  \\\n",
       "0      0.44     Lyft  North Station  Haymarket Square    5.0   \n",
       "1      0.44     Lyft  North Station  Haymarket Square   11.0   \n",
       "2      0.44     Lyft  North Station  Haymarket Square    7.0   \n",
       "3      0.44     Lyft  North Station  Haymarket Square   26.0   \n",
       "4      0.44     Lyft  North Station  Haymarket Square    9.0   \n",
       "\n",
       "   surge_multiplier          name      date_time        date   time  weekday  \n",
       "0               1.0        Shared  2018-12-16:09  2018-12-16  09:30        6  \n",
       "1               1.0           Lux  2018-11-27:02  2018-11-27  02:00        1  \n",
       "2               1.0          Lyft  2018-11-28:01  2018-11-28  01:00        2  \n",
       "3               1.0  Lux Black XL  2018-11-30:04  2018-11-30  04:53        4  \n",
       "4               1.0       Lyft XL  2018-11-29:03  2018-11-29  03:49        3  "
      ]
     },
     "execution_count": 7,
     "metadata": {},
     "output_type": "execute_result"
    }
   ],
   "source": [
    "data_cab.head()"
   ]
  },
  {
   "cell_type": "code",
   "execution_count": 8,
   "metadata": {},
   "outputs": [
    {
     "data": {
      "text/html": [
       "<div>\n",
       "<style scoped>\n",
       "    .dataframe tbody tr th:only-of-type {\n",
       "        vertical-align: middle;\n",
       "    }\n",
       "\n",
       "    .dataframe tbody tr th {\n",
       "        vertical-align: top;\n",
       "    }\n",
       "\n",
       "    .dataframe thead th {\n",
       "        text-align: right;\n",
       "    }\n",
       "</style>\n",
       "<table border=\"1\" class=\"dataframe\">\n",
       "  <thead>\n",
       "    <tr style=\"text-align: right;\">\n",
       "      <th></th>\n",
       "      <th>temp</th>\n",
       "      <th>location</th>\n",
       "      <th>clouds</th>\n",
       "      <th>pressure</th>\n",
       "      <th>rain</th>\n",
       "      <th>humidity</th>\n",
       "      <th>wind</th>\n",
       "      <th>date_time</th>\n",
       "    </tr>\n",
       "  </thead>\n",
       "  <tbody>\n",
       "    <tr>\n",
       "      <th>0</th>\n",
       "      <td>42.42</td>\n",
       "      <td>Back Bay</td>\n",
       "      <td>1.0</td>\n",
       "      <td>1012.14</td>\n",
       "      <td>0.1228</td>\n",
       "      <td>0.77</td>\n",
       "      <td>11.25</td>\n",
       "      <td>2018-12-16:23</td>\n",
       "    </tr>\n",
       "    <tr>\n",
       "      <th>1</th>\n",
       "      <td>42.43</td>\n",
       "      <td>Beacon Hill</td>\n",
       "      <td>1.0</td>\n",
       "      <td>1012.15</td>\n",
       "      <td>0.1846</td>\n",
       "      <td>0.76</td>\n",
       "      <td>11.32</td>\n",
       "      <td>2018-12-16:23</td>\n",
       "    </tr>\n",
       "    <tr>\n",
       "      <th>2</th>\n",
       "      <td>42.50</td>\n",
       "      <td>Boston University</td>\n",
       "      <td>1.0</td>\n",
       "      <td>1012.15</td>\n",
       "      <td>0.1089</td>\n",
       "      <td>0.76</td>\n",
       "      <td>11.07</td>\n",
       "      <td>2018-12-16:23</td>\n",
       "    </tr>\n",
       "    <tr>\n",
       "      <th>3</th>\n",
       "      <td>42.11</td>\n",
       "      <td>Fenway</td>\n",
       "      <td>1.0</td>\n",
       "      <td>1012.13</td>\n",
       "      <td>0.0969</td>\n",
       "      <td>0.77</td>\n",
       "      <td>11.09</td>\n",
       "      <td>2018-12-16:23</td>\n",
       "    </tr>\n",
       "    <tr>\n",
       "      <th>4</th>\n",
       "      <td>43.13</td>\n",
       "      <td>Financial District</td>\n",
       "      <td>1.0</td>\n",
       "      <td>1012.14</td>\n",
       "      <td>0.1786</td>\n",
       "      <td>0.75</td>\n",
       "      <td>11.49</td>\n",
       "      <td>2018-12-16:23</td>\n",
       "    </tr>\n",
       "  </tbody>\n",
       "</table>\n",
       "</div>"
      ],
      "text/plain": [
       "    temp            location  clouds  pressure    rain  humidity   wind  \\\n",
       "0  42.42            Back Bay     1.0   1012.14  0.1228      0.77  11.25   \n",
       "1  42.43         Beacon Hill     1.0   1012.15  0.1846      0.76  11.32   \n",
       "2  42.50   Boston University     1.0   1012.15  0.1089      0.76  11.07   \n",
       "3  42.11              Fenway     1.0   1012.13  0.0969      0.77  11.09   \n",
       "4  43.13  Financial District     1.0   1012.14  0.1786      0.75  11.49   \n",
       "\n",
       "       date_time  \n",
       "0  2018-12-16:23  \n",
       "1  2018-12-16:23  \n",
       "2  2018-12-16:23  \n",
       "3  2018-12-16:23  \n",
       "4  2018-12-16:23  "
      ]
     },
     "execution_count": 8,
     "metadata": {},
     "output_type": "execute_result"
    }
   ],
   "source": [
    "data_weather.head()"
   ]
  },
  {
   "cell_type": "code",
   "execution_count": 9,
   "metadata": {},
   "outputs": [],
   "source": [
    "data_cab['date-location'] = data_cab.source.astype(str)+\",\"+data_cab.date_time.astype(str)\n",
    "data_weather['date-location'] = data_weather.location.astype(str)+\",\"+data_weather.date_time.astype(str)"
   ]
  },
  {
   "cell_type": "code",
   "execution_count": 10,
   "metadata": {},
   "outputs": [
    {
     "data": {
      "text/html": [
       "<div>\n",
       "<style scoped>\n",
       "    .dataframe tbody tr th:only-of-type {\n",
       "        vertical-align: middle;\n",
       "    }\n",
       "\n",
       "    .dataframe tbody tr th {\n",
       "        vertical-align: top;\n",
       "    }\n",
       "\n",
       "    .dataframe thead th {\n",
       "        text-align: right;\n",
       "    }\n",
       "</style>\n",
       "<table border=\"1\" class=\"dataframe\">\n",
       "  <thead>\n",
       "    <tr style=\"text-align: right;\">\n",
       "      <th></th>\n",
       "      <th>distance</th>\n",
       "      <th>cab_type</th>\n",
       "      <th>destination</th>\n",
       "      <th>source</th>\n",
       "      <th>price</th>\n",
       "      <th>surge_multiplier</th>\n",
       "      <th>name</th>\n",
       "      <th>date_time</th>\n",
       "      <th>date</th>\n",
       "      <th>time</th>\n",
       "      <th>weekday</th>\n",
       "      <th>date-location</th>\n",
       "    </tr>\n",
       "  </thead>\n",
       "  <tbody>\n",
       "    <tr>\n",
       "      <th>0</th>\n",
       "      <td>0.44</td>\n",
       "      <td>Lyft</td>\n",
       "      <td>North Station</td>\n",
       "      <td>Haymarket Square</td>\n",
       "      <td>5.0</td>\n",
       "      <td>1.0</td>\n",
       "      <td>Shared</td>\n",
       "      <td>2018-12-16:09</td>\n",
       "      <td>2018-12-16</td>\n",
       "      <td>09:30</td>\n",
       "      <td>6</td>\n",
       "      <td>Haymarket Square,2018-12-16:09</td>\n",
       "    </tr>\n",
       "    <tr>\n",
       "      <th>1</th>\n",
       "      <td>0.44</td>\n",
       "      <td>Lyft</td>\n",
       "      <td>North Station</td>\n",
       "      <td>Haymarket Square</td>\n",
       "      <td>11.0</td>\n",
       "      <td>1.0</td>\n",
       "      <td>Lux</td>\n",
       "      <td>2018-11-27:02</td>\n",
       "      <td>2018-11-27</td>\n",
       "      <td>02:00</td>\n",
       "      <td>1</td>\n",
       "      <td>Haymarket Square,2018-11-27:02</td>\n",
       "    </tr>\n",
       "    <tr>\n",
       "      <th>2</th>\n",
       "      <td>0.44</td>\n",
       "      <td>Lyft</td>\n",
       "      <td>North Station</td>\n",
       "      <td>Haymarket Square</td>\n",
       "      <td>7.0</td>\n",
       "      <td>1.0</td>\n",
       "      <td>Lyft</td>\n",
       "      <td>2018-11-28:01</td>\n",
       "      <td>2018-11-28</td>\n",
       "      <td>01:00</td>\n",
       "      <td>2</td>\n",
       "      <td>Haymarket Square,2018-11-28:01</td>\n",
       "    </tr>\n",
       "    <tr>\n",
       "      <th>3</th>\n",
       "      <td>0.44</td>\n",
       "      <td>Lyft</td>\n",
       "      <td>North Station</td>\n",
       "      <td>Haymarket Square</td>\n",
       "      <td>26.0</td>\n",
       "      <td>1.0</td>\n",
       "      <td>Lux Black XL</td>\n",
       "      <td>2018-11-30:04</td>\n",
       "      <td>2018-11-30</td>\n",
       "      <td>04:53</td>\n",
       "      <td>4</td>\n",
       "      <td>Haymarket Square,2018-11-30:04</td>\n",
       "    </tr>\n",
       "    <tr>\n",
       "      <th>4</th>\n",
       "      <td>0.44</td>\n",
       "      <td>Lyft</td>\n",
       "      <td>North Station</td>\n",
       "      <td>Haymarket Square</td>\n",
       "      <td>9.0</td>\n",
       "      <td>1.0</td>\n",
       "      <td>Lyft XL</td>\n",
       "      <td>2018-11-29:03</td>\n",
       "      <td>2018-11-29</td>\n",
       "      <td>03:49</td>\n",
       "      <td>3</td>\n",
       "      <td>Haymarket Square,2018-11-29:03</td>\n",
       "    </tr>\n",
       "  </tbody>\n",
       "</table>\n",
       "</div>"
      ],
      "text/plain": [
       "   distance cab_type    destination            source  price  \\\n",
       "0      0.44     Lyft  North Station  Haymarket Square    5.0   \n",
       "1      0.44     Lyft  North Station  Haymarket Square   11.0   \n",
       "2      0.44     Lyft  North Station  Haymarket Square    7.0   \n",
       "3      0.44     Lyft  North Station  Haymarket Square   26.0   \n",
       "4      0.44     Lyft  North Station  Haymarket Square    9.0   \n",
       "\n",
       "   surge_multiplier          name      date_time        date   time  weekday  \\\n",
       "0               1.0        Shared  2018-12-16:09  2018-12-16  09:30        6   \n",
       "1               1.0           Lux  2018-11-27:02  2018-11-27  02:00        1   \n",
       "2               1.0          Lyft  2018-11-28:01  2018-11-28  01:00        2   \n",
       "3               1.0  Lux Black XL  2018-11-30:04  2018-11-30  04:53        4   \n",
       "4               1.0       Lyft XL  2018-11-29:03  2018-11-29  03:49        3   \n",
       "\n",
       "                    date-location  \n",
       "0  Haymarket Square,2018-12-16:09  \n",
       "1  Haymarket Square,2018-11-27:02  \n",
       "2  Haymarket Square,2018-11-28:01  \n",
       "3  Haymarket Square,2018-11-30:04  \n",
       "4  Haymarket Square,2018-11-29:03  "
      ]
     },
     "execution_count": 10,
     "metadata": {},
     "output_type": "execute_result"
    }
   ],
   "source": [
    "data_cab.head()"
   ]
  },
  {
   "cell_type": "code",
   "execution_count": 11,
   "metadata": {},
   "outputs": [
    {
     "data": {
      "text/html": [
       "<div>\n",
       "<style scoped>\n",
       "    .dataframe tbody tr th:only-of-type {\n",
       "        vertical-align: middle;\n",
       "    }\n",
       "\n",
       "    .dataframe tbody tr th {\n",
       "        vertical-align: top;\n",
       "    }\n",
       "\n",
       "    .dataframe thead th {\n",
       "        text-align: right;\n",
       "    }\n",
       "</style>\n",
       "<table border=\"1\" class=\"dataframe\">\n",
       "  <thead>\n",
       "    <tr style=\"text-align: right;\">\n",
       "      <th></th>\n",
       "      <th>temp</th>\n",
       "      <th>location</th>\n",
       "      <th>clouds</th>\n",
       "      <th>pressure</th>\n",
       "      <th>rain</th>\n",
       "      <th>humidity</th>\n",
       "      <th>wind</th>\n",
       "      <th>date_time</th>\n",
       "      <th>date-location</th>\n",
       "    </tr>\n",
       "  </thead>\n",
       "  <tbody>\n",
       "    <tr>\n",
       "      <th>0</th>\n",
       "      <td>42.42</td>\n",
       "      <td>Back Bay</td>\n",
       "      <td>1.0</td>\n",
       "      <td>1012.14</td>\n",
       "      <td>0.1228</td>\n",
       "      <td>0.77</td>\n",
       "      <td>11.25</td>\n",
       "      <td>2018-12-16:23</td>\n",
       "      <td>Back Bay,2018-12-16:23</td>\n",
       "    </tr>\n",
       "    <tr>\n",
       "      <th>1</th>\n",
       "      <td>42.43</td>\n",
       "      <td>Beacon Hill</td>\n",
       "      <td>1.0</td>\n",
       "      <td>1012.15</td>\n",
       "      <td>0.1846</td>\n",
       "      <td>0.76</td>\n",
       "      <td>11.32</td>\n",
       "      <td>2018-12-16:23</td>\n",
       "      <td>Beacon Hill,2018-12-16:23</td>\n",
       "    </tr>\n",
       "    <tr>\n",
       "      <th>2</th>\n",
       "      <td>42.50</td>\n",
       "      <td>Boston University</td>\n",
       "      <td>1.0</td>\n",
       "      <td>1012.15</td>\n",
       "      <td>0.1089</td>\n",
       "      <td>0.76</td>\n",
       "      <td>11.07</td>\n",
       "      <td>2018-12-16:23</td>\n",
       "      <td>Boston University,2018-12-16:23</td>\n",
       "    </tr>\n",
       "    <tr>\n",
       "      <th>3</th>\n",
       "      <td>42.11</td>\n",
       "      <td>Fenway</td>\n",
       "      <td>1.0</td>\n",
       "      <td>1012.13</td>\n",
       "      <td>0.0969</td>\n",
       "      <td>0.77</td>\n",
       "      <td>11.09</td>\n",
       "      <td>2018-12-16:23</td>\n",
       "      <td>Fenway,2018-12-16:23</td>\n",
       "    </tr>\n",
       "    <tr>\n",
       "      <th>4</th>\n",
       "      <td>43.13</td>\n",
       "      <td>Financial District</td>\n",
       "      <td>1.0</td>\n",
       "      <td>1012.14</td>\n",
       "      <td>0.1786</td>\n",
       "      <td>0.75</td>\n",
       "      <td>11.49</td>\n",
       "      <td>2018-12-16:23</td>\n",
       "      <td>Financial District,2018-12-16:23</td>\n",
       "    </tr>\n",
       "  </tbody>\n",
       "</table>\n",
       "</div>"
      ],
      "text/plain": [
       "    temp            location  clouds  pressure    rain  humidity   wind  \\\n",
       "0  42.42            Back Bay     1.0   1012.14  0.1228      0.77  11.25   \n",
       "1  42.43         Beacon Hill     1.0   1012.15  0.1846      0.76  11.32   \n",
       "2  42.50   Boston University     1.0   1012.15  0.1089      0.76  11.07   \n",
       "3  42.11              Fenway     1.0   1012.13  0.0969      0.77  11.09   \n",
       "4  43.13  Financial District     1.0   1012.14  0.1786      0.75  11.49   \n",
       "\n",
       "       date_time                     date-location  \n",
       "0  2018-12-16:23            Back Bay,2018-12-16:23  \n",
       "1  2018-12-16:23         Beacon Hill,2018-12-16:23  \n",
       "2  2018-12-16:23   Boston University,2018-12-16:23  \n",
       "3  2018-12-16:23              Fenway,2018-12-16:23  \n",
       "4  2018-12-16:23  Financial District,2018-12-16:23  "
      ]
     },
     "execution_count": 11,
     "metadata": {},
     "output_type": "execute_result"
    }
   ],
   "source": [
    "data_weather.head()"
   ]
  },
  {
   "cell_type": "code",
   "execution_count": 12,
   "metadata": {},
   "outputs": [],
   "source": [
    "data_weather.index = data_weather['date-location']\n",
    "data_merged = data_cab.join(data_weather,on=['date-location'],rsuffix ='_copy')"
   ]
  },
  {
   "cell_type": "code",
   "execution_count": 13,
   "metadata": {},
   "outputs": [],
   "source": [
    "import numpy as np\n",
    "data_merged = data_merged[pd.notnull(data_merged['temp'])]\n",
    "data_merged['rain'] = data_merged['rain'].replace(np.nan,0)"
   ]
  },
  {
   "cell_type": "code",
   "execution_count": 14,
   "metadata": {},
   "outputs": [],
   "source": [
    "data_merged = data_merged.drop(columns=['date_time_copy','date-location_copy'])"
   ]
  },
  {
   "cell_type": "code",
   "execution_count": 15,
   "metadata": {},
   "outputs": [],
   "source": [
    "data_merged = data_merged.drop(columns=['date-location','location'])"
   ]
  },
  {
   "cell_type": "code",
   "execution_count": 16,
   "metadata": {},
   "outputs": [
    {
     "data": {
      "text/html": [
       "<div>\n",
       "<style scoped>\n",
       "    .dataframe tbody tr th:only-of-type {\n",
       "        vertical-align: middle;\n",
       "    }\n",
       "\n",
       "    .dataframe tbody tr th {\n",
       "        vertical-align: top;\n",
       "    }\n",
       "\n",
       "    .dataframe thead th {\n",
       "        text-align: right;\n",
       "    }\n",
       "</style>\n",
       "<table border=\"1\" class=\"dataframe\">\n",
       "  <thead>\n",
       "    <tr style=\"text-align: right;\">\n",
       "      <th></th>\n",
       "      <th>distance</th>\n",
       "      <th>cab_type</th>\n",
       "      <th>destination</th>\n",
       "      <th>source</th>\n",
       "      <th>price</th>\n",
       "      <th>surge_multiplier</th>\n",
       "      <th>name</th>\n",
       "      <th>date_time</th>\n",
       "      <th>date</th>\n",
       "      <th>time</th>\n",
       "      <th>weekday</th>\n",
       "      <th>temp</th>\n",
       "      <th>clouds</th>\n",
       "      <th>pressure</th>\n",
       "      <th>rain</th>\n",
       "      <th>humidity</th>\n",
       "      <th>wind</th>\n",
       "    </tr>\n",
       "  </thead>\n",
       "  <tbody>\n",
       "    <tr>\n",
       "      <th>0</th>\n",
       "      <td>0.44</td>\n",
       "      <td>Lyft</td>\n",
       "      <td>North Station</td>\n",
       "      <td>Haymarket Square</td>\n",
       "      <td>5.0</td>\n",
       "      <td>1.0</td>\n",
       "      <td>Shared</td>\n",
       "      <td>2018-12-16:09</td>\n",
       "      <td>2018-12-16</td>\n",
       "      <td>09:30</td>\n",
       "      <td>6</td>\n",
       "      <td>38.46</td>\n",
       "      <td>0.29</td>\n",
       "      <td>1022.25</td>\n",
       "      <td>0.0000</td>\n",
       "      <td>0.76</td>\n",
       "      <td>7.68</td>\n",
       "    </tr>\n",
       "    <tr>\n",
       "      <th>1</th>\n",
       "      <td>0.44</td>\n",
       "      <td>Lyft</td>\n",
       "      <td>North Station</td>\n",
       "      <td>Haymarket Square</td>\n",
       "      <td>11.0</td>\n",
       "      <td>1.0</td>\n",
       "      <td>Lux</td>\n",
       "      <td>2018-11-27:02</td>\n",
       "      <td>2018-11-27</td>\n",
       "      <td>02:00</td>\n",
       "      <td>1</td>\n",
       "      <td>44.31</td>\n",
       "      <td>1.00</td>\n",
       "      <td>1003.17</td>\n",
       "      <td>0.1123</td>\n",
       "      <td>0.90</td>\n",
       "      <td>13.69</td>\n",
       "    </tr>\n",
       "    <tr>\n",
       "      <th>1</th>\n",
       "      <td>0.44</td>\n",
       "      <td>Lyft</td>\n",
       "      <td>North Station</td>\n",
       "      <td>Haymarket Square</td>\n",
       "      <td>11.0</td>\n",
       "      <td>1.0</td>\n",
       "      <td>Lux</td>\n",
       "      <td>2018-11-27:02</td>\n",
       "      <td>2018-11-27</td>\n",
       "      <td>02:00</td>\n",
       "      <td>1</td>\n",
       "      <td>43.82</td>\n",
       "      <td>0.99</td>\n",
       "      <td>1002.59</td>\n",
       "      <td>0.0997</td>\n",
       "      <td>0.89</td>\n",
       "      <td>11.57</td>\n",
       "    </tr>\n",
       "    <tr>\n",
       "      <th>3</th>\n",
       "      <td>0.44</td>\n",
       "      <td>Lyft</td>\n",
       "      <td>North Station</td>\n",
       "      <td>Haymarket Square</td>\n",
       "      <td>26.0</td>\n",
       "      <td>1.0</td>\n",
       "      <td>Lux Black XL</td>\n",
       "      <td>2018-11-30:04</td>\n",
       "      <td>2018-11-30</td>\n",
       "      <td>04:53</td>\n",
       "      <td>4</td>\n",
       "      <td>35.08</td>\n",
       "      <td>0.00</td>\n",
       "      <td>1013.71</td>\n",
       "      <td>0.0000</td>\n",
       "      <td>0.70</td>\n",
       "      <td>5.25</td>\n",
       "    </tr>\n",
       "    <tr>\n",
       "      <th>4</th>\n",
       "      <td>0.44</td>\n",
       "      <td>Lyft</td>\n",
       "      <td>North Station</td>\n",
       "      <td>Haymarket Square</td>\n",
       "      <td>9.0</td>\n",
       "      <td>1.0</td>\n",
       "      <td>Lyft XL</td>\n",
       "      <td>2018-11-29:03</td>\n",
       "      <td>2018-11-29</td>\n",
       "      <td>03:49</td>\n",
       "      <td>3</td>\n",
       "      <td>37.58</td>\n",
       "      <td>0.42</td>\n",
       "      <td>998.64</td>\n",
       "      <td>0.0000</td>\n",
       "      <td>0.71</td>\n",
       "      <td>11.30</td>\n",
       "    </tr>\n",
       "    <tr>\n",
       "      <th>4</th>\n",
       "      <td>0.44</td>\n",
       "      <td>Lyft</td>\n",
       "      <td>North Station</td>\n",
       "      <td>Haymarket Square</td>\n",
       "      <td>9.0</td>\n",
       "      <td>1.0</td>\n",
       "      <td>Lyft XL</td>\n",
       "      <td>2018-11-29:03</td>\n",
       "      <td>2018-11-29</td>\n",
       "      <td>03:49</td>\n",
       "      <td>3</td>\n",
       "      <td>37.80</td>\n",
       "      <td>0.47</td>\n",
       "      <td>998.20</td>\n",
       "      <td>0.0000</td>\n",
       "      <td>0.70</td>\n",
       "      <td>11.02</td>\n",
       "    </tr>\n",
       "    <tr>\n",
       "      <th>4</th>\n",
       "      <td>0.44</td>\n",
       "      <td>Lyft</td>\n",
       "      <td>North Station</td>\n",
       "      <td>Haymarket Square</td>\n",
       "      <td>9.0</td>\n",
       "      <td>1.0</td>\n",
       "      <td>Lyft XL</td>\n",
       "      <td>2018-11-29:03</td>\n",
       "      <td>2018-11-29</td>\n",
       "      <td>03:49</td>\n",
       "      <td>3</td>\n",
       "      <td>37.66</td>\n",
       "      <td>0.41</td>\n",
       "      <td>998.42</td>\n",
       "      <td>0.0000</td>\n",
       "      <td>0.71</td>\n",
       "      <td>11.16</td>\n",
       "    </tr>\n",
       "    <tr>\n",
       "      <th>5</th>\n",
       "      <td>0.44</td>\n",
       "      <td>Lyft</td>\n",
       "      <td>North Station</td>\n",
       "      <td>Haymarket Square</td>\n",
       "      <td>16.5</td>\n",
       "      <td>1.0</td>\n",
       "      <td>Lux Black</td>\n",
       "      <td>2018-12-17:18</td>\n",
       "      <td>2018-12-17</td>\n",
       "      <td>18:25</td>\n",
       "      <td>0</td>\n",
       "      <td>40.78</td>\n",
       "      <td>0.93</td>\n",
       "      <td>1000.15</td>\n",
       "      <td>0.0000</td>\n",
       "      <td>0.79</td>\n",
       "      <td>7.55</td>\n",
       "    </tr>\n",
       "    <tr>\n",
       "      <th>6</th>\n",
       "      <td>1.08</td>\n",
       "      <td>Lyft</td>\n",
       "      <td>Northeastern University</td>\n",
       "      <td>Back Bay</td>\n",
       "      <td>10.5</td>\n",
       "      <td>1.0</td>\n",
       "      <td>Lyft XL</td>\n",
       "      <td>2018-11-26:05</td>\n",
       "      <td>2018-11-26</td>\n",
       "      <td>05:03</td>\n",
       "      <td>0</td>\n",
       "      <td>40.65</td>\n",
       "      <td>0.93</td>\n",
       "      <td>1013.76</td>\n",
       "      <td>0.0000</td>\n",
       "      <td>0.92</td>\n",
       "      <td>3.01</td>\n",
       "    </tr>\n",
       "    <tr>\n",
       "      <th>6</th>\n",
       "      <td>1.08</td>\n",
       "      <td>Lyft</td>\n",
       "      <td>Northeastern University</td>\n",
       "      <td>Back Bay</td>\n",
       "      <td>10.5</td>\n",
       "      <td>1.0</td>\n",
       "      <td>Lyft XL</td>\n",
       "      <td>2018-11-26:05</td>\n",
       "      <td>2018-11-26</td>\n",
       "      <td>05:03</td>\n",
       "      <td>0</td>\n",
       "      <td>40.39</td>\n",
       "      <td>0.92</td>\n",
       "      <td>1013.79</td>\n",
       "      <td>0.0000</td>\n",
       "      <td>0.93</td>\n",
       "      <td>2.71</td>\n",
       "    </tr>\n",
       "    <tr>\n",
       "      <th>6</th>\n",
       "      <td>1.08</td>\n",
       "      <td>Lyft</td>\n",
       "      <td>Northeastern University</td>\n",
       "      <td>Back Bay</td>\n",
       "      <td>10.5</td>\n",
       "      <td>1.0</td>\n",
       "      <td>Lyft XL</td>\n",
       "      <td>2018-11-26:05</td>\n",
       "      <td>2018-11-26</td>\n",
       "      <td>05:03</td>\n",
       "      <td>0</td>\n",
       "      <td>40.40</td>\n",
       "      <td>0.92</td>\n",
       "      <td>1013.79</td>\n",
       "      <td>0.0000</td>\n",
       "      <td>0.93</td>\n",
       "      <td>2.71</td>\n",
       "    </tr>\n",
       "    <tr>\n",
       "      <th>6</th>\n",
       "      <td>1.08</td>\n",
       "      <td>Lyft</td>\n",
       "      <td>Northeastern University</td>\n",
       "      <td>Back Bay</td>\n",
       "      <td>10.5</td>\n",
       "      <td>1.0</td>\n",
       "      <td>Lyft XL</td>\n",
       "      <td>2018-11-26:05</td>\n",
       "      <td>2018-11-26</td>\n",
       "      <td>05:03</td>\n",
       "      <td>0</td>\n",
       "      <td>40.64</td>\n",
       "      <td>0.92</td>\n",
       "      <td>1013.76</td>\n",
       "      <td>0.0000</td>\n",
       "      <td>0.92</td>\n",
       "      <td>3.02</td>\n",
       "    </tr>\n",
       "    <tr>\n",
       "      <th>6</th>\n",
       "      <td>1.08</td>\n",
       "      <td>Lyft</td>\n",
       "      <td>Northeastern University</td>\n",
       "      <td>Back Bay</td>\n",
       "      <td>10.5</td>\n",
       "      <td>1.0</td>\n",
       "      <td>Lyft XL</td>\n",
       "      <td>2018-11-26:05</td>\n",
       "      <td>2018-11-26</td>\n",
       "      <td>05:03</td>\n",
       "      <td>0</td>\n",
       "      <td>40.65</td>\n",
       "      <td>0.93</td>\n",
       "      <td>1013.76</td>\n",
       "      <td>0.0000</td>\n",
       "      <td>0.92</td>\n",
       "      <td>3.01</td>\n",
       "    </tr>\n",
       "    <tr>\n",
       "      <th>6</th>\n",
       "      <td>1.08</td>\n",
       "      <td>Lyft</td>\n",
       "      <td>Northeastern University</td>\n",
       "      <td>Back Bay</td>\n",
       "      <td>10.5</td>\n",
       "      <td>1.0</td>\n",
       "      <td>Lyft XL</td>\n",
       "      <td>2018-11-26:05</td>\n",
       "      <td>2018-11-26</td>\n",
       "      <td>05:03</td>\n",
       "      <td>0</td>\n",
       "      <td>40.68</td>\n",
       "      <td>0.93</td>\n",
       "      <td>1013.74</td>\n",
       "      <td>0.0000</td>\n",
       "      <td>0.92</td>\n",
       "      <td>3.00</td>\n",
       "    </tr>\n",
       "    <tr>\n",
       "      <th>6</th>\n",
       "      <td>1.08</td>\n",
       "      <td>Lyft</td>\n",
       "      <td>Northeastern University</td>\n",
       "      <td>Back Bay</td>\n",
       "      <td>10.5</td>\n",
       "      <td>1.0</td>\n",
       "      <td>Lyft XL</td>\n",
       "      <td>2018-11-26:05</td>\n",
       "      <td>2018-11-26</td>\n",
       "      <td>05:03</td>\n",
       "      <td>0</td>\n",
       "      <td>40.67</td>\n",
       "      <td>0.89</td>\n",
       "      <td>1013.82</td>\n",
       "      <td>0.0000</td>\n",
       "      <td>0.92</td>\n",
       "      <td>1.81</td>\n",
       "    </tr>\n",
       "    <tr>\n",
       "      <th>6</th>\n",
       "      <td>1.08</td>\n",
       "      <td>Lyft</td>\n",
       "      <td>Northeastern University</td>\n",
       "      <td>Back Bay</td>\n",
       "      <td>10.5</td>\n",
       "      <td>1.0</td>\n",
       "      <td>Lyft XL</td>\n",
       "      <td>2018-11-26:05</td>\n",
       "      <td>2018-11-26</td>\n",
       "      <td>05:03</td>\n",
       "      <td>0</td>\n",
       "      <td>40.41</td>\n",
       "      <td>1.00</td>\n",
       "      <td>1014.15</td>\n",
       "      <td>0.0000</td>\n",
       "      <td>0.91</td>\n",
       "      <td>0.70</td>\n",
       "    </tr>\n",
       "    <tr>\n",
       "      <th>7</th>\n",
       "      <td>1.08</td>\n",
       "      <td>Lyft</td>\n",
       "      <td>Northeastern University</td>\n",
       "      <td>Back Bay</td>\n",
       "      <td>16.5</td>\n",
       "      <td>1.0</td>\n",
       "      <td>Lux Black</td>\n",
       "      <td>2018-12-02:19</td>\n",
       "      <td>2018-12-02</td>\n",
       "      <td>19:53</td>\n",
       "      <td>6</td>\n",
       "      <td>50.49</td>\n",
       "      <td>1.00</td>\n",
       "      <td>1004.05</td>\n",
       "      <td>0.0000</td>\n",
       "      <td>0.92</td>\n",
       "      <td>2.46</td>\n",
       "    </tr>\n",
       "    <tr>\n",
       "      <th>8</th>\n",
       "      <td>1.08</td>\n",
       "      <td>Lyft</td>\n",
       "      <td>Northeastern University</td>\n",
       "      <td>Back Bay</td>\n",
       "      <td>3.0</td>\n",
       "      <td>1.0</td>\n",
       "      <td>Shared</td>\n",
       "      <td>2018-12-03:06</td>\n",
       "      <td>2018-12-03</td>\n",
       "      <td>06:28</td>\n",
       "      <td>0</td>\n",
       "      <td>44.85</td>\n",
       "      <td>0.89</td>\n",
       "      <td>1000.70</td>\n",
       "      <td>0.0000</td>\n",
       "      <td>0.95</td>\n",
       "      <td>1.53</td>\n",
       "    </tr>\n",
       "    <tr>\n",
       "      <th>9</th>\n",
       "      <td>1.08</td>\n",
       "      <td>Lyft</td>\n",
       "      <td>Northeastern University</td>\n",
       "      <td>Back Bay</td>\n",
       "      <td>27.5</td>\n",
       "      <td>1.0</td>\n",
       "      <td>Lux Black XL</td>\n",
       "      <td>2018-11-27:10</td>\n",
       "      <td>2018-11-27</td>\n",
       "      <td>10:45</td>\n",
       "      <td>1</td>\n",
       "      <td>44.56</td>\n",
       "      <td>0.99</td>\n",
       "      <td>990.78</td>\n",
       "      <td>0.0213</td>\n",
       "      <td>0.96</td>\n",
       "      <td>5.87</td>\n",
       "    </tr>\n",
       "    <tr>\n",
       "      <th>9</th>\n",
       "      <td>1.08</td>\n",
       "      <td>Lyft</td>\n",
       "      <td>Northeastern University</td>\n",
       "      <td>Back Bay</td>\n",
       "      <td>27.5</td>\n",
       "      <td>1.0</td>\n",
       "      <td>Lux Black XL</td>\n",
       "      <td>2018-11-27:10</td>\n",
       "      <td>2018-11-27</td>\n",
       "      <td>10:45</td>\n",
       "      <td>1</td>\n",
       "      <td>44.95</td>\n",
       "      <td>0.99</td>\n",
       "      <td>990.87</td>\n",
       "      <td>0.0087</td>\n",
       "      <td>0.97</td>\n",
       "      <td>6.14</td>\n",
       "    </tr>\n",
       "    <tr>\n",
       "      <th>10</th>\n",
       "      <td>1.08</td>\n",
       "      <td>Lyft</td>\n",
       "      <td>Northeastern University</td>\n",
       "      <td>Back Bay</td>\n",
       "      <td>13.5</td>\n",
       "      <td>1.0</td>\n",
       "      <td>Lux</td>\n",
       "      <td>2018-11-30:16</td>\n",
       "      <td>2018-11-30</td>\n",
       "      <td>16:13</td>\n",
       "      <td>4</td>\n",
       "      <td>41.78</td>\n",
       "      <td>0.15</td>\n",
       "      <td>1016.57</td>\n",
       "      <td>0.0000</td>\n",
       "      <td>0.57</td>\n",
       "      <td>2.51</td>\n",
       "    </tr>\n",
       "    <tr>\n",
       "      <th>11</th>\n",
       "      <td>1.08</td>\n",
       "      <td>Lyft</td>\n",
       "      <td>Northeastern University</td>\n",
       "      <td>Back Bay</td>\n",
       "      <td>7.0</td>\n",
       "      <td>1.0</td>\n",
       "      <td>Lyft</td>\n",
       "      <td>2018-11-28:19</td>\n",
       "      <td>2018-11-28</td>\n",
       "      <td>19:23</td>\n",
       "      <td>2</td>\n",
       "      <td>41.09</td>\n",
       "      <td>1.00</td>\n",
       "      <td>991.83</td>\n",
       "      <td>0.0000</td>\n",
       "      <td>0.64</td>\n",
       "      <td>9.45</td>\n",
       "    </tr>\n",
       "    <tr>\n",
       "      <th>11</th>\n",
       "      <td>1.08</td>\n",
       "      <td>Lyft</td>\n",
       "      <td>Northeastern University</td>\n",
       "      <td>Back Bay</td>\n",
       "      <td>7.0</td>\n",
       "      <td>1.0</td>\n",
       "      <td>Lyft</td>\n",
       "      <td>2018-11-28:19</td>\n",
       "      <td>2018-11-28</td>\n",
       "      <td>19:23</td>\n",
       "      <td>2</td>\n",
       "      <td>40.51</td>\n",
       "      <td>1.00</td>\n",
       "      <td>992.59</td>\n",
       "      <td>0.0000</td>\n",
       "      <td>0.66</td>\n",
       "      <td>9.88</td>\n",
       "    </tr>\n",
       "    <tr>\n",
       "      <th>11</th>\n",
       "      <td>1.08</td>\n",
       "      <td>Lyft</td>\n",
       "      <td>Northeastern University</td>\n",
       "      <td>Back Bay</td>\n",
       "      <td>7.0</td>\n",
       "      <td>1.0</td>\n",
       "      <td>Lyft</td>\n",
       "      <td>2018-11-28:19</td>\n",
       "      <td>2018-11-28</td>\n",
       "      <td>19:23</td>\n",
       "      <td>2</td>\n",
       "      <td>41.05</td>\n",
       "      <td>1.00</td>\n",
       "      <td>991.92</td>\n",
       "      <td>0.0000</td>\n",
       "      <td>0.64</td>\n",
       "      <td>9.50</td>\n",
       "    </tr>\n",
       "    <tr>\n",
       "      <th>12</th>\n",
       "      <td>1.11</td>\n",
       "      <td>Uber</td>\n",
       "      <td>West End</td>\n",
       "      <td>North End</td>\n",
       "      <td>12.0</td>\n",
       "      <td>1.0</td>\n",
       "      <td>UberXL</td>\n",
       "      <td>2018-11-30:22</td>\n",
       "      <td>2018-11-30</td>\n",
       "      <td>22:13</td>\n",
       "      <td>4</td>\n",
       "      <td>38.65</td>\n",
       "      <td>0.96</td>\n",
       "      <td>1017.23</td>\n",
       "      <td>0.0000</td>\n",
       "      <td>0.65</td>\n",
       "      <td>3.13</td>\n",
       "    </tr>\n",
       "    <tr>\n",
       "      <th>13</th>\n",
       "      <td>1.11</td>\n",
       "      <td>Uber</td>\n",
       "      <td>West End</td>\n",
       "      <td>North End</td>\n",
       "      <td>16.0</td>\n",
       "      <td>1.0</td>\n",
       "      <td>Black</td>\n",
       "      <td>2018-12-13:10</td>\n",
       "      <td>2018-12-13</td>\n",
       "      <td>10:50</td>\n",
       "      <td>3</td>\n",
       "      <td>20.12</td>\n",
       "      <td>0.43</td>\n",
       "      <td>1031.07</td>\n",
       "      <td>0.0000</td>\n",
       "      <td>0.64</td>\n",
       "      <td>3.88</td>\n",
       "    </tr>\n",
       "    <tr>\n",
       "      <th>14</th>\n",
       "      <td>1.11</td>\n",
       "      <td>Uber</td>\n",
       "      <td>West End</td>\n",
       "      <td>North End</td>\n",
       "      <td>7.5</td>\n",
       "      <td>1.0</td>\n",
       "      <td>UberX</td>\n",
       "      <td>2018-12-13:19</td>\n",
       "      <td>2018-12-13</td>\n",
       "      <td>19:15</td>\n",
       "      <td>3</td>\n",
       "      <td>32.75</td>\n",
       "      <td>0.51</td>\n",
       "      <td>1033.75</td>\n",
       "      <td>0.0000</td>\n",
       "      <td>0.57</td>\n",
       "      <td>1.90</td>\n",
       "    </tr>\n",
       "    <tr>\n",
       "      <th>15</th>\n",
       "      <td>1.11</td>\n",
       "      <td>Uber</td>\n",
       "      <td>West End</td>\n",
       "      <td>North End</td>\n",
       "      <td>7.5</td>\n",
       "      <td>1.0</td>\n",
       "      <td>WAV</td>\n",
       "      <td>2018-12-16:23</td>\n",
       "      <td>2018-12-16</td>\n",
       "      <td>23:55</td>\n",
       "      <td>6</td>\n",
       "      <td>42.36</td>\n",
       "      <td>1.00</td>\n",
       "      <td>1012.15</td>\n",
       "      <td>0.2088</td>\n",
       "      <td>0.77</td>\n",
       "      <td>11.46</td>\n",
       "    </tr>\n",
       "    <tr>\n",
       "      <th>16</th>\n",
       "      <td>1.11</td>\n",
       "      <td>Uber</td>\n",
       "      <td>West End</td>\n",
       "      <td>North End</td>\n",
       "      <td>26.0</td>\n",
       "      <td>1.0</td>\n",
       "      <td>Black SUV</td>\n",
       "      <td>2018-12-14:00</td>\n",
       "      <td>2018-12-14</td>\n",
       "      <td>00:40</td>\n",
       "      <td>4</td>\n",
       "      <td>30.07</td>\n",
       "      <td>0.69</td>\n",
       "      <td>1034.97</td>\n",
       "      <td>0.0000</td>\n",
       "      <td>0.68</td>\n",
       "      <td>1.98</td>\n",
       "    </tr>\n",
       "    <tr>\n",
       "      <th>17</th>\n",
       "      <td>1.11</td>\n",
       "      <td>Uber</td>\n",
       "      <td>West End</td>\n",
       "      <td>North End</td>\n",
       "      <td>5.5</td>\n",
       "      <td>1.0</td>\n",
       "      <td>UberPool</td>\n",
       "      <td>2018-11-29:19</td>\n",
       "      <td>2018-11-29</td>\n",
       "      <td>19:18</td>\n",
       "      <td>3</td>\n",
       "      <td>42.48</td>\n",
       "      <td>0.58</td>\n",
       "      <td>1007.66</td>\n",
       "      <td>0.0000</td>\n",
       "      <td>0.54</td>\n",
       "      <td>10.84</td>\n",
       "    </tr>\n",
       "    <tr>\n",
       "      <th>...</th>\n",
       "      <td>...</td>\n",
       "      <td>...</td>\n",
       "      <td>...</td>\n",
       "      <td>...</td>\n",
       "      <td>...</td>\n",
       "      <td>...</td>\n",
       "      <td>...</td>\n",
       "      <td>...</td>\n",
       "      <td>...</td>\n",
       "      <td>...</td>\n",
       "      <td>...</td>\n",
       "      <td>...</td>\n",
       "      <td>...</td>\n",
       "      <td>...</td>\n",
       "      <td>...</td>\n",
       "      <td>...</td>\n",
       "      <td>...</td>\n",
       "    </tr>\n",
       "    <tr>\n",
       "      <th>44</th>\n",
       "      <td>1.76</td>\n",
       "      <td>Lyft</td>\n",
       "      <td>South Station</td>\n",
       "      <td>North Station</td>\n",
       "      <td>5.0</td>\n",
       "      <td>1.0</td>\n",
       "      <td>Shared</td>\n",
       "      <td>2018-11-28:10</td>\n",
       "      <td>2018-11-28</td>\n",
       "      <td>10:17</td>\n",
       "      <td>2</td>\n",
       "      <td>33.23</td>\n",
       "      <td>0.13</td>\n",
       "      <td>991.16</td>\n",
       "      <td>0.0000</td>\n",
       "      <td>0.84</td>\n",
       "      <td>5.51</td>\n",
       "    </tr>\n",
       "    <tr>\n",
       "      <th>45</th>\n",
       "      <td>1.76</td>\n",
       "      <td>Lyft</td>\n",
       "      <td>South Station</td>\n",
       "      <td>North Station</td>\n",
       "      <td>9.0</td>\n",
       "      <td>1.0</td>\n",
       "      <td>Lyft</td>\n",
       "      <td>2018-12-16:12</td>\n",
       "      <td>2018-12-16</td>\n",
       "      <td>12:30</td>\n",
       "      <td>6</td>\n",
       "      <td>40.37</td>\n",
       "      <td>0.84</td>\n",
       "      <td>1022.49</td>\n",
       "      <td>0.0000</td>\n",
       "      <td>0.74</td>\n",
       "      <td>7.55</td>\n",
       "    </tr>\n",
       "    <tr>\n",
       "      <th>46</th>\n",
       "      <td>1.76</td>\n",
       "      <td>Lyft</td>\n",
       "      <td>South Station</td>\n",
       "      <td>North Station</td>\n",
       "      <td>16.5</td>\n",
       "      <td>1.0</td>\n",
       "      <td>Lux</td>\n",
       "      <td>2018-12-16:00</td>\n",
       "      <td>2018-12-16</td>\n",
       "      <td>00:40</td>\n",
       "      <td>6</td>\n",
       "      <td>42.70</td>\n",
       "      <td>0.17</td>\n",
       "      <td>1023.05</td>\n",
       "      <td>0.0000</td>\n",
       "      <td>0.71</td>\n",
       "      <td>6.40</td>\n",
       "    </tr>\n",
       "    <tr>\n",
       "      <th>47</th>\n",
       "      <td>1.76</td>\n",
       "      <td>Lyft</td>\n",
       "      <td>South Station</td>\n",
       "      <td>North Station</td>\n",
       "      <td>26.0</td>\n",
       "      <td>1.0</td>\n",
       "      <td>Lux Black XL</td>\n",
       "      <td>2018-12-15:14</td>\n",
       "      <td>2018-12-15</td>\n",
       "      <td>14:15</td>\n",
       "      <td>5</td>\n",
       "      <td>46.92</td>\n",
       "      <td>0.91</td>\n",
       "      <td>1022.17</td>\n",
       "      <td>0.0000</td>\n",
       "      <td>0.88</td>\n",
       "      <td>3.99</td>\n",
       "    </tr>\n",
       "    <tr>\n",
       "      <th>48</th>\n",
       "      <td>1.76</td>\n",
       "      <td>Lyft</td>\n",
       "      <td>South Station</td>\n",
       "      <td>North Station</td>\n",
       "      <td>13.5</td>\n",
       "      <td>1.0</td>\n",
       "      <td>Lyft XL</td>\n",
       "      <td>2018-11-27:10</td>\n",
       "      <td>2018-11-27</td>\n",
       "      <td>10:00</td>\n",
       "      <td>1</td>\n",
       "      <td>44.57</td>\n",
       "      <td>0.99</td>\n",
       "      <td>990.79</td>\n",
       "      <td>0.0367</td>\n",
       "      <td>0.95</td>\n",
       "      <td>6.06</td>\n",
       "    </tr>\n",
       "    <tr>\n",
       "      <th>48</th>\n",
       "      <td>1.76</td>\n",
       "      <td>Lyft</td>\n",
       "      <td>South Station</td>\n",
       "      <td>North Station</td>\n",
       "      <td>13.5</td>\n",
       "      <td>1.0</td>\n",
       "      <td>Lyft XL</td>\n",
       "      <td>2018-11-27:10</td>\n",
       "      <td>2018-11-27</td>\n",
       "      <td>10:00</td>\n",
       "      <td>1</td>\n",
       "      <td>45.00</td>\n",
       "      <td>0.99</td>\n",
       "      <td>990.88</td>\n",
       "      <td>0.0070</td>\n",
       "      <td>0.97</td>\n",
       "      <td>6.37</td>\n",
       "    </tr>\n",
       "    <tr>\n",
       "      <th>49</th>\n",
       "      <td>1.76</td>\n",
       "      <td>Lyft</td>\n",
       "      <td>South Station</td>\n",
       "      <td>North Station</td>\n",
       "      <td>19.5</td>\n",
       "      <td>1.0</td>\n",
       "      <td>Lux Black</td>\n",
       "      <td>2018-11-28:16</td>\n",
       "      <td>2018-11-28</td>\n",
       "      <td>16:08</td>\n",
       "      <td>2</td>\n",
       "      <td>41.26</td>\n",
       "      <td>0.63</td>\n",
       "      <td>991.56</td>\n",
       "      <td>0.0000</td>\n",
       "      <td>0.62</td>\n",
       "      <td>9.87</td>\n",
       "    </tr>\n",
       "    <tr>\n",
       "      <th>49</th>\n",
       "      <td>1.76</td>\n",
       "      <td>Lyft</td>\n",
       "      <td>South Station</td>\n",
       "      <td>North Station</td>\n",
       "      <td>19.5</td>\n",
       "      <td>1.0</td>\n",
       "      <td>Lux Black</td>\n",
       "      <td>2018-11-28:16</td>\n",
       "      <td>2018-11-28</td>\n",
       "      <td>16:08</td>\n",
       "      <td>2</td>\n",
       "      <td>41.20</td>\n",
       "      <td>0.68</td>\n",
       "      <td>991.60</td>\n",
       "      <td>0.0000</td>\n",
       "      <td>0.63</td>\n",
       "      <td>10.37</td>\n",
       "    </tr>\n",
       "    <tr>\n",
       "      <th>49</th>\n",
       "      <td>1.76</td>\n",
       "      <td>Lyft</td>\n",
       "      <td>South Station</td>\n",
       "      <td>North Station</td>\n",
       "      <td>19.5</td>\n",
       "      <td>1.0</td>\n",
       "      <td>Lux Black</td>\n",
       "      <td>2018-11-28:16</td>\n",
       "      <td>2018-11-28</td>\n",
       "      <td>16:08</td>\n",
       "      <td>2</td>\n",
       "      <td>41.25</td>\n",
       "      <td>0.64</td>\n",
       "      <td>991.56</td>\n",
       "      <td>0.0000</td>\n",
       "      <td>0.62</td>\n",
       "      <td>9.94</td>\n",
       "    </tr>\n",
       "    <tr>\n",
       "      <th>50</th>\n",
       "      <td>0.71</td>\n",
       "      <td>Lyft</td>\n",
       "      <td>West End</td>\n",
       "      <td>Haymarket Square</td>\n",
       "      <td>7.0</td>\n",
       "      <td>1.0</td>\n",
       "      <td>Lyft</td>\n",
       "      <td>2018-12-01:12</td>\n",
       "      <td>2018-12-01</td>\n",
       "      <td>12:23</td>\n",
       "      <td>5</td>\n",
       "      <td>33.30</td>\n",
       "      <td>0.32</td>\n",
       "      <td>1022.50</td>\n",
       "      <td>0.0000</td>\n",
       "      <td>0.79</td>\n",
       "      <td>4.87</td>\n",
       "    </tr>\n",
       "    <tr>\n",
       "      <th>51</th>\n",
       "      <td>0.71</td>\n",
       "      <td>Lyft</td>\n",
       "      <td>West End</td>\n",
       "      <td>Haymarket Square</td>\n",
       "      <td>9.0</td>\n",
       "      <td>1.0</td>\n",
       "      <td>Lyft XL</td>\n",
       "      <td>2018-11-26:14</td>\n",
       "      <td>2018-11-26</td>\n",
       "      <td>14:38</td>\n",
       "      <td>0</td>\n",
       "      <td>43.12</td>\n",
       "      <td>0.90</td>\n",
       "      <td>1014.56</td>\n",
       "      <td>0.0031</td>\n",
       "      <td>0.91</td>\n",
       "      <td>3.82</td>\n",
       "    </tr>\n",
       "    <tr>\n",
       "      <th>51</th>\n",
       "      <td>0.71</td>\n",
       "      <td>Lyft</td>\n",
       "      <td>West End</td>\n",
       "      <td>Haymarket Square</td>\n",
       "      <td>9.0</td>\n",
       "      <td>1.0</td>\n",
       "      <td>Lyft XL</td>\n",
       "      <td>2018-11-26:14</td>\n",
       "      <td>2018-11-26</td>\n",
       "      <td>14:38</td>\n",
       "      <td>0</td>\n",
       "      <td>42.63</td>\n",
       "      <td>0.91</td>\n",
       "      <td>1014.85</td>\n",
       "      <td>0.0030</td>\n",
       "      <td>0.90</td>\n",
       "      <td>2.23</td>\n",
       "    </tr>\n",
       "    <tr>\n",
       "      <th>52</th>\n",
       "      <td>0.71</td>\n",
       "      <td>Lyft</td>\n",
       "      <td>West End</td>\n",
       "      <td>Haymarket Square</td>\n",
       "      <td>10.5</td>\n",
       "      <td>1.0</td>\n",
       "      <td>Lux</td>\n",
       "      <td>2018-12-02:02</td>\n",
       "      <td>2018-12-02</td>\n",
       "      <td>02:38</td>\n",
       "      <td>6</td>\n",
       "      <td>36.04</td>\n",
       "      <td>0.52</td>\n",
       "      <td>1023.46</td>\n",
       "      <td>0.0000</td>\n",
       "      <td>0.81</td>\n",
       "      <td>1.62</td>\n",
       "    </tr>\n",
       "    <tr>\n",
       "      <th>53</th>\n",
       "      <td>0.71</td>\n",
       "      <td>Lyft</td>\n",
       "      <td>West End</td>\n",
       "      <td>Haymarket Square</td>\n",
       "      <td>3.0</td>\n",
       "      <td>1.0</td>\n",
       "      <td>Shared</td>\n",
       "      <td>2018-11-29:18</td>\n",
       "      <td>2018-11-29</td>\n",
       "      <td>18:03</td>\n",
       "      <td>3</td>\n",
       "      <td>43.18</td>\n",
       "      <td>0.37</td>\n",
       "      <td>1007.39</td>\n",
       "      <td>0.0000</td>\n",
       "      <td>0.53</td>\n",
       "      <td>11.32</td>\n",
       "    </tr>\n",
       "    <tr>\n",
       "      <th>54</th>\n",
       "      <td>1.23</td>\n",
       "      <td>Lyft</td>\n",
       "      <td>Theatre District</td>\n",
       "      <td>Haymarket Square</td>\n",
       "      <td>5.0</td>\n",
       "      <td>1.0</td>\n",
       "      <td>Shared</td>\n",
       "      <td>2018-12-03:07</td>\n",
       "      <td>2018-12-03</td>\n",
       "      <td>07:52</td>\n",
       "      <td>0</td>\n",
       "      <td>44.45</td>\n",
       "      <td>0.78</td>\n",
       "      <td>1000.87</td>\n",
       "      <td>0.0000</td>\n",
       "      <td>0.96</td>\n",
       "      <td>3.54</td>\n",
       "    </tr>\n",
       "    <tr>\n",
       "      <th>55</th>\n",
       "      <td>1.23</td>\n",
       "      <td>Lyft</td>\n",
       "      <td>Theatre District</td>\n",
       "      <td>Haymarket Square</td>\n",
       "      <td>13.5</td>\n",
       "      <td>1.0</td>\n",
       "      <td>Lux</td>\n",
       "      <td>2018-11-26:12</td>\n",
       "      <td>2018-11-26</td>\n",
       "      <td>12:41</td>\n",
       "      <td>0</td>\n",
       "      <td>40.10</td>\n",
       "      <td>0.95</td>\n",
       "      <td>1015.21</td>\n",
       "      <td>0.0000</td>\n",
       "      <td>0.93</td>\n",
       "      <td>2.67</td>\n",
       "    </tr>\n",
       "    <tr>\n",
       "      <th>55</th>\n",
       "      <td>1.23</td>\n",
       "      <td>Lyft</td>\n",
       "      <td>Theatre District</td>\n",
       "      <td>Haymarket Square</td>\n",
       "      <td>13.5</td>\n",
       "      <td>1.0</td>\n",
       "      <td>Lux</td>\n",
       "      <td>2018-11-26:12</td>\n",
       "      <td>2018-11-26</td>\n",
       "      <td>12:41</td>\n",
       "      <td>0</td>\n",
       "      <td>40.52</td>\n",
       "      <td>0.93</td>\n",
       "      <td>1015.17</td>\n",
       "      <td>0.0000</td>\n",
       "      <td>0.95</td>\n",
       "      <td>3.16</td>\n",
       "    </tr>\n",
       "    <tr>\n",
       "      <th>56</th>\n",
       "      <td>1.23</td>\n",
       "      <td>Lyft</td>\n",
       "      <td>Theatre District</td>\n",
       "      <td>Haymarket Square</td>\n",
       "      <td>11.0</td>\n",
       "      <td>1.0</td>\n",
       "      <td>Lyft XL</td>\n",
       "      <td>2018-12-03:03</td>\n",
       "      <td>2018-12-03</td>\n",
       "      <td>03:18</td>\n",
       "      <td>0</td>\n",
       "      <td>46.76</td>\n",
       "      <td>0.94</td>\n",
       "      <td>1002.28</td>\n",
       "      <td>0.0000</td>\n",
       "      <td>0.93</td>\n",
       "      <td>2.90</td>\n",
       "    </tr>\n",
       "    <tr>\n",
       "      <th>57</th>\n",
       "      <td>1.23</td>\n",
       "      <td>Lyft</td>\n",
       "      <td>Theatre District</td>\n",
       "      <td>Haymarket Square</td>\n",
       "      <td>26.0</td>\n",
       "      <td>1.0</td>\n",
       "      <td>Lux Black XL</td>\n",
       "      <td>2018-11-28:23</td>\n",
       "      <td>2018-11-28</td>\n",
       "      <td>23:03</td>\n",
       "      <td>2</td>\n",
       "      <td>39.48</td>\n",
       "      <td>0.83</td>\n",
       "      <td>995.62</td>\n",
       "      <td>0.0000</td>\n",
       "      <td>0.66</td>\n",
       "      <td>10.88</td>\n",
       "    </tr>\n",
       "    <tr>\n",
       "      <th>57</th>\n",
       "      <td>1.23</td>\n",
       "      <td>Lyft</td>\n",
       "      <td>Theatre District</td>\n",
       "      <td>Haymarket Square</td>\n",
       "      <td>26.0</td>\n",
       "      <td>1.0</td>\n",
       "      <td>Lux Black XL</td>\n",
       "      <td>2018-11-28:23</td>\n",
       "      <td>2018-11-28</td>\n",
       "      <td>23:03</td>\n",
       "      <td>2</td>\n",
       "      <td>39.43</td>\n",
       "      <td>0.82</td>\n",
       "      <td>995.66</td>\n",
       "      <td>0.0000</td>\n",
       "      <td>0.66</td>\n",
       "      <td>10.99</td>\n",
       "    </tr>\n",
       "    <tr>\n",
       "      <th>57</th>\n",
       "      <td>1.23</td>\n",
       "      <td>Lyft</td>\n",
       "      <td>Theatre District</td>\n",
       "      <td>Haymarket Square</td>\n",
       "      <td>26.0</td>\n",
       "      <td>1.0</td>\n",
       "      <td>Lux Black XL</td>\n",
       "      <td>2018-11-28:23</td>\n",
       "      <td>2018-11-28</td>\n",
       "      <td>23:03</td>\n",
       "      <td>2</td>\n",
       "      <td>39.36</td>\n",
       "      <td>0.86</td>\n",
       "      <td>995.90</td>\n",
       "      <td>0.0000</td>\n",
       "      <td>0.66</td>\n",
       "      <td>10.43</td>\n",
       "    </tr>\n",
       "    <tr>\n",
       "      <th>57</th>\n",
       "      <td>1.23</td>\n",
       "      <td>Lyft</td>\n",
       "      <td>Theatre District</td>\n",
       "      <td>Haymarket Square</td>\n",
       "      <td>26.0</td>\n",
       "      <td>1.0</td>\n",
       "      <td>Lux Black XL</td>\n",
       "      <td>2018-11-28:23</td>\n",
       "      <td>2018-11-28</td>\n",
       "      <td>23:03</td>\n",
       "      <td>2</td>\n",
       "      <td>39.30</td>\n",
       "      <td>0.85</td>\n",
       "      <td>995.95</td>\n",
       "      <td>0.0000</td>\n",
       "      <td>0.66</td>\n",
       "      <td>10.54</td>\n",
       "    </tr>\n",
       "    <tr>\n",
       "      <th>57</th>\n",
       "      <td>1.23</td>\n",
       "      <td>Lyft</td>\n",
       "      <td>Theatre District</td>\n",
       "      <td>Haymarket Square</td>\n",
       "      <td>26.0</td>\n",
       "      <td>1.0</td>\n",
       "      <td>Lux Black XL</td>\n",
       "      <td>2018-11-28:23</td>\n",
       "      <td>2018-11-28</td>\n",
       "      <td>23:03</td>\n",
       "      <td>2</td>\n",
       "      <td>39.40</td>\n",
       "      <td>0.87</td>\n",
       "      <td>995.85</td>\n",
       "      <td>0.0000</td>\n",
       "      <td>0.66</td>\n",
       "      <td>10.34</td>\n",
       "    </tr>\n",
       "    <tr>\n",
       "      <th>57</th>\n",
       "      <td>1.23</td>\n",
       "      <td>Lyft</td>\n",
       "      <td>Theatre District</td>\n",
       "      <td>Haymarket Square</td>\n",
       "      <td>26.0</td>\n",
       "      <td>1.0</td>\n",
       "      <td>Lux Black XL</td>\n",
       "      <td>2018-11-28:23</td>\n",
       "      <td>2018-11-28</td>\n",
       "      <td>23:03</td>\n",
       "      <td>2</td>\n",
       "      <td>39.94</td>\n",
       "      <td>0.98</td>\n",
       "      <td>995.03</td>\n",
       "      <td>0.0000</td>\n",
       "      <td>0.64</td>\n",
       "      <td>10.02</td>\n",
       "    </tr>\n",
       "    <tr>\n",
       "      <th>58</th>\n",
       "      <td>1.23</td>\n",
       "      <td>Lyft</td>\n",
       "      <td>Theatre District</td>\n",
       "      <td>Haymarket Square</td>\n",
       "      <td>16.5</td>\n",
       "      <td>1.0</td>\n",
       "      <td>Lux Black</td>\n",
       "      <td>2018-11-27:01</td>\n",
       "      <td>2018-11-27</td>\n",
       "      <td>01:42</td>\n",
       "      <td>1</td>\n",
       "      <td>44.12</td>\n",
       "      <td>0.99</td>\n",
       "      <td>1005.36</td>\n",
       "      <td>0.2232</td>\n",
       "      <td>0.90</td>\n",
       "      <td>11.37</td>\n",
       "    </tr>\n",
       "    <tr>\n",
       "      <th>58</th>\n",
       "      <td>1.23</td>\n",
       "      <td>Lyft</td>\n",
       "      <td>Theatre District</td>\n",
       "      <td>Haymarket Square</td>\n",
       "      <td>16.5</td>\n",
       "      <td>1.0</td>\n",
       "      <td>Lux Black</td>\n",
       "      <td>2018-11-27:01</td>\n",
       "      <td>2018-11-27</td>\n",
       "      <td>01:42</td>\n",
       "      <td>1</td>\n",
       "      <td>44.11</td>\n",
       "      <td>0.98</td>\n",
       "      <td>1005.47</td>\n",
       "      <td>0.1117</td>\n",
       "      <td>0.90</td>\n",
       "      <td>11.14</td>\n",
       "    </tr>\n",
       "    <tr>\n",
       "      <th>58</th>\n",
       "      <td>1.23</td>\n",
       "      <td>Lyft</td>\n",
       "      <td>Theatre District</td>\n",
       "      <td>Haymarket Square</td>\n",
       "      <td>16.5</td>\n",
       "      <td>1.0</td>\n",
       "      <td>Lux Black</td>\n",
       "      <td>2018-11-27:01</td>\n",
       "      <td>2018-11-27</td>\n",
       "      <td>01:42</td>\n",
       "      <td>1</td>\n",
       "      <td>44.26</td>\n",
       "      <td>1.00</td>\n",
       "      <td>1004.48</td>\n",
       "      <td>0.7625</td>\n",
       "      <td>0.90</td>\n",
       "      <td>13.40</td>\n",
       "    </tr>\n",
       "    <tr>\n",
       "      <th>58</th>\n",
       "      <td>1.23</td>\n",
       "      <td>Lyft</td>\n",
       "      <td>Theatre District</td>\n",
       "      <td>Haymarket Square</td>\n",
       "      <td>16.5</td>\n",
       "      <td>1.0</td>\n",
       "      <td>Lux Black</td>\n",
       "      <td>2018-11-27:01</td>\n",
       "      <td>2018-11-27</td>\n",
       "      <td>01:42</td>\n",
       "      <td>1</td>\n",
       "      <td>44.12</td>\n",
       "      <td>0.99</td>\n",
       "      <td>1005.40</td>\n",
       "      <td>0.2997</td>\n",
       "      <td>0.90</td>\n",
       "      <td>11.28</td>\n",
       "    </tr>\n",
       "    <tr>\n",
       "      <th>59</th>\n",
       "      <td>1.23</td>\n",
       "      <td>Lyft</td>\n",
       "      <td>Theatre District</td>\n",
       "      <td>Haymarket Square</td>\n",
       "      <td>7.0</td>\n",
       "      <td>1.0</td>\n",
       "      <td>Lyft</td>\n",
       "      <td>2018-12-03:16</td>\n",
       "      <td>2018-12-03</td>\n",
       "      <td>16:03</td>\n",
       "      <td>0</td>\n",
       "      <td>55.28</td>\n",
       "      <td>0.48</td>\n",
       "      <td>999.23</td>\n",
       "      <td>0.0000</td>\n",
       "      <td>0.68</td>\n",
       "      <td>16.18</td>\n",
       "    </tr>\n",
       "    <tr>\n",
       "      <th>60</th>\n",
       "      <td>1.16</td>\n",
       "      <td>Uber</td>\n",
       "      <td>West End</td>\n",
       "      <td>North End</td>\n",
       "      <td>NaN</td>\n",
       "      <td>1.0</td>\n",
       "      <td>Taxi</td>\n",
       "      <td>2018-12-13:20</td>\n",
       "      <td>2018-12-13</td>\n",
       "      <td>20:10</td>\n",
       "      <td>3</td>\n",
       "      <td>32.21</td>\n",
       "      <td>0.58</td>\n",
       "      <td>1034.09</td>\n",
       "      <td>0.0000</td>\n",
       "      <td>0.62</td>\n",
       "      <td>1.45</td>\n",
       "    </tr>\n",
       "  </tbody>\n",
       "</table>\n",
       "<p>100 rows × 17 columns</p>\n",
       "</div>"
      ],
      "text/plain": [
       "    distance cab_type              destination            source  price  \\\n",
       "0       0.44     Lyft            North Station  Haymarket Square    5.0   \n",
       "1       0.44     Lyft            North Station  Haymarket Square   11.0   \n",
       "1       0.44     Lyft            North Station  Haymarket Square   11.0   \n",
       "3       0.44     Lyft            North Station  Haymarket Square   26.0   \n",
       "4       0.44     Lyft            North Station  Haymarket Square    9.0   \n",
       "4       0.44     Lyft            North Station  Haymarket Square    9.0   \n",
       "4       0.44     Lyft            North Station  Haymarket Square    9.0   \n",
       "5       0.44     Lyft            North Station  Haymarket Square   16.5   \n",
       "6       1.08     Lyft  Northeastern University          Back Bay   10.5   \n",
       "6       1.08     Lyft  Northeastern University          Back Bay   10.5   \n",
       "6       1.08     Lyft  Northeastern University          Back Bay   10.5   \n",
       "6       1.08     Lyft  Northeastern University          Back Bay   10.5   \n",
       "6       1.08     Lyft  Northeastern University          Back Bay   10.5   \n",
       "6       1.08     Lyft  Northeastern University          Back Bay   10.5   \n",
       "6       1.08     Lyft  Northeastern University          Back Bay   10.5   \n",
       "6       1.08     Lyft  Northeastern University          Back Bay   10.5   \n",
       "7       1.08     Lyft  Northeastern University          Back Bay   16.5   \n",
       "8       1.08     Lyft  Northeastern University          Back Bay    3.0   \n",
       "9       1.08     Lyft  Northeastern University          Back Bay   27.5   \n",
       "9       1.08     Lyft  Northeastern University          Back Bay   27.5   \n",
       "10      1.08     Lyft  Northeastern University          Back Bay   13.5   \n",
       "11      1.08     Lyft  Northeastern University          Back Bay    7.0   \n",
       "11      1.08     Lyft  Northeastern University          Back Bay    7.0   \n",
       "11      1.08     Lyft  Northeastern University          Back Bay    7.0   \n",
       "12      1.11     Uber                 West End         North End   12.0   \n",
       "13      1.11     Uber                 West End         North End   16.0   \n",
       "14      1.11     Uber                 West End         North End    7.5   \n",
       "15      1.11     Uber                 West End         North End    7.5   \n",
       "16      1.11     Uber                 West End         North End   26.0   \n",
       "17      1.11     Uber                 West End         North End    5.5   \n",
       "..       ...      ...                      ...               ...    ...   \n",
       "44      1.76     Lyft            South Station     North Station    5.0   \n",
       "45      1.76     Lyft            South Station     North Station    9.0   \n",
       "46      1.76     Lyft            South Station     North Station   16.5   \n",
       "47      1.76     Lyft            South Station     North Station   26.0   \n",
       "48      1.76     Lyft            South Station     North Station   13.5   \n",
       "48      1.76     Lyft            South Station     North Station   13.5   \n",
       "49      1.76     Lyft            South Station     North Station   19.5   \n",
       "49      1.76     Lyft            South Station     North Station   19.5   \n",
       "49      1.76     Lyft            South Station     North Station   19.5   \n",
       "50      0.71     Lyft                 West End  Haymarket Square    7.0   \n",
       "51      0.71     Lyft                 West End  Haymarket Square    9.0   \n",
       "51      0.71     Lyft                 West End  Haymarket Square    9.0   \n",
       "52      0.71     Lyft                 West End  Haymarket Square   10.5   \n",
       "53      0.71     Lyft                 West End  Haymarket Square    3.0   \n",
       "54      1.23     Lyft         Theatre District  Haymarket Square    5.0   \n",
       "55      1.23     Lyft         Theatre District  Haymarket Square   13.5   \n",
       "55      1.23     Lyft         Theatre District  Haymarket Square   13.5   \n",
       "56      1.23     Lyft         Theatre District  Haymarket Square   11.0   \n",
       "57      1.23     Lyft         Theatre District  Haymarket Square   26.0   \n",
       "57      1.23     Lyft         Theatre District  Haymarket Square   26.0   \n",
       "57      1.23     Lyft         Theatre District  Haymarket Square   26.0   \n",
       "57      1.23     Lyft         Theatre District  Haymarket Square   26.0   \n",
       "57      1.23     Lyft         Theatre District  Haymarket Square   26.0   \n",
       "57      1.23     Lyft         Theatre District  Haymarket Square   26.0   \n",
       "58      1.23     Lyft         Theatre District  Haymarket Square   16.5   \n",
       "58      1.23     Lyft         Theatre District  Haymarket Square   16.5   \n",
       "58      1.23     Lyft         Theatre District  Haymarket Square   16.5   \n",
       "58      1.23     Lyft         Theatre District  Haymarket Square   16.5   \n",
       "59      1.23     Lyft         Theatre District  Haymarket Square    7.0   \n",
       "60      1.16     Uber                 West End         North End    NaN   \n",
       "\n",
       "    surge_multiplier          name      date_time        date   time  weekday  \\\n",
       "0                1.0        Shared  2018-12-16:09  2018-12-16  09:30        6   \n",
       "1                1.0           Lux  2018-11-27:02  2018-11-27  02:00        1   \n",
       "1                1.0           Lux  2018-11-27:02  2018-11-27  02:00        1   \n",
       "3                1.0  Lux Black XL  2018-11-30:04  2018-11-30  04:53        4   \n",
       "4                1.0       Lyft XL  2018-11-29:03  2018-11-29  03:49        3   \n",
       "4                1.0       Lyft XL  2018-11-29:03  2018-11-29  03:49        3   \n",
       "4                1.0       Lyft XL  2018-11-29:03  2018-11-29  03:49        3   \n",
       "5                1.0     Lux Black  2018-12-17:18  2018-12-17  18:25        0   \n",
       "6                1.0       Lyft XL  2018-11-26:05  2018-11-26  05:03        0   \n",
       "6                1.0       Lyft XL  2018-11-26:05  2018-11-26  05:03        0   \n",
       "6                1.0       Lyft XL  2018-11-26:05  2018-11-26  05:03        0   \n",
       "6                1.0       Lyft XL  2018-11-26:05  2018-11-26  05:03        0   \n",
       "6                1.0       Lyft XL  2018-11-26:05  2018-11-26  05:03        0   \n",
       "6                1.0       Lyft XL  2018-11-26:05  2018-11-26  05:03        0   \n",
       "6                1.0       Lyft XL  2018-11-26:05  2018-11-26  05:03        0   \n",
       "6                1.0       Lyft XL  2018-11-26:05  2018-11-26  05:03        0   \n",
       "7                1.0     Lux Black  2018-12-02:19  2018-12-02  19:53        6   \n",
       "8                1.0        Shared  2018-12-03:06  2018-12-03  06:28        0   \n",
       "9                1.0  Lux Black XL  2018-11-27:10  2018-11-27  10:45        1   \n",
       "9                1.0  Lux Black XL  2018-11-27:10  2018-11-27  10:45        1   \n",
       "10               1.0           Lux  2018-11-30:16  2018-11-30  16:13        4   \n",
       "11               1.0          Lyft  2018-11-28:19  2018-11-28  19:23        2   \n",
       "11               1.0          Lyft  2018-11-28:19  2018-11-28  19:23        2   \n",
       "11               1.0          Lyft  2018-11-28:19  2018-11-28  19:23        2   \n",
       "12               1.0        UberXL  2018-11-30:22  2018-11-30  22:13        4   \n",
       "13               1.0         Black  2018-12-13:10  2018-12-13  10:50        3   \n",
       "14               1.0         UberX  2018-12-13:19  2018-12-13  19:15        3   \n",
       "15               1.0           WAV  2018-12-16:23  2018-12-16  23:55        6   \n",
       "16               1.0     Black SUV  2018-12-14:00  2018-12-14  00:40        4   \n",
       "17               1.0      UberPool  2018-11-29:19  2018-11-29  19:18        3   \n",
       "..               ...           ...            ...         ...    ...      ...   \n",
       "44               1.0        Shared  2018-11-28:10  2018-11-28  10:17        2   \n",
       "45               1.0          Lyft  2018-12-16:12  2018-12-16  12:30        6   \n",
       "46               1.0           Lux  2018-12-16:00  2018-12-16  00:40        6   \n",
       "47               1.0  Lux Black XL  2018-12-15:14  2018-12-15  14:15        5   \n",
       "48               1.0       Lyft XL  2018-11-27:10  2018-11-27  10:00        1   \n",
       "48               1.0       Lyft XL  2018-11-27:10  2018-11-27  10:00        1   \n",
       "49               1.0     Lux Black  2018-11-28:16  2018-11-28  16:08        2   \n",
       "49               1.0     Lux Black  2018-11-28:16  2018-11-28  16:08        2   \n",
       "49               1.0     Lux Black  2018-11-28:16  2018-11-28  16:08        2   \n",
       "50               1.0          Lyft  2018-12-01:12  2018-12-01  12:23        5   \n",
       "51               1.0       Lyft XL  2018-11-26:14  2018-11-26  14:38        0   \n",
       "51               1.0       Lyft XL  2018-11-26:14  2018-11-26  14:38        0   \n",
       "52               1.0           Lux  2018-12-02:02  2018-12-02  02:38        6   \n",
       "53               1.0        Shared  2018-11-29:18  2018-11-29  18:03        3   \n",
       "54               1.0        Shared  2018-12-03:07  2018-12-03  07:52        0   \n",
       "55               1.0           Lux  2018-11-26:12  2018-11-26  12:41        0   \n",
       "55               1.0           Lux  2018-11-26:12  2018-11-26  12:41        0   \n",
       "56               1.0       Lyft XL  2018-12-03:03  2018-12-03  03:18        0   \n",
       "57               1.0  Lux Black XL  2018-11-28:23  2018-11-28  23:03        2   \n",
       "57               1.0  Lux Black XL  2018-11-28:23  2018-11-28  23:03        2   \n",
       "57               1.0  Lux Black XL  2018-11-28:23  2018-11-28  23:03        2   \n",
       "57               1.0  Lux Black XL  2018-11-28:23  2018-11-28  23:03        2   \n",
       "57               1.0  Lux Black XL  2018-11-28:23  2018-11-28  23:03        2   \n",
       "57               1.0  Lux Black XL  2018-11-28:23  2018-11-28  23:03        2   \n",
       "58               1.0     Lux Black  2018-11-27:01  2018-11-27  01:42        1   \n",
       "58               1.0     Lux Black  2018-11-27:01  2018-11-27  01:42        1   \n",
       "58               1.0     Lux Black  2018-11-27:01  2018-11-27  01:42        1   \n",
       "58               1.0     Lux Black  2018-11-27:01  2018-11-27  01:42        1   \n",
       "59               1.0          Lyft  2018-12-03:16  2018-12-03  16:03        0   \n",
       "60               1.0          Taxi  2018-12-13:20  2018-12-13  20:10        3   \n",
       "\n",
       "     temp  clouds  pressure    rain  humidity   wind  \n",
       "0   38.46    0.29   1022.25  0.0000      0.76   7.68  \n",
       "1   44.31    1.00   1003.17  0.1123      0.90  13.69  \n",
       "1   43.82    0.99   1002.59  0.0997      0.89  11.57  \n",
       "3   35.08    0.00   1013.71  0.0000      0.70   5.25  \n",
       "4   37.58    0.42    998.64  0.0000      0.71  11.30  \n",
       "4   37.80    0.47    998.20  0.0000      0.70  11.02  \n",
       "4   37.66    0.41    998.42  0.0000      0.71  11.16  \n",
       "5   40.78    0.93   1000.15  0.0000      0.79   7.55  \n",
       "6   40.65    0.93   1013.76  0.0000      0.92   3.01  \n",
       "6   40.39    0.92   1013.79  0.0000      0.93   2.71  \n",
       "6   40.40    0.92   1013.79  0.0000      0.93   2.71  \n",
       "6   40.64    0.92   1013.76  0.0000      0.92   3.02  \n",
       "6   40.65    0.93   1013.76  0.0000      0.92   3.01  \n",
       "6   40.68    0.93   1013.74  0.0000      0.92   3.00  \n",
       "6   40.67    0.89   1013.82  0.0000      0.92   1.81  \n",
       "6   40.41    1.00   1014.15  0.0000      0.91   0.70  \n",
       "7   50.49    1.00   1004.05  0.0000      0.92   2.46  \n",
       "8   44.85    0.89   1000.70  0.0000      0.95   1.53  \n",
       "9   44.56    0.99    990.78  0.0213      0.96   5.87  \n",
       "9   44.95    0.99    990.87  0.0087      0.97   6.14  \n",
       "10  41.78    0.15   1016.57  0.0000      0.57   2.51  \n",
       "11  41.09    1.00    991.83  0.0000      0.64   9.45  \n",
       "11  40.51    1.00    992.59  0.0000      0.66   9.88  \n",
       "11  41.05    1.00    991.92  0.0000      0.64   9.50  \n",
       "12  38.65    0.96   1017.23  0.0000      0.65   3.13  \n",
       "13  20.12    0.43   1031.07  0.0000      0.64   3.88  \n",
       "14  32.75    0.51   1033.75  0.0000      0.57   1.90  \n",
       "15  42.36    1.00   1012.15  0.2088      0.77  11.46  \n",
       "16  30.07    0.69   1034.97  0.0000      0.68   1.98  \n",
       "17  42.48    0.58   1007.66  0.0000      0.54  10.84  \n",
       "..    ...     ...       ...     ...       ...    ...  \n",
       "44  33.23    0.13    991.16  0.0000      0.84   5.51  \n",
       "45  40.37    0.84   1022.49  0.0000      0.74   7.55  \n",
       "46  42.70    0.17   1023.05  0.0000      0.71   6.40  \n",
       "47  46.92    0.91   1022.17  0.0000      0.88   3.99  \n",
       "48  44.57    0.99    990.79  0.0367      0.95   6.06  \n",
       "48  45.00    0.99    990.88  0.0070      0.97   6.37  \n",
       "49  41.26    0.63    991.56  0.0000      0.62   9.87  \n",
       "49  41.20    0.68    991.60  0.0000      0.63  10.37  \n",
       "49  41.25    0.64    991.56  0.0000      0.62   9.94  \n",
       "50  33.30    0.32   1022.50  0.0000      0.79   4.87  \n",
       "51  43.12    0.90   1014.56  0.0031      0.91   3.82  \n",
       "51  42.63    0.91   1014.85  0.0030      0.90   2.23  \n",
       "52  36.04    0.52   1023.46  0.0000      0.81   1.62  \n",
       "53  43.18    0.37   1007.39  0.0000      0.53  11.32  \n",
       "54  44.45    0.78   1000.87  0.0000      0.96   3.54  \n",
       "55  40.10    0.95   1015.21  0.0000      0.93   2.67  \n",
       "55  40.52    0.93   1015.17  0.0000      0.95   3.16  \n",
       "56  46.76    0.94   1002.28  0.0000      0.93   2.90  \n",
       "57  39.48    0.83    995.62  0.0000      0.66  10.88  \n",
       "57  39.43    0.82    995.66  0.0000      0.66  10.99  \n",
       "57  39.36    0.86    995.90  0.0000      0.66  10.43  \n",
       "57  39.30    0.85    995.95  0.0000      0.66  10.54  \n",
       "57  39.40    0.87    995.85  0.0000      0.66  10.34  \n",
       "57  39.94    0.98    995.03  0.0000      0.64  10.02  \n",
       "58  44.12    0.99   1005.36  0.2232      0.90  11.37  \n",
       "58  44.11    0.98   1005.47  0.1117      0.90  11.14  \n",
       "58  44.26    1.00   1004.48  0.7625      0.90  13.40  \n",
       "58  44.12    0.99   1005.40  0.2997      0.90  11.28  \n",
       "59  55.28    0.48    999.23  0.0000      0.68  16.18  \n",
       "60  32.21    0.58   1034.09  0.0000      0.62   1.45  \n",
       "\n",
       "[100 rows x 17 columns]"
      ]
     },
     "execution_count": 16,
     "metadata": {},
     "output_type": "execute_result"
    }
   ],
   "source": [
    "data_merged[:100]"
   ]
  },
  {
   "cell_type": "code",
   "execution_count": 17,
   "metadata": {},
   "outputs": [],
   "source": [
    "data_merged.to_csv(\"./data_merged.csv\",index=False,sep=',')"
   ]
  },
  {
   "cell_type": "markdown",
   "metadata": {},
   "source": [
    "# Map Visulization"
   ]
  },
  {
   "cell_type": "code",
   "execution_count": 1,
   "metadata": {},
   "outputs": [],
   "source": [
    "import pandas as pd"
   ]
  },
  {
   "cell_type": "code",
   "execution_count": 2,
   "metadata": {},
   "outputs": [],
   "source": [
    "data_train = pd.read_csv(\"./data_merged.csv\",delimiter=',')"
   ]
  },
  {
   "cell_type": "code",
   "execution_count": 23,
   "metadata": {},
   "outputs": [
    {
     "data": {
      "text/html": [
       "        <script type=\"text/javascript\">\n",
       "        window.PlotlyConfig = {MathJaxConfig: 'local'};\n",
       "        if (window.MathJax) {MathJax.Hub.Config({SVG: {font: \"STIX-Web\"}});}\n",
       "        if (typeof require !== 'undefined') {\n",
       "        require.undef(\"plotly\");\n",
       "        requirejs.config({\n",
       "            paths: {\n",
       "                'plotly': ['https://cdn.plot.ly/plotly-latest.min']\n",
       "            }\n",
       "        });\n",
       "        require(['plotly'], function(Plotly) {\n",
       "            window._Plotly = Plotly;\n",
       "        });\n",
       "        }\n",
       "        </script>\n",
       "        "
      ]
     },
     "metadata": {},
     "output_type": "display_data"
    }
   ],
   "source": [
    "import plotly.offline as py\n",
    "import plotly.graph_objects as go\n",
    "py.init_notebook_mode(connected=True)\n",
    "from plotly.graph_objs import Scatter, Layout,Figure\n",
    "import matplotlib.pyplot as plt"
   ]
  },
  {
   "cell_type": "code",
   "execution_count": 21,
   "metadata": {},
   "outputs": [],
   "source": [
    "# lat_map = {\"Fenway\":\"42.342907\",\"South Station\":\"42.352141\",\"Boston University\":\"42.350666\",\n",
    "#            \"North End\":\"42.365008\",\"Haymarket Square\": \"42.364007\", \"Northeastern University\": \"42.340422\",\n",
    "#           \"Financial District\": \"42.355976\",\"West End\": \"42.363428\",\"Beacon Hill\":\"42.358865\",\n",
    "#            \"Theatre District\":\"42.351884\",\"Back Bay\":\"42.350282\",\"North Station\":\"42.366265\"}\n",
    "\n",
    "# lon_map = {\"Fenway\":\"-71.100292\",\"South Station\":\"-71.055135\",\"Boston University\":\"-71.105410\",\n",
    "#            \"North End\":\"-71.054222\",\"Haymarket Square\": \"-71.058433\", \"Northeastern University\": \"-71.089269\",\n",
    "#           \"Financial District\": \"-71.0549726\",\"West End\": \"-71.066568\",\"Beacon Hill\":\"-71.0707475\",\n",
    "#            \"Theatre District\":\"-71.064262\",\"Back Bay\":\"-71.080968\",\"North Station\":\"-71.063098\"}"
   ]
  },
  {
   "cell_type": "code",
   "execution_count": 22,
   "metadata": {},
   "outputs": [],
   "source": [
    "# data_train['dest_lat'] = data_train.apply(lambda x: lat_map[x['destination']], axis = 1)"
   ]
  },
  {
   "cell_type": "code",
   "execution_count": 23,
   "metadata": {},
   "outputs": [],
   "source": [
    "# data_train['dest_lon'] = data_train.apply(lambda x: lon_map[x['destination']], axis = 1)"
   ]
  },
  {
   "cell_type": "code",
   "execution_count": 24,
   "metadata": {},
   "outputs": [],
   "source": [
    "dest_lat = [\"42.342907\",\"42.352141\",\"42.350666\",\"42.365008\",\"42.364007\", \"42.340422\",\"42.355976\",\n",
    "            \"42.363428\",\"42.358865\",\"42.351884\",\"42.350282\",\"42.366265\"]\n",
    "dest_lon = [\"-71.100292\",\"-71.055135\",\"-71.105410\",\"-71.054222\",\"-71.058433\", \"-71.089269\",\"-71.0549726\",\n",
    "            \"-71.066568\",\"-71.0707475\",\"-71.064262\",\"-71.080968\",\"-71.063098\"]"
   ]
  },
  {
   "cell_type": "code",
   "execution_count": 25,
   "metadata": {
    "scrolled": false
   },
   "outputs": [
    {
     "data": {
      "application/vnd.plotly.v1+json": {
       "config": {
        "plotlyServerURL": "https://plot.ly"
       },
       "data": [
        {
         "lat": [
          "42.342907",
          "42.352141",
          "42.350666",
          "42.365008",
          "42.364007",
          "42.340422",
          "42.355976",
          "42.363428",
          "42.358865",
          "42.351884",
          "42.350282",
          "42.366265"
         ],
         "lon": [
          "-71.100292",
          "-71.055135",
          "-71.105410",
          "-71.054222",
          "-71.058433",
          "-71.089269",
          "-71.0549726",
          "-71.066568",
          "-71.0707475",
          "-71.064262",
          "-71.080968",
          "-71.063098"
         ],
         "marker": {
          "size": 9
         },
         "mode": "markers",
         "text": [
          "Fenway",
          "South Station",
          "Boston University",
          "North End",
          "Haymarket Square",
          "Northeastern University",
          "Financial District",
          "West End",
          "Beacon Hill",
          "Theatre District",
          "Back Bay",
          "North Station"
         ],
         "type": "scattermapbox"
        }
       ],
       "layout": {
        "autosize": true,
        "hovermode": "closest",
        "mapbox": {
         "accesstoken": "pk.eyJ1IjoiamFjaW5kYTk2IiwiYSI6ImNrNnhnaHhtaDBpMHIza284cjY2djFtZzIifQ.6JXJfAP7R3Lz7vBZpNhc9w",
         "bearing": 0,
         "center": {
          "lat": 42.35,
          "lon": -71.07
         },
         "pitch": 0,
         "zoom": 12
        },
        "template": {
         "data": {
          "bar": [
           {
            "error_x": {
             "color": "#2a3f5f"
            },
            "error_y": {
             "color": "#2a3f5f"
            },
            "marker": {
             "line": {
              "color": "#E5ECF6",
              "width": 0.5
             }
            },
            "type": "bar"
           }
          ],
          "barpolar": [
           {
            "marker": {
             "line": {
              "color": "#E5ECF6",
              "width": 0.5
             }
            },
            "type": "barpolar"
           }
          ],
          "carpet": [
           {
            "aaxis": {
             "endlinecolor": "#2a3f5f",
             "gridcolor": "white",
             "linecolor": "white",
             "minorgridcolor": "white",
             "startlinecolor": "#2a3f5f"
            },
            "baxis": {
             "endlinecolor": "#2a3f5f",
             "gridcolor": "white",
             "linecolor": "white",
             "minorgridcolor": "white",
             "startlinecolor": "#2a3f5f"
            },
            "type": "carpet"
           }
          ],
          "choropleth": [
           {
            "colorbar": {
             "outlinewidth": 0,
             "ticks": ""
            },
            "type": "choropleth"
           }
          ],
          "contour": [
           {
            "colorbar": {
             "outlinewidth": 0,
             "ticks": ""
            },
            "colorscale": [
             [
              0,
              "#0d0887"
             ],
             [
              0.1111111111111111,
              "#46039f"
             ],
             [
              0.2222222222222222,
              "#7201a8"
             ],
             [
              0.3333333333333333,
              "#9c179e"
             ],
             [
              0.4444444444444444,
              "#bd3786"
             ],
             [
              0.5555555555555556,
              "#d8576b"
             ],
             [
              0.6666666666666666,
              "#ed7953"
             ],
             [
              0.7777777777777778,
              "#fb9f3a"
             ],
             [
              0.8888888888888888,
              "#fdca26"
             ],
             [
              1,
              "#f0f921"
             ]
            ],
            "type": "contour"
           }
          ],
          "contourcarpet": [
           {
            "colorbar": {
             "outlinewidth": 0,
             "ticks": ""
            },
            "type": "contourcarpet"
           }
          ],
          "heatmap": [
           {
            "colorbar": {
             "outlinewidth": 0,
             "ticks": ""
            },
            "colorscale": [
             [
              0,
              "#0d0887"
             ],
             [
              0.1111111111111111,
              "#46039f"
             ],
             [
              0.2222222222222222,
              "#7201a8"
             ],
             [
              0.3333333333333333,
              "#9c179e"
             ],
             [
              0.4444444444444444,
              "#bd3786"
             ],
             [
              0.5555555555555556,
              "#d8576b"
             ],
             [
              0.6666666666666666,
              "#ed7953"
             ],
             [
              0.7777777777777778,
              "#fb9f3a"
             ],
             [
              0.8888888888888888,
              "#fdca26"
             ],
             [
              1,
              "#f0f921"
             ]
            ],
            "type": "heatmap"
           }
          ],
          "heatmapgl": [
           {
            "colorbar": {
             "outlinewidth": 0,
             "ticks": ""
            },
            "colorscale": [
             [
              0,
              "#0d0887"
             ],
             [
              0.1111111111111111,
              "#46039f"
             ],
             [
              0.2222222222222222,
              "#7201a8"
             ],
             [
              0.3333333333333333,
              "#9c179e"
             ],
             [
              0.4444444444444444,
              "#bd3786"
             ],
             [
              0.5555555555555556,
              "#d8576b"
             ],
             [
              0.6666666666666666,
              "#ed7953"
             ],
             [
              0.7777777777777778,
              "#fb9f3a"
             ],
             [
              0.8888888888888888,
              "#fdca26"
             ],
             [
              1,
              "#f0f921"
             ]
            ],
            "type": "heatmapgl"
           }
          ],
          "histogram": [
           {
            "marker": {
             "colorbar": {
              "outlinewidth": 0,
              "ticks": ""
             }
            },
            "type": "histogram"
           }
          ],
          "histogram2d": [
           {
            "colorbar": {
             "outlinewidth": 0,
             "ticks": ""
            },
            "colorscale": [
             [
              0,
              "#0d0887"
             ],
             [
              0.1111111111111111,
              "#46039f"
             ],
             [
              0.2222222222222222,
              "#7201a8"
             ],
             [
              0.3333333333333333,
              "#9c179e"
             ],
             [
              0.4444444444444444,
              "#bd3786"
             ],
             [
              0.5555555555555556,
              "#d8576b"
             ],
             [
              0.6666666666666666,
              "#ed7953"
             ],
             [
              0.7777777777777778,
              "#fb9f3a"
             ],
             [
              0.8888888888888888,
              "#fdca26"
             ],
             [
              1,
              "#f0f921"
             ]
            ],
            "type": "histogram2d"
           }
          ],
          "histogram2dcontour": [
           {
            "colorbar": {
             "outlinewidth": 0,
             "ticks": ""
            },
            "colorscale": [
             [
              0,
              "#0d0887"
             ],
             [
              0.1111111111111111,
              "#46039f"
             ],
             [
              0.2222222222222222,
              "#7201a8"
             ],
             [
              0.3333333333333333,
              "#9c179e"
             ],
             [
              0.4444444444444444,
              "#bd3786"
             ],
             [
              0.5555555555555556,
              "#d8576b"
             ],
             [
              0.6666666666666666,
              "#ed7953"
             ],
             [
              0.7777777777777778,
              "#fb9f3a"
             ],
             [
              0.8888888888888888,
              "#fdca26"
             ],
             [
              1,
              "#f0f921"
             ]
            ],
            "type": "histogram2dcontour"
           }
          ],
          "mesh3d": [
           {
            "colorbar": {
             "outlinewidth": 0,
             "ticks": ""
            },
            "type": "mesh3d"
           }
          ],
          "parcoords": [
           {
            "line": {
             "colorbar": {
              "outlinewidth": 0,
              "ticks": ""
             }
            },
            "type": "parcoords"
           }
          ],
          "pie": [
           {
            "automargin": true,
            "type": "pie"
           }
          ],
          "scatter": [
           {
            "marker": {
             "colorbar": {
              "outlinewidth": 0,
              "ticks": ""
             }
            },
            "type": "scatter"
           }
          ],
          "scatter3d": [
           {
            "line": {
             "colorbar": {
              "outlinewidth": 0,
              "ticks": ""
             }
            },
            "marker": {
             "colorbar": {
              "outlinewidth": 0,
              "ticks": ""
             }
            },
            "type": "scatter3d"
           }
          ],
          "scattercarpet": [
           {
            "marker": {
             "colorbar": {
              "outlinewidth": 0,
              "ticks": ""
             }
            },
            "type": "scattercarpet"
           }
          ],
          "scattergeo": [
           {
            "marker": {
             "colorbar": {
              "outlinewidth": 0,
              "ticks": ""
             }
            },
            "type": "scattergeo"
           }
          ],
          "scattergl": [
           {
            "marker": {
             "colorbar": {
              "outlinewidth": 0,
              "ticks": ""
             }
            },
            "type": "scattergl"
           }
          ],
          "scattermapbox": [
           {
            "marker": {
             "colorbar": {
              "outlinewidth": 0,
              "ticks": ""
             }
            },
            "type": "scattermapbox"
           }
          ],
          "scatterpolar": [
           {
            "marker": {
             "colorbar": {
              "outlinewidth": 0,
              "ticks": ""
             }
            },
            "type": "scatterpolar"
           }
          ],
          "scatterpolargl": [
           {
            "marker": {
             "colorbar": {
              "outlinewidth": 0,
              "ticks": ""
             }
            },
            "type": "scatterpolargl"
           }
          ],
          "scatterternary": [
           {
            "marker": {
             "colorbar": {
              "outlinewidth": 0,
              "ticks": ""
             }
            },
            "type": "scatterternary"
           }
          ],
          "surface": [
           {
            "colorbar": {
             "outlinewidth": 0,
             "ticks": ""
            },
            "colorscale": [
             [
              0,
              "#0d0887"
             ],
             [
              0.1111111111111111,
              "#46039f"
             ],
             [
              0.2222222222222222,
              "#7201a8"
             ],
             [
              0.3333333333333333,
              "#9c179e"
             ],
             [
              0.4444444444444444,
              "#bd3786"
             ],
             [
              0.5555555555555556,
              "#d8576b"
             ],
             [
              0.6666666666666666,
              "#ed7953"
             ],
             [
              0.7777777777777778,
              "#fb9f3a"
             ],
             [
              0.8888888888888888,
              "#fdca26"
             ],
             [
              1,
              "#f0f921"
             ]
            ],
            "type": "surface"
           }
          ],
          "table": [
           {
            "cells": {
             "fill": {
              "color": "#EBF0F8"
             },
             "line": {
              "color": "white"
             }
            },
            "header": {
             "fill": {
              "color": "#C8D4E3"
             },
             "line": {
              "color": "white"
             }
            },
            "type": "table"
           }
          ]
         },
         "layout": {
          "annotationdefaults": {
           "arrowcolor": "#2a3f5f",
           "arrowhead": 0,
           "arrowwidth": 1
          },
          "coloraxis": {
           "colorbar": {
            "outlinewidth": 0,
            "ticks": ""
           }
          },
          "colorscale": {
           "diverging": [
            [
             0,
             "#8e0152"
            ],
            [
             0.1,
             "#c51b7d"
            ],
            [
             0.2,
             "#de77ae"
            ],
            [
             0.3,
             "#f1b6da"
            ],
            [
             0.4,
             "#fde0ef"
            ],
            [
             0.5,
             "#f7f7f7"
            ],
            [
             0.6,
             "#e6f5d0"
            ],
            [
             0.7,
             "#b8e186"
            ],
            [
             0.8,
             "#7fbc41"
            ],
            [
             0.9,
             "#4d9221"
            ],
            [
             1,
             "#276419"
            ]
           ],
           "sequential": [
            [
             0,
             "#0d0887"
            ],
            [
             0.1111111111111111,
             "#46039f"
            ],
            [
             0.2222222222222222,
             "#7201a8"
            ],
            [
             0.3333333333333333,
             "#9c179e"
            ],
            [
             0.4444444444444444,
             "#bd3786"
            ],
            [
             0.5555555555555556,
             "#d8576b"
            ],
            [
             0.6666666666666666,
             "#ed7953"
            ],
            [
             0.7777777777777778,
             "#fb9f3a"
            ],
            [
             0.8888888888888888,
             "#fdca26"
            ],
            [
             1,
             "#f0f921"
            ]
           ],
           "sequentialminus": [
            [
             0,
             "#0d0887"
            ],
            [
             0.1111111111111111,
             "#46039f"
            ],
            [
             0.2222222222222222,
             "#7201a8"
            ],
            [
             0.3333333333333333,
             "#9c179e"
            ],
            [
             0.4444444444444444,
             "#bd3786"
            ],
            [
             0.5555555555555556,
             "#d8576b"
            ],
            [
             0.6666666666666666,
             "#ed7953"
            ],
            [
             0.7777777777777778,
             "#fb9f3a"
            ],
            [
             0.8888888888888888,
             "#fdca26"
            ],
            [
             1,
             "#f0f921"
            ]
           ]
          },
          "colorway": [
           "#636efa",
           "#EF553B",
           "#00cc96",
           "#ab63fa",
           "#FFA15A",
           "#19d3f3",
           "#FF6692",
           "#B6E880",
           "#FF97FF",
           "#FECB52"
          ],
          "font": {
           "color": "#2a3f5f"
          },
          "geo": {
           "bgcolor": "white",
           "lakecolor": "white",
           "landcolor": "#E5ECF6",
           "showlakes": true,
           "showland": true,
           "subunitcolor": "white"
          },
          "hoverlabel": {
           "align": "left"
          },
          "hovermode": "closest",
          "mapbox": {
           "style": "light"
          },
          "paper_bgcolor": "white",
          "plot_bgcolor": "#E5ECF6",
          "polar": {
           "angularaxis": {
            "gridcolor": "white",
            "linecolor": "white",
            "ticks": ""
           },
           "bgcolor": "#E5ECF6",
           "radialaxis": {
            "gridcolor": "white",
            "linecolor": "white",
            "ticks": ""
           }
          },
          "scene": {
           "xaxis": {
            "backgroundcolor": "#E5ECF6",
            "gridcolor": "white",
            "gridwidth": 2,
            "linecolor": "white",
            "showbackground": true,
            "ticks": "",
            "zerolinecolor": "white"
           },
           "yaxis": {
            "backgroundcolor": "#E5ECF6",
            "gridcolor": "white",
            "gridwidth": 2,
            "linecolor": "white",
            "showbackground": true,
            "ticks": "",
            "zerolinecolor": "white"
           },
           "zaxis": {
            "backgroundcolor": "#E5ECF6",
            "gridcolor": "white",
            "gridwidth": 2,
            "linecolor": "white",
            "showbackground": true,
            "ticks": "",
            "zerolinecolor": "white"
           }
          },
          "shapedefaults": {
           "line": {
            "color": "#2a3f5f"
           }
          },
          "ternary": {
           "aaxis": {
            "gridcolor": "white",
            "linecolor": "white",
            "ticks": ""
           },
           "baxis": {
            "gridcolor": "white",
            "linecolor": "white",
            "ticks": ""
           },
           "bgcolor": "#E5ECF6",
           "caxis": {
            "gridcolor": "white",
            "linecolor": "white",
            "ticks": ""
           }
          },
          "title": {
           "x": 0.05
          },
          "xaxis": {
           "automargin": true,
           "gridcolor": "white",
           "linecolor": "white",
           "ticks": "",
           "title": {
            "standoff": 15
           },
           "zerolinecolor": "white",
           "zerolinewidth": 2
          },
          "yaxis": {
           "automargin": true,
           "gridcolor": "white",
           "linecolor": "white",
           "ticks": "",
           "title": {
            "standoff": 15
           },
           "zerolinecolor": "white",
           "zerolinewidth": 2
          }
         }
        }
       }
      },
      "text/html": [
       "<div>\n",
       "        \n",
       "        \n",
       "            <div id=\"82dba02a-3423-41f5-8738-033c9cc42c59\" class=\"plotly-graph-div\" style=\"height:525px; width:100%;\"></div>\n",
       "            <script type=\"text/javascript\">\n",
       "                require([\"plotly\"], function(Plotly) {\n",
       "                    window.PLOTLYENV=window.PLOTLYENV || {};\n",
       "                    \n",
       "                if (document.getElementById(\"82dba02a-3423-41f5-8738-033c9cc42c59\")) {\n",
       "                    Plotly.newPlot(\n",
       "                        '82dba02a-3423-41f5-8738-033c9cc42c59',\n",
       "                        [{\"lat\": [\"42.342907\", \"42.352141\", \"42.350666\", \"42.365008\", \"42.364007\", \"42.340422\", \"42.355976\", \"42.363428\", \"42.358865\", \"42.351884\", \"42.350282\", \"42.366265\"], \"lon\": [\"-71.100292\", \"-71.055135\", \"-71.105410\", \"-71.054222\", \"-71.058433\", \"-71.089269\", \"-71.0549726\", \"-71.066568\", \"-71.0707475\", \"-71.064262\", \"-71.080968\", \"-71.063098\"], \"marker\": {\"size\": 9}, \"mode\": \"markers\", \"text\": [\"Fenway\", \"South Station\", \"Boston University\", \"North End\", \"Haymarket Square\", \"Northeastern University\", \"Financial District\", \"West End\", \"Beacon Hill\", \"Theatre District\", \"Back Bay\", \"North Station\"], \"type\": \"scattermapbox\"}],\n",
       "                        {\"autosize\": true, \"hovermode\": \"closest\", \"mapbox\": {\"accesstoken\": \"pk.eyJ1IjoiamFjaW5kYTk2IiwiYSI6ImNrNnhnaHhtaDBpMHIza284cjY2djFtZzIifQ.6JXJfAP7R3Lz7vBZpNhc9w\", \"bearing\": 0, \"center\": {\"lat\": 42.35, \"lon\": -71.07}, \"pitch\": 0, \"zoom\": 12}, \"template\": {\"data\": {\"bar\": [{\"error_x\": {\"color\": \"#2a3f5f\"}, \"error_y\": {\"color\": \"#2a3f5f\"}, \"marker\": {\"line\": {\"color\": \"#E5ECF6\", \"width\": 0.5}}, \"type\": \"bar\"}], \"barpolar\": [{\"marker\": {\"line\": {\"color\": \"#E5ECF6\", \"width\": 0.5}}, \"type\": \"barpolar\"}], \"carpet\": [{\"aaxis\": {\"endlinecolor\": \"#2a3f5f\", \"gridcolor\": \"white\", \"linecolor\": \"white\", \"minorgridcolor\": \"white\", \"startlinecolor\": \"#2a3f5f\"}, \"baxis\": {\"endlinecolor\": \"#2a3f5f\", \"gridcolor\": \"white\", \"linecolor\": \"white\", \"minorgridcolor\": \"white\", \"startlinecolor\": \"#2a3f5f\"}, \"type\": \"carpet\"}], \"choropleth\": [{\"colorbar\": {\"outlinewidth\": 0, \"ticks\": \"\"}, \"type\": \"choropleth\"}], \"contour\": [{\"colorbar\": {\"outlinewidth\": 0, \"ticks\": \"\"}, \"colorscale\": [[0.0, \"#0d0887\"], [0.1111111111111111, \"#46039f\"], [0.2222222222222222, \"#7201a8\"], [0.3333333333333333, \"#9c179e\"], [0.4444444444444444, \"#bd3786\"], [0.5555555555555556, \"#d8576b\"], [0.6666666666666666, \"#ed7953\"], [0.7777777777777778, \"#fb9f3a\"], [0.8888888888888888, \"#fdca26\"], [1.0, \"#f0f921\"]], \"type\": \"contour\"}], \"contourcarpet\": [{\"colorbar\": {\"outlinewidth\": 0, \"ticks\": \"\"}, \"type\": \"contourcarpet\"}], \"heatmap\": [{\"colorbar\": {\"outlinewidth\": 0, \"ticks\": \"\"}, \"colorscale\": [[0.0, \"#0d0887\"], [0.1111111111111111, \"#46039f\"], [0.2222222222222222, \"#7201a8\"], [0.3333333333333333, \"#9c179e\"], [0.4444444444444444, \"#bd3786\"], [0.5555555555555556, \"#d8576b\"], [0.6666666666666666, \"#ed7953\"], [0.7777777777777778, \"#fb9f3a\"], [0.8888888888888888, \"#fdca26\"], [1.0, \"#f0f921\"]], \"type\": \"heatmap\"}], \"heatmapgl\": [{\"colorbar\": {\"outlinewidth\": 0, \"ticks\": \"\"}, \"colorscale\": [[0.0, \"#0d0887\"], [0.1111111111111111, \"#46039f\"], [0.2222222222222222, \"#7201a8\"], [0.3333333333333333, \"#9c179e\"], [0.4444444444444444, \"#bd3786\"], [0.5555555555555556, \"#d8576b\"], [0.6666666666666666, \"#ed7953\"], [0.7777777777777778, \"#fb9f3a\"], [0.8888888888888888, \"#fdca26\"], [1.0, \"#f0f921\"]], \"type\": \"heatmapgl\"}], \"histogram\": [{\"marker\": {\"colorbar\": {\"outlinewidth\": 0, \"ticks\": \"\"}}, \"type\": \"histogram\"}], \"histogram2d\": [{\"colorbar\": {\"outlinewidth\": 0, \"ticks\": \"\"}, \"colorscale\": [[0.0, \"#0d0887\"], [0.1111111111111111, \"#46039f\"], [0.2222222222222222, \"#7201a8\"], [0.3333333333333333, \"#9c179e\"], [0.4444444444444444, \"#bd3786\"], [0.5555555555555556, \"#d8576b\"], [0.6666666666666666, \"#ed7953\"], [0.7777777777777778, \"#fb9f3a\"], [0.8888888888888888, \"#fdca26\"], [1.0, \"#f0f921\"]], \"type\": \"histogram2d\"}], \"histogram2dcontour\": [{\"colorbar\": {\"outlinewidth\": 0, \"ticks\": \"\"}, \"colorscale\": [[0.0, \"#0d0887\"], [0.1111111111111111, \"#46039f\"], [0.2222222222222222, \"#7201a8\"], [0.3333333333333333, \"#9c179e\"], [0.4444444444444444, \"#bd3786\"], [0.5555555555555556, \"#d8576b\"], [0.6666666666666666, \"#ed7953\"], [0.7777777777777778, \"#fb9f3a\"], [0.8888888888888888, \"#fdca26\"], [1.0, \"#f0f921\"]], \"type\": \"histogram2dcontour\"}], \"mesh3d\": [{\"colorbar\": {\"outlinewidth\": 0, \"ticks\": \"\"}, \"type\": \"mesh3d\"}], \"parcoords\": [{\"line\": {\"colorbar\": {\"outlinewidth\": 0, \"ticks\": \"\"}}, \"type\": \"parcoords\"}], \"pie\": [{\"automargin\": true, \"type\": \"pie\"}], \"scatter\": [{\"marker\": {\"colorbar\": {\"outlinewidth\": 0, \"ticks\": \"\"}}, \"type\": \"scatter\"}], \"scatter3d\": [{\"line\": {\"colorbar\": {\"outlinewidth\": 0, \"ticks\": \"\"}}, \"marker\": {\"colorbar\": {\"outlinewidth\": 0, \"ticks\": \"\"}}, \"type\": \"scatter3d\"}], \"scattercarpet\": [{\"marker\": {\"colorbar\": {\"outlinewidth\": 0, \"ticks\": \"\"}}, \"type\": \"scattercarpet\"}], \"scattergeo\": [{\"marker\": {\"colorbar\": {\"outlinewidth\": 0, \"ticks\": \"\"}}, \"type\": \"scattergeo\"}], \"scattergl\": [{\"marker\": {\"colorbar\": {\"outlinewidth\": 0, \"ticks\": \"\"}}, \"type\": \"scattergl\"}], \"scattermapbox\": [{\"marker\": {\"colorbar\": {\"outlinewidth\": 0, \"ticks\": \"\"}}, \"type\": \"scattermapbox\"}], \"scatterpolar\": [{\"marker\": {\"colorbar\": {\"outlinewidth\": 0, \"ticks\": \"\"}}, \"type\": \"scatterpolar\"}], \"scatterpolargl\": [{\"marker\": {\"colorbar\": {\"outlinewidth\": 0, \"ticks\": \"\"}}, \"type\": \"scatterpolargl\"}], \"scatterternary\": [{\"marker\": {\"colorbar\": {\"outlinewidth\": 0, \"ticks\": \"\"}}, \"type\": \"scatterternary\"}], \"surface\": [{\"colorbar\": {\"outlinewidth\": 0, \"ticks\": \"\"}, \"colorscale\": [[0.0, \"#0d0887\"], [0.1111111111111111, \"#46039f\"], [0.2222222222222222, \"#7201a8\"], [0.3333333333333333, \"#9c179e\"], [0.4444444444444444, \"#bd3786\"], [0.5555555555555556, \"#d8576b\"], [0.6666666666666666, \"#ed7953\"], [0.7777777777777778, \"#fb9f3a\"], [0.8888888888888888, \"#fdca26\"], [1.0, \"#f0f921\"]], \"type\": \"surface\"}], \"table\": [{\"cells\": {\"fill\": {\"color\": \"#EBF0F8\"}, \"line\": {\"color\": \"white\"}}, \"header\": {\"fill\": {\"color\": \"#C8D4E3\"}, \"line\": {\"color\": \"white\"}}, \"type\": \"table\"}]}, \"layout\": {\"annotationdefaults\": {\"arrowcolor\": \"#2a3f5f\", \"arrowhead\": 0, \"arrowwidth\": 1}, \"coloraxis\": {\"colorbar\": {\"outlinewidth\": 0, \"ticks\": \"\"}}, \"colorscale\": {\"diverging\": [[0, \"#8e0152\"], [0.1, \"#c51b7d\"], [0.2, \"#de77ae\"], [0.3, \"#f1b6da\"], [0.4, \"#fde0ef\"], [0.5, \"#f7f7f7\"], [0.6, \"#e6f5d0\"], [0.7, \"#b8e186\"], [0.8, \"#7fbc41\"], [0.9, \"#4d9221\"], [1, \"#276419\"]], \"sequential\": [[0.0, \"#0d0887\"], [0.1111111111111111, \"#46039f\"], [0.2222222222222222, \"#7201a8\"], [0.3333333333333333, \"#9c179e\"], [0.4444444444444444, \"#bd3786\"], [0.5555555555555556, \"#d8576b\"], [0.6666666666666666, \"#ed7953\"], [0.7777777777777778, \"#fb9f3a\"], [0.8888888888888888, \"#fdca26\"], [1.0, \"#f0f921\"]], \"sequentialminus\": [[0.0, \"#0d0887\"], [0.1111111111111111, \"#46039f\"], [0.2222222222222222, \"#7201a8\"], [0.3333333333333333, \"#9c179e\"], [0.4444444444444444, \"#bd3786\"], [0.5555555555555556, \"#d8576b\"], [0.6666666666666666, \"#ed7953\"], [0.7777777777777778, \"#fb9f3a\"], [0.8888888888888888, \"#fdca26\"], [1.0, \"#f0f921\"]]}, \"colorway\": [\"#636efa\", \"#EF553B\", \"#00cc96\", \"#ab63fa\", \"#FFA15A\", \"#19d3f3\", \"#FF6692\", \"#B6E880\", \"#FF97FF\", \"#FECB52\"], \"font\": {\"color\": \"#2a3f5f\"}, \"geo\": {\"bgcolor\": \"white\", \"lakecolor\": \"white\", \"landcolor\": \"#E5ECF6\", \"showlakes\": true, \"showland\": true, \"subunitcolor\": \"white\"}, \"hoverlabel\": {\"align\": \"left\"}, \"hovermode\": \"closest\", \"mapbox\": {\"style\": \"light\"}, \"paper_bgcolor\": \"white\", \"plot_bgcolor\": \"#E5ECF6\", \"polar\": {\"angularaxis\": {\"gridcolor\": \"white\", \"linecolor\": \"white\", \"ticks\": \"\"}, \"bgcolor\": \"#E5ECF6\", \"radialaxis\": {\"gridcolor\": \"white\", \"linecolor\": \"white\", \"ticks\": \"\"}}, \"scene\": {\"xaxis\": {\"backgroundcolor\": \"#E5ECF6\", \"gridcolor\": \"white\", \"gridwidth\": 2, \"linecolor\": \"white\", \"showbackground\": true, \"ticks\": \"\", \"zerolinecolor\": \"white\"}, \"yaxis\": {\"backgroundcolor\": \"#E5ECF6\", \"gridcolor\": \"white\", \"gridwidth\": 2, \"linecolor\": \"white\", \"showbackground\": true, \"ticks\": \"\", \"zerolinecolor\": \"white\"}, \"zaxis\": {\"backgroundcolor\": \"#E5ECF6\", \"gridcolor\": \"white\", \"gridwidth\": 2, \"linecolor\": \"white\", \"showbackground\": true, \"ticks\": \"\", \"zerolinecolor\": \"white\"}}, \"shapedefaults\": {\"line\": {\"color\": \"#2a3f5f\"}}, \"ternary\": {\"aaxis\": {\"gridcolor\": \"white\", \"linecolor\": \"white\", \"ticks\": \"\"}, \"baxis\": {\"gridcolor\": \"white\", \"linecolor\": \"white\", \"ticks\": \"\"}, \"bgcolor\": \"#E5ECF6\", \"caxis\": {\"gridcolor\": \"white\", \"linecolor\": \"white\", \"ticks\": \"\"}}, \"title\": {\"x\": 0.05}, \"xaxis\": {\"automargin\": true, \"gridcolor\": \"white\", \"linecolor\": \"white\", \"ticks\": \"\", \"title\": {\"standoff\": 15}, \"zerolinecolor\": \"white\", \"zerolinewidth\": 2}, \"yaxis\": {\"automargin\": true, \"gridcolor\": \"white\", \"linecolor\": \"white\", \"ticks\": \"\", \"title\": {\"standoff\": 15}, \"zerolinecolor\": \"white\", \"zerolinewidth\": 2}}}},\n",
       "                        {\"responsive\": true}\n",
       "                    ).then(function(){\n",
       "                            \n",
       "var gd = document.getElementById('82dba02a-3423-41f5-8738-033c9cc42c59');\n",
       "var x = new MutationObserver(function (mutations, observer) {{\n",
       "        var display = window.getComputedStyle(gd).display;\n",
       "        if (!display || display === 'none') {{\n",
       "            console.log([gd, 'removed!']);\n",
       "            Plotly.purge(gd);\n",
       "            observer.disconnect();\n",
       "        }}\n",
       "}});\n",
       "\n",
       "// Listen for the removal of the full notebook cells\n",
       "var notebookContainer = gd.closest('#notebook-container');\n",
       "if (notebookContainer) {{\n",
       "    x.observe(notebookContainer, {childList: true});\n",
       "}}\n",
       "\n",
       "// Listen for the clearing of the current output cell\n",
       "var outputEl = gd.closest('.output');\n",
       "if (outputEl) {{\n",
       "    x.observe(outputEl, {childList: true});\n",
       "}}\n",
       "\n",
       "                        })\n",
       "                };\n",
       "                });\n",
       "            </script>\n",
       "        </div>"
      ]
     },
     "metadata": {},
     "output_type": "display_data"
    }
   ],
   "source": [
    "mapbox_access_token = \"pk.eyJ1IjoiamFjaW5kYTk2IiwiYSI6ImNrNnhnaHhtaDBpMHIza284cjY2djFtZzIifQ.6JXJfAP7R3Lz7vBZpNhc9w\"\n",
    "\n",
    "fig = go.Figure(go.Scattermapbox(\n",
    "        lat=dest_lat,\n",
    "        lon=dest_lon,\n",
    "        mode='markers',\n",
    "        marker=go.scattermapbox.Marker(\n",
    "            size=9\n",
    "        ),\n",
    "        text=[\"Fenway\",\"South Station\",\"Boston University\",\n",
    "            \"North End\",\"Haymarket Square\",\"Northeastern University\",\n",
    "             \"Financial District\",\"West End\",\"Beacon Hill\",\n",
    "             \"Theatre District\",\"Back Bay\",\"North Station\"],\n",
    "    ))\n",
    "\n",
    "fig.update_layout(\n",
    "    autosize=True,\n",
    "    hovermode='closest',\n",
    "    mapbox=dict(\n",
    "        accesstoken=mapbox_access_token,\n",
    "        bearing=0,\n",
    "        center=dict(\n",
    "            lat=42.35,\n",
    "            lon=-71.07\n",
    "        ),\n",
    "        pitch=0,\n",
    "        zoom=12\n",
    "    ),\n",
    ")\n",
    "\n",
    "fig.show()"
   ]
  },
  {
   "cell_type": "code",
   "execution_count": 26,
   "metadata": {},
   "outputs": [],
   "source": [
    "import psutil\n",
    "fig.write_image(\"./chart/boston_map.png\")"
   ]
  },
  {
   "cell_type": "markdown",
   "metadata": {},
   "source": [
    "# Data Distribution"
   ]
  },
  {
   "cell_type": "code",
   "execution_count": 5,
   "metadata": {},
   "outputs": [
    {
     "data": {
      "text/plain": [
       "Text(0.5,1,'Cab type distribution')"
      ]
     },
     "execution_count": 5,
     "metadata": {},
     "output_type": "execute_result"
    },
    {
     "data": {
      "image/png": "[encoded data removed]",
      "text/plain": [
       "<Figure size 576x576 with 1 Axes>"
      ]
     },
     "metadata": {},
     "output_type": "display_data"
    }
   ],
   "source": [
    "import pylab\n",
    "import seaborn as sns\n",
    "pylab.rcParams['figure.figsize'] = (8.0, 8.0)\n",
    "type_distribution = data_train[\"cab_type\"].value_counts()\n",
    "plt.pie(type_distribution,radius=None,labels=[\"Uber\", \"Lyft\"],colors=[\"#ffc0cb\",\"#26d3f6\"])\n",
    "# plt.ylabel('Nums of routes')\n",
    "# plt.xlabel(\"Cab_name\")\n",
    "plt.title('Cab type distribution')"
   ]
  },
  {
   "cell_type": "code",
   "execution_count": null,
   "metadata": {},
   "outputs": [],
   "source": [
    "pylab.rcParams['figure.figsize'] = (15.0, 8.0)\n",
    "name_distribution = data_train[\"name\"].value_counts()\n",
    "sns.barplot(name_distribution.index, name_distribution.values)\n",
    "plt.ylabel('Nums of routes')\n",
    "plt.xlabel(\"Cab_name\")\n",
    "plt.title('Cab name distribution')"
   ]
  },
  {
   "cell_type": "code",
   "execution_count": 37,
   "metadata": {},
   "outputs": [
    {
     "data": {
      "text/plain": [
       "Text(0.5,1,'Distance distribution')"
      ]
     },
     "execution_count": 37,
     "metadata": {},
     "output_type": "execute_result"
    },
    {
     "data": {
      "image/png": "[encoded data removed]",
      "text/plain": [
       "<Figure size 1080x576 with 1 Axes>"
      ]
     },
     "metadata": {},
     "output_type": "display_data"
    }
   ],
   "source": [
    "distance_distribution = data_train[\"distance\"]\n",
    "dist_range=list(range(0,9,1))\n",
    "distance_distribution=pd.cut(distance_distribution,dist_range,right=True)\n",
    "distance_distribution = distance_distribution.value_counts()\n",
    "sns.barplot(distance_distribution.index, distance_distribution.values)\n",
    "plt.ylabel('Nums of routes')\n",
    "plt.xlabel(\"Distance\")\n",
    "plt.title('Distance distribution')"
   ]
  },
  {
   "cell_type": "code",
   "execution_count": 38,
   "metadata": {},
   "outputs": [
    {
     "data": {
      "text/plain": [
       "Text(0.5,1,'Weekday distribution')"
      ]
     },
     "execution_count": 38,
     "metadata": {},
     "output_type": "execute_result"
    },
    {
     "data": {
      "image/png": "[encoded data removed]",
      "text/plain": [
       "<Figure size 1080x576 with 1 Axes>"
      ]
     },
     "metadata": {},
     "output_type": "display_data"
    }
   ],
   "source": [
    "weekday_distribution = data_train[\"weekday\"].value_counts()\n",
    "sns.barplot(weekday_distribution.index, weekday_distribution.values)\n",
    "plt.ylabel('Nums of routes')\n",
    "plt.xlabel(\"Weekday\")\n",
    "plt.title('Weekday distribution')"
   ]
  },
  {
   "cell_type": "code",
   "execution_count": 40,
   "metadata": {},
   "outputs": [
    {
     "data": {
      "text/plain": [
       "Text(0.5,1,'Price distribution')"
      ]
     },
     "execution_count": 40,
     "metadata": {},
     "output_type": "execute_result"
    },
    {
     "data": {
      "image/png": "[encoded data removed]",
      "text/plain": [
       "<Figure size 1080x576 with 1 Axes>"
      ]
     },
     "metadata": {},
     "output_type": "display_data"
    }
   ],
   "source": [
    "price_distribution = data_train[\"price\"]\n",
    "price_range=list(range(0,70,5))\n",
    "price_distribution=pd.cut(price_distribution,price_range,right=True)\n",
    "price_distribution = price_distribution.value_counts()\n",
    "sns.barplot(price_distribution.index, price_distribution.values)\n",
    "plt.ylabel('Nums of routes')\n",
    "plt.xlabel(\"Price\")\n",
    "plt.title('Price distribution')"
   ]
  },
  {
   "cell_type": "code",
   "execution_count": null,
   "metadata": {},
   "outputs": [],
   "source": [
    "surge_weekday = sns.scatterplot(x=data_train[\"weekday\"], y=data_train[\"surge_multiplier\"],\n",
    "                            data=data_train,hue=data_train[\"cab_type\"], hue_order=data_train[\"cab_type\"])"
   ]
  },
  {
   "cell_type": "markdown",
   "metadata": {},
   "source": [
    "# Price Prediction"
   ]
  },
  {
   "cell_type": "code",
   "execution_count": 1,
   "metadata": {},
   "outputs": [],
   "source": [
    "import pandas as pd\n",
    "import numpy as np\n",
    "data_train = pd.read_csv(\"./data_merged.csv\",delimiter=',')\n",
    "data_train['rain'] = data_train.apply(lambda x: int(x['rain']>0.1), axis = 1)\n",
    "data_train = data_train[data_train['name'] != \"Taxi\"]\n",
    "# Random Shuffle\n",
    "data_train = data_train.sample(frac=1).reset_index(drop=True)"
   ]
  },
  {
   "cell_type": "code",
   "execution_count": 2,
   "metadata": {},
   "outputs": [],
   "source": [
    "X_cab_type = data_train['cab_type'].tolist()\n",
    "X_des = data_train['destination'].tolist()\n",
    "X_source = data_train['source'].tolist()\n",
    "X_dist = data_train['distance'].tolist()\n",
    "X_name = data_train['name'].tolist()\n",
    "X_time = data_train['time'].tolist()\n",
    "X_weekday = data_train['weekday'].tolist()\n",
    "X_temp = data_train['temp'].tolist()\n",
    "X_clouds = data_train['clouds'].tolist()\n",
    "X_rain = data_train['rain'].tolist()\n",
    "X_humidity = data_train['humidity'].tolist()\n",
    "X_wind = data_train['wind'].tolist()"
   ]
  },
  {
   "cell_type": "code",
   "execution_count": 3,
   "metadata": {},
   "outputs": [],
   "source": [
    "cab_type_map = {\"Lyft\":0, \"Uber\":1}\n",
    "loc_type = {\"North Station\":0, \"South Station\":1, \"North End\":2, \"Northeastern University\":3, \"Boston University\":4,\n",
    "           \"Back Bay\":5, \"Beacon Hill\":6, \"Fenway\":7,\"Financial District\":8, \"Haymarket Square\":9,\"West End\":10,\n",
    "            \"Theatre District\":11}\n",
    "name_type = {\"Shared\":0, \"Lux\":1, \"Lux Black XL\":2, \"Lyft XL\":3, \"Lux Black\":4, \"Lyft\":5, \"UberPool\":6,\"UberX\":7,\n",
    "             \"UberXL\":8,\"Black\":9,\"Black SUV\":10, \"WAV\":11}"
   ]
  },
  {
   "cell_type": "code",
   "execution_count": 4,
   "metadata": {},
   "outputs": [],
   "source": [
    "X_cab_type = [cab_type_map[i] for i in X_cab_type]\n",
    "X_des = [loc_type[i] for i in X_des]\n",
    "X_source = [loc_type[i] for i in X_source]\n",
    "X_name = [name_type[i] for i in X_name]\n",
    "X_time = [int(i.split(':')[0])*24+int(i.split(':')[1]) for i in X_time]"
   ]
  },
  {
   "cell_type": "code",
   "execution_count": 5,
   "metadata": {},
   "outputs": [],
   "source": [
    "X = np.column_stack((X_des,X_source,X_name,X_time,X_weekday,X_rain))\n",
    "X = X.tolist()\n",
    "Y = data_train['price'].tolist()\n",
    "# Y = [int(i) for i in Y]\n",
    "\n",
    "# Data spliting\n",
    "from sklearn.model_selection import train_test_split\n",
    "X_train, X_valid, Y_train, Y_valid = train_test_split(X,Y,test_size=0.2,random_state = 43)"
   ]
  },
  {
   "cell_type": "markdown",
   "metadata": {},
   "source": [
    "# RandomForest "
   ]
  },
  {
   "cell_type": "code",
   "execution_count": 6,
   "metadata": {},
   "outputs": [
    {
     "name": "stderr",
     "output_type": "stream",
     "text": [
      "/Users/apple/Library/Python/3.6/lib/python/site-packages/sklearn/ensemble/weight_boosting.py:29: DeprecationWarning: numpy.core.umath_tests is an internal NumPy module and should not be imported. It will be removed in a future NumPy release.\n",
      "  from numpy.core.umath_tests import inner1d\n"
     ]
    }
   ],
   "source": [
    "# Import the model we are using\n",
    "from sklearn.ensemble import RandomForestRegressor,RandomForestClassifier"
   ]
  },
  {
   "cell_type": "code",
   "execution_count": 7,
   "metadata": {},
   "outputs": [],
   "source": [
    "#test data \n",
    "data_test = pd.read_csv(\"./data_test.csv\",delimiter=',')\n",
    "X_des_test = data_test['destination'].tolist()\n",
    "X_source_test = data_test['source'].tolist()\n",
    "X_name_test = data_test['name'].tolist()\n",
    "X_time_test = data_test['time'].tolist()\n",
    "X_weekday_test = data_test['weekday'].tolist()\n",
    "X_temp_test = data_test['temp'].tolist()\n",
    "X_clouds_test = data_test['clouds'].tolist()\n",
    "X_rain_test = data_test['rain'].tolist()\n",
    "X_humidity_test = data_test['humidity'].tolist()\n",
    "X_wind_test = data_test['wind'].tolist()"
   ]
  },
  {
   "cell_type": "code",
   "execution_count": 8,
   "metadata": {},
   "outputs": [],
   "source": [
    "X_des_test = [loc_type[i] for i in X_des_test]\n",
    "X_source_test = [loc_type[i] for i in X_source_test]\n",
    "X_name_test = [name_type[i] for i in X_name_test]\n",
    "X_time_test = [int(i.split(':')[0])*24+int(i.split(':')[1]) for i in X_time_test]"
   ]
  },
  {
   "cell_type": "code",
   "execution_count": 9,
   "metadata": {},
   "outputs": [],
   "source": [
    "X_test = np.column_stack((X_des_test,X_source_test,X_name_test,X_time_test,X_weekday_test,X_rain_test))\n",
    "Y_test = data_test['price'].tolist()"
   ]
  },
  {
   "cell_type": "code",
   "execution_count": 10,
   "metadata": {},
   "outputs": [],
   "source": [
    "rf = RandomForestRegressor(n_estimators = 1000, random_state = 42)\n",
    "rf.fit(X_train[:50000], Y_train[:50000]);"
   ]
  },
  {
   "cell_type": "code",
   "execution_count": 11,
   "metadata": {},
   "outputs": [
    {
     "name": "stdout",
     "output_type": "stream",
     "text": [
      "Training Mean Absolute Error: 0.6 degrees.\n",
      "Validation Mean Absolute Error: 1.61 degrees.\n",
      "Test Mean Absolute Error: 2.28 degrees.\n",
      "Train Accuracy: 96.01 %.\n",
      "Valid Accuracy: 89.43 %.\n",
      "Test Accuracy: 82.0 %.\n"
     ]
    }
   ],
   "source": [
    "Y_predict_train = rf.predict(X_train[:50000])\n",
    "errors_train = abs(Y_predict_train - Y_train[:50000])\n",
    "print('Training Mean Absolute Error:', round(np.mean(errors_train), 2), 'degrees.')\n",
    "Y_predict_valid = rf.predict(X_valid)\n",
    "errors_valid = abs(Y_valid - Y_predict_valid)\n",
    "print('Validation Mean Absolute Error:', round(np.mean(errors_valid), 2), 'degrees.')\n",
    "Y_test_predict = rf.predict(X_test)\n",
    "errors_test = abs(Y_test - Y_test_predict)\n",
    "print('Test Mean Absolute Error:', round(np.mean(errors_test), 2), 'degrees.')\n",
    "\n",
    "mape_train = 100 * (errors_train / Y_train[:50000])\n",
    "accuracy_train = 100 - np.mean(mape_train)\n",
    "print('Train Accuracy:', round(accuracy_train, 2), '%.')\n",
    "\n",
    "mape_valid = 100 * (errors_valid / Y_valid)\n",
    "accuracy_valid = 100 - np.mean(mape_valid)\n",
    "print('Valid Accuracy:', round(accuracy_valid, 2), '%.')\n",
    "\n",
    "mape_test = 100 * (errors_test / Y_test)\n",
    "accuracy_test = 100 - np.mean(mape_test)\n",
    "print('Test Accuracy:', round(accuracy_test, 2), '%.')"
   ]
  },
  {
   "cell_type": "code",
   "execution_count": 29,
   "metadata": {},
   "outputs": [
    {
     "data": {
      "text/plain": [
       "Text(0.5,1,'Test Set price prediction')"
      ]
     },
     "execution_count": 29,
     "metadata": {},
     "output_type": "execute_result"
    },
    {
     "data": {
      "image/png": "[encoded data removed]",
      "text/plain": [
       "<Figure size 432x288 with 1 Axes>"
      ]
     },
     "metadata": {},
     "output_type": "display_data"
    }
   ],
   "source": [
    "import seaborn as sns\n",
    "sns.lineplot(range(200),Y_test_predict[:200],label=\"Predicted Price\")\n",
    "sns.lineplot(range(200),Y_test[:200],label=\"Actual Price\")\n",
    "plt.legend(loc=\"upper left\")\n",
    "plt.ylabel('Price')\n",
    "plt.xlabel(\"index\")\n",
    "plt.title('Test Set price prediction')"
   ]
  },
  {
   "cell_type": "markdown",
   "metadata": {},
   "source": [
    "# SVM"
   ]
  },
  {
   "cell_type": "code",
   "execution_count": 30,
   "metadata": {},
   "outputs": [
    {
     "data": {
      "text/plain": [
       "SVC(C=1.0, cache_size=200, class_weight=None, coef0=0.0,\n",
       "  decision_function_shape='ovr', degree=3, gamma='auto', kernel='rbf',\n",
       "  max_iter=-1, probability=False, random_state=None, shrinking=True,\n",
       "  tol=0.001, verbose=False)"
      ]
     },
     "execution_count": 30,
     "metadata": {},
     "output_type": "execute_result"
    }
   ],
   "source": [
    "from sklearn.svm import SVC\n",
    "from sklearn.model_selection import train_test_split\n",
    "Y = [int(i) for i in Y]\n",
    "X_train, X_valid, Y_train, Y_valid = train_test_split(X,Y,test_size=0.2,random_state = 43)\n",
    "clf = SVC(gamma='auto')\n",
    "clf.fit(X_train[:50000], Y_train[:50000])\n",
    "SVC(gamma='auto')"
   ]
  },
  {
   "cell_type": "code",
   "execution_count": 31,
   "metadata": {},
   "outputs": [
    {
     "name": "stdout",
     "output_type": "stream",
     "text": [
      "Training Mean Absolute Error: 3.06 degrees.\n",
      "Valid Mean Absolute Error: 6.64 degrees.\n",
      "Test Mean Absolute Error: 6.01 degrees.\n",
      "Train Accuracy: 84.56 %.\n",
      "Valid Accuracy: 59.77 %.\n",
      "Test Accuracy: 61.56 %.\n"
     ]
    }
   ],
   "source": [
    "Y_predict_train = clf.predict(X_train[:50000])\n",
    "errors_train = abs(Y_predict_train - Y_train[:50000])\n",
    "print('Training Mean Absolute Error:', round(np.mean(errors_train), 2), 'degrees.')\n",
    "Y_predict_valid = clf.predict(X_valid[:10000])\n",
    "errors_valid = abs(Y_valid[:10000] - Y_predict_valid)\n",
    "print('Valid Mean Absolute Error:', round(np.mean(errors_valid), 2), 'degrees.')\n",
    "Y_test_predict = clf.predict(X_test)\n",
    "errors_test = abs(Y_test - Y_test_predict)\n",
    "print('Test Mean Absolute Error:', round(np.mean(errors_test), 2), 'degrees.')\n",
    "\n",
    "\n",
    "mape_svm_train = 100 * (errors_train / Y_train[:50000])\n",
    "accuracy_train = 100 - np.mean(mape_svm_train)\n",
    "print('Train Accuracy:', round(accuracy_train, 2), '%.')\n",
    "\n",
    "mape_svm_valid = 100 * (errors_valid / Y_valid[:10000])\n",
    "accuracy_svm_valid = 100 - np.mean(mape_svm_valid)\n",
    "print('Valid Accuracy:', round(accuracy_svm_valid, 2), '%.')\n",
    "\n",
    "mape_svm_test = 100 * (errors_test / Y_test)\n",
    "accuracy_test = 100 - np.mean(mape_svm_test)\n",
    "print('Test Accuracy:', round(accuracy_test, 2), '%.')"
   ]
  },
  {
   "cell_type": "code",
   "execution_count": 32,
   "metadata": {},
   "outputs": [
    {
     "data": {
      "text/plain": [
       "Text(0.5,1,'Test Set price prediction')"
      ]
     },
     "execution_count": 32,
     "metadata": {},
     "output_type": "execute_result"
    },
    {
     "data": {
      "image/png": "[encoded data removed]",
      "text/plain": [
       "<Figure size 432x288 with 1 Axes>"
      ]
     },
     "metadata": {},
     "output_type": "display_data"
    }
   ],
   "source": [
    "sns.lineplot(range(200),Y_test_predict[:200],label=\"Predicted Price\")\n",
    "sns.lineplot(range(200),Y_test[:200],label=\"Actual Price\")\n",
    "plt.legend(loc=\"upper left\")\n",
    "plt.ylabel('Price')\n",
    "plt.xlabel(\"index\")\n",
    "plt.title('Test Set price prediction')"
   ]
  },
  {
   "cell_type": "markdown",
   "metadata": {},
   "source": [
    "# Decision tree"
   ]
  },
  {
   "cell_type": "code",
   "execution_count": 33,
   "metadata": {},
   "outputs": [],
   "source": [
    "from sklearn import tree\n",
    "clf =tree.DecisionTreeClassifier()\n",
    "clf = clf.fit(X_train, Y_train)"
   ]
  },
  {
   "cell_type": "code",
   "execution_count": 34,
   "metadata": {},
   "outputs": [
    {
     "name": "stdout",
     "output_type": "stream",
     "text": [
      "Training Mean Absolute Error: 0.22 degrees.\n",
      "Valid Mean Absolute Error: 1.04 degrees.\n",
      "Test Mean Absolute Error: 2.67 degrees.\n",
      "Train Accuracy: 98.67 %.\n",
      "Valid Accuracy: 93.01 %.\n",
      "Test Accuracy: 79.58 %.\n"
     ]
    }
   ],
   "source": [
    "Y_predict_train = clf.predict(X_train)\n",
    "errors_train = abs(Y_predict_train - Y_train)\n",
    "print('Training Mean Absolute Error:', round(np.mean(errors_train), 2), 'degrees.')\n",
    "\n",
    "Y_predict_valid = clf.predict(X_valid)\n",
    "errors_valid = abs(Y_valid - Y_predict_valid)\n",
    "print('Valid Mean Absolute Error:', round(np.mean(errors_valid), 2), 'degrees.')\n",
    "\n",
    "Y_test_predict = clf.predict(X_test)\n",
    "errors_test = abs(Y_test - Y_test_predict)\n",
    "print('Test Mean Absolute Error:', round(np.mean(errors_test), 2), 'degrees.')\n",
    "\n",
    "mape_train = 100 * (errors_train / Y_train)\n",
    "accuracy_train = 100 - np.mean(mape_train)\n",
    "print('Train Accuracy:', round(accuracy_train, 2), '%.')\n",
    "\n",
    "mape_valid = 100 * (errors_valid / Y_valid)\n",
    "accuracy_valid = 100 - np.mean(mape_valid)\n",
    "print('Valid Accuracy:', round(accuracy_valid, 2), '%.')\n",
    "\n",
    "mape_test = 100 * (errors_test / Y_test)\n",
    "accuracy_test = 100 - np.mean(mape_test)\n",
    "print('Test Accuracy:', round(accuracy_test, 2), '%.')"
   ]
  },
  {
   "cell_type": "code",
   "execution_count": 35,
   "metadata": {},
   "outputs": [
    {
     "data": {
      "text/plain": [
       "Text(0.5,1,'Test Set price prediction')"
      ]
     },
     "execution_count": 35,
     "metadata": {},
     "output_type": "execute_result"
    },
    {
     "data": {
      "image/png": "[encoded data removed]",
      "text/plain": [
       "<Figure size 432x288 with 1 Axes>"
      ]
     },
     "metadata": {},
     "output_type": "display_data"
    }
   ],
   "source": [
    "sns.lineplot(range(200),Y_test_predict[:200],label=\"Predicted Price\")\n",
    "sns.lineplot(range(200),Y_test[:200],label=\"Actual Price\")\n",
    "plt.legend(loc=\"upper left\")\n",
    "plt.ylabel('Price')\n",
    "plt.xlabel(\"index\")\n",
    "plt.title('Test Set price prediction')"
   ]
  },
  {
   "cell_type": "code",
   "execution_count": null,
   "metadata": {},
   "outputs": [],
   "source": []
  }
 ],
 "metadata": {
  "kernelspec": {
   "display_name": "Python 3",
   "language": "python",
   "name": "python3"
  },
  "language_info": {
   "codemirror_mode": {
    "name": "ipython",
    "version": 3
   },
   "file_extension": ".py",
   "mimetype": "text/x-python",
   "name": "python",
   "nbconvert_exporter": "python",
   "pygments_lexer": "ipython3",
   "version": "3.6.2"
  }
 },
 "nbformat": 4,
 "nbformat_minor": 1
}
